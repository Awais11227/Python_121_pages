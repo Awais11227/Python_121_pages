{
 "cells": [
  {
   "cell_type": "markdown",
   "metadata": {},
   "source": [
    "# **✨ `Complete Python Learning Journey: From Basics to Advanced` ✨**\n",
    "### *By `Awais Manzoor`* "
   ]
  },
  {
   "cell_type": "markdown",
   "metadata": {},
   "source": [
    "## Overview\n",
    "This notebook contains a comprehensive collection of Python codes and concepts, starting from basic variables and data types to advanced topics like object-oriented programming, file handling, and serialization. It also includes practical mini-projects to demonstrate real-world applications.\n",
    "\n",
    "### Contents\n",
    "- Chapter 1: Variables and Data Types\n",
    "- Chapter 2: Loops and Control Statements\n",
    "- Chapter 3: Functions and Recursion\n",
    "- Chapter 4: Dictionaries and Tuples\n",
    "- Chapter 5: Conditional Statements\n",
    "- Chapter 6: Object-Oriented Programming (OOP)\n",
    "- Mini Projects (Student Management System, Library Management, Expense Tracker, etc.)\n",
    "- File Handling (JSON Serialization/Deserialization, Pickling)"
   ]
  },
  {
   "cell_type": "markdown",
   "metadata": {},
   "source": [
    "# Chapter 1 variables and data types"
   ]
  },
  {
   "cell_type": "code",
   "execution_count": 1,
   "metadata": {},
   "outputs": [
    {
     "name": "stdout",
     "output_type": "stream",
     "text": [
      "Hello world\n"
     ]
    }
   ],
   "source": [
    "print(\"Hello world\")"
   ]
  },
  {
   "cell_type": "code",
   "execution_count": 4,
   "metadata": {},
   "outputs": [
    {
     "name": "stdout",
     "output_type": "stream",
     "text": [
      "Sum is: 17\n"
     ]
    }
   ],
   "source": [
    "a = 8\n",
    "b = 9\n",
    "c = a+b\n",
    "print(\"Sum is:\", c)"
   ]
  },
  {
   "cell_type": "code",
   "execution_count": 6,
   "metadata": {},
   "outputs": [
    {
     "name": "stdout",
     "output_type": "stream",
     "text": [
      "The sum of 3 and 4 is 7\n"
     ]
    }
   ],
   "source": [
    "num1 = int(input('Enter a number: '))\n",
    "num2 = int(input('Enter another number: '))\n",
    "sum = num1 + num2\n",
    "print('The sum of', num1, 'and', num2, 'is', sum)\n"
   ]
  },
  {
   "cell_type": "code",
   "execution_count": 7,
   "metadata": {},
   "outputs": [
    {
     "name": "stdout",
     "output_type": "stream",
     "text": [
      "The sum of 5 and 8 is 13\n"
     ]
    }
   ],
   "source": [
    "num1 = int(input(\"enter your first number\"))\n",
    "num2 = int(input(\"enter second number\"))\n",
    "sum = num1 + num2\n",
    "print(\"The sum of\",num1, 'and', num2, 'is', sum)"
   ]
  },
  {
   "cell_type": "code",
   "execution_count": 8,
   "metadata": {},
   "outputs": [
    {
     "name": "stdout",
     "output_type": "stream",
     "text": [
      "The sum of 77 and 99 is 176\n"
     ]
    }
   ],
   "source": [
    "num1 = int(input(\"enter first number\"))\n",
    "num2 = int(input(\"enter other no \"))\n",
    "sum = num1 + num2\n",
    "print(f\"The sum of\", num1, 'and', num2, 'is', sum)"
   ]
  },
  {
   "cell_type": "code",
   "execution_count": 9,
   "metadata": {},
   "outputs": [
    {
     "name": "stdout",
     "output_type": "stream",
     "text": [
      "The sum of 1000 and 5000 is 6000\n"
     ]
    }
   ],
   "source": [
    "num1 = int(input('enter a number'))\n",
    "num2 = int(input('ENTER ANOTHER NUMBER:'))\n",
    "sum = num1 + num2\n",
    "print('The sum of', num1, 'and', num2, 'is', sum)"
   ]
  },
  {
   "cell_type": "code",
   "execution_count": 10,
   "metadata": {},
   "outputs": [
    {
     "name": "stdout",
     "output_type": "stream",
     "text": [
      "5 is of type <class 'int'>\n",
      "2.0 is of type <class 'float'>\n",
      "(1+2j) is of type <class 'complex'>\n"
     ]
    }
   ],
   "source": [
    "num1 = 5\n",
    "print(num1, 'is of type', type(num1))\n",
    "\n",
    "num2 = 2.0\n",
    "print(num2, 'is of type', type(num2))\n",
    "\n",
    "num3 = 1+2j\n",
    "print(num3, 'is of type', type(num3))"
   ]
  },
  {
   "cell_type": "code",
   "execution_count": 11,
   "metadata": {},
   "outputs": [
    {
     "name": "stdout",
     "output_type": "stream",
     "text": [
      "AWAIS MANZOOOR\n",
      "awais manzooor\n"
     ]
    }
   ],
   "source": [
    "name = (\"awais manzooor\")\n",
    "print(name.upper())\n",
    "print(name.lower())\n"
   ]
  },
  {
   "cell_type": "code",
   "execution_count": null,
   "metadata": {},
   "outputs": [
    {
     "name": "stdout",
     "output_type": "stream",
     "text": [
      "Corporate law\n"
     ]
    }
   ],
   "source": [
    "name_1= \"corporate\"\n",
    "name_2=\"law\"\n",
    "full_name = f\"{name_1} {name_2}\"\n",
    "print(full_name.capitalize())  "
   ]
  },
  {
   "cell_type": "code",
   "execution_count": 13,
   "metadata": {},
   "outputs": [
    {
     "name": "stdout",
     "output_type": "stream",
     "text": [
      "Languages:\n",
      "Python\n",
      "C\n",
      "javaScript\n"
     ]
    }
   ],
   "source": [
    "print(\"Languages:\\nPython\\nC\\njavaScript\")"
   ]
  },
  {
   "cell_type": "code",
   "execution_count": 14,
   "metadata": {},
   "outputs": [
    {
     "name": "stdout",
     "output_type": "stream",
     "text": [
      "Python\n",
      "\tPython\n"
     ]
    }
   ],
   "source": [
    "print(\"Python\")\n",
    "print(\"\\tPython\")"
   ]
  },
  {
   "cell_type": "code",
   "execution_count": 15,
   "metadata": {},
   "outputs": [
    {
     "name": "stdout",
     "output_type": "stream",
     "text": [
      "Awais Manzooor\n"
     ]
    }
   ],
   "source": [
    "name = \"awais manzooor\"\n",
    "print(name.title())"
   ]
  },
  {
   "cell_type": "code",
   "execution_count": 16,
   "metadata": {},
   "outputs": [
    {
     "name": "stdout",
     "output_type": "stream",
     "text": [
      "Awais Manzoor\n"
     ]
    }
   ],
   "source": [
    "first_name = \"Awais\"\n",
    "last_name = \"Manzoor\"\n",
    "full_name = f\"{first_name} {last_name}\"\n",
    "print(full_name)"
   ]
  },
  {
   "cell_type": "code",
   "execution_count": 17,
   "metadata": {},
   "outputs": [
    {
     "name": "stdout",
     "output_type": "stream",
     "text": [
      "Awais Manzoor\n"
     ]
    }
   ],
   "source": [
    "first_name = \"Awais\"\n",
    "last_name = \"Manzoor\"\n",
    "full_name = f\"{first_name} {last_name}\"\n",
    "print(full_name)"
   ]
  },
  {
   "cell_type": "code",
   "execution_count": 18,
   "metadata": {},
   "outputs": [
    {
     "name": "stdout",
     "output_type": "stream",
     "text": [
      "languages: \n",
      "tpython\n"
     ]
    }
   ],
   "source": [
    "print(\"languages: \\ntpython\")"
   ]
  },
  {
   "cell_type": "code",
   "execution_count": 19,
   "metadata": {},
   "outputs": [
    {
     "name": "stdout",
     "output_type": "stream",
     "text": [
      "languages: \tpython\n"
     ]
    }
   ],
   "source": [
    "print(\"languages: \\tpython\")"
   ]
  },
  {
   "cell_type": "code",
   "execution_count": 20,
   "metadata": {},
   "outputs": [
    {
     "name": "stdout",
     "output_type": "stream",
     "text": [
      "languages: \n",
      "python\n"
     ]
    }
   ],
   "source": [
    "print(\"languages: \\npython\")"
   ]
  },
  {
   "cell_type": "code",
   "execution_count": 21,
   "metadata": {},
   "outputs": [
    {
     "name": "stdout",
     "output_type": "stream",
     "text": [
      "languages: \n",
      "\tpython\n",
      "\tcooding\n",
      "\tc++\n"
     ]
    }
   ],
   "source": [
    "print(\"languages: \\n\\tpython\\n\\tcooding\\n\\tc++\")"
   ]
  },
  {
   "cell_type": "code",
   "execution_count": 22,
   "metadata": {},
   "outputs": [
    {
     "name": "stdout",
     "output_type": "stream",
     "text": [
      " python\n",
      "python \n",
      "python\n"
     ]
    }
   ],
   "source": [
    "fav_languages = ' python '                  # remove space right side.\n",
    "fav_languages = ' python '                  # remove space left side.\n",
    "fav_languages = ' python '                   # remove space both side. \n",
    "print(fav_languages.rstrip())\n",
    "print(fav_languages.lstrip())\n",
    "print(fav_languages.strip())"
   ]
  },
  {
   "cell_type": "markdown",
   "metadata": {},
   "source": [
    "#_**Float values**_"
   ]
  },
  {
   "cell_type": "code",
   "execution_count": 23,
   "metadata": {},
   "outputs": [
    {
     "name": "stdout",
     "output_type": "stream",
     "text": [
      "4.5\n",
      "-0.09999999999999964\n",
      "5.06\n",
      "0.9565217391304349\n",
      "6.131576709333357\n"
     ]
    }
   ],
   "source": [
    "print(2.2 + 2.3)\n",
    "print(2.2 - 2.3)\n",
    "print(2.2 * 2.3)\n",
    "print(2.2 / 2.3)\n",
    "print(2.2 ** 2.3)"
   ]
  },
  {
   "cell_type": "markdown",
   "metadata": {},
   "source": [
    "# Integers value."
   ]
  },
  {
   "cell_type": "code",
   "execution_count": 24,
   "metadata": {},
   "outputs": [
    {
     "name": "stdout",
     "output_type": "stream",
     "text": [
      "4\n",
      "0\n",
      "4\n",
      "4\n",
      "1.0\n"
     ]
    }
   ],
   "source": [
    "print(2 + 2)\n",
    "print(2 - 2)\n",
    "print(2 * 2)\n",
    "print(2 ** 2)\n",
    "print(2 / 2)"
   ]
  },
  {
   "cell_type": "code",
   "execution_count": 25,
   "metadata": {},
   "outputs": [
    {
     "name": "stdout",
     "output_type": "stream",
     "text": [
      "6.0 celsius = 42.8 fahrenheit\n"
     ]
    }
   ],
   "source": [
    "celsius = float(input(\"Enter temperature in celsius: \"))\n",
    "fahrenheit = (celsius * 9/5) + 32\n",
    "print(celsius,'celsius','=', fahrenheit,'fahrenheit')"
   ]
  },
  {
   "cell_type": "markdown",
   "metadata": {},
   "source": [
    "## Euclidean Distance"
   ]
  },
  {
   "cell_type": "code",
   "execution_count": 26,
   "metadata": {},
   "outputs": [
    {
     "name": "stdout",
     "output_type": "stream",
     "text": [
      "The distance between two points is  2.8284271247461903\n"
     ]
    }
   ],
   "source": [
    "# Euclidean Distance find out \n",
    "# 1. The distance between two points in a 2D plane\n",
    "x_1 = float(input(\"x_1 of x cordinate\"))\n",
    "y_1 = float(input(\"y_1 of y cordinate\"))\n",
    "x_2 = float(input(\"x_2 of x cordinate\"))\n",
    "y_2 = float(input(\"y_2 of y cordinate\"))\n",
    "d = (((x_2 - x_1)**2 + (y_2 - y_1)**2)**0.5)\n",
    "print(\"The distance between two points is \", d) \n",
    "            "
   ]
  },
  {
   "cell_type": "code",
   "execution_count": 27,
   "metadata": {},
   "outputs": [
    {
     "name": "stdout",
     "output_type": "stream",
     "text": [
      "\n",
      "Please wait a moment while I gather a list of all available modules...\n",
      "\n",
      "test_sqlite3: testing with SQLite version 3.43.1\n"
     ]
    },
    {
     "name": "stderr",
     "output_type": "stream",
     "text": [
      "c:\\Users\\hp\\AppData\\Local\\Programs\\Python\\Python312\\Lib\\pkgutil.py:78: UserWarning: \n",
      "The dash_core_components package is deprecated. Please replace\n",
      "`import dash_core_components as dcc` with `from dash import dcc`\n",
      "  __import__(info.name)\n",
      "c:\\Users\\hp\\AppData\\Local\\Programs\\Python\\Python312\\Lib\\pkgutil.py:78: UserWarning: \n",
      "The dash_html_components package is deprecated. Please replace\n",
      "`import dash_html_components as html` with `from dash import html`\n",
      "  __import__(info.name)\n",
      "c:\\Users\\hp\\AppData\\Local\\Programs\\Python\\Python312\\Lib\\pkgutil.py:78: UserWarning: \n",
      "The dash_table package is deprecated. Please replace\n",
      "`import dash_table` with `from dash import dash_table`\n",
      "\n",
      "Also, if you're using any of the table format helpers (e.g. Group), replace \n",
      "`from dash_table.Format import Group` with \n",
      "`from dash.dash_table.Format import Group`\n",
      "  __import__(info.name)\n",
      "c:\\Users\\hp\\AppData\\Local\\Programs\\Python\\Python312\\Lib\\site-packages\\fpdf\\__init__.py:40: UserWarning:\n",
      "\n",
      "You have both PyFPDF & fpdf2 installed. Both packages cannot be installed at the same time as they share the same module namespace. To only keep fpdf2, run: pip uninstall --yes pypdf && pip install --upgrade fpdf2\n",
      "\n",
      "c:\\Users\\hp\\AppData\\Local\\Programs\\Python\\Python312\\Lib\\site-packages\\pydantic\\experimental\\__init__.py:7: PydanticExperimentalWarning: This module is experimental, its contents are subject to change and deprecation.\n"
     ]
    },
    {
     "name": "stdout",
     "output_type": "stream",
     "text": [
      "pygame 2.6.1 (SDL 2.28.4, Python 3.12.2)\n",
      "Hello from the pygame community. https://www.pygame.org/contribute.html\n"
     ]
    },
    {
     "name": "stderr",
     "output_type": "stream",
     "text": [
      "WARNING\tTask(Task-4) setuptools.config._validate_pyproject.formats:formats.py:<module>()- Could not find an up-to-date installation of `packaging`. License expressions might not be validated. To enforce validation, please install `packaging>=24.2`.\n",
      "[2025-09-24 11:34:33,234] Could not find an up-to-date installation of `packaging`. License expressions might not be validated. To enforce validation, please install `packaging>=24.2`.\n"
     ]
    },
    {
     "name": "stdout",
     "output_type": "stream",
     "text": [
      "IPython             cohere              mdurl               sqlglot\n",
      "PIL                 collections         mergedeep           sqlite3\n",
      "__future__          colorama            mimetypes           squarify\n",
      "__hello__           colorsys            missingno           sre_compile\n",
      "__phello__          comm                mizani              sre_constants\n",
      "_abc                commctrl            mkdocs              sre_parse\n",
      "_aix_support        compileall          mkdocs_get_deps     ssl\n",
      "_ast                concurrent          mmap                sspi\n",
      "_asyncio            configparser        mmapfile            sspicon\n",
      "_bisect             contextlib          mmsystem            stack_data\n",
      "_blake2             contextvars         modulefinder        starlette\n",
      "_brotli             contourpy           monotonic           start_pythonwin\n",
      "_bz2                copy                mpl_toolkits        stat\n",
      "_codecs             copyreg             msilib              statistics\n",
      "_codecs_cn          crypt               msvcrt              statsmodels\n",
      "_codecs_hk          csv                 multimethod         string\n",
      "_codecs_iso2022     ctypes              multipart           stringprep\n",
      "_codecs_jp          curses              multiprocessing     strsimpy\n",
      "_codecs_kr          cv2                 narwhals            struct\n",
      "_codecs_tw          cycler              nest_asyncio        subprocess\n",
      "_collections        dacite              netbios             sunau\n",
      "_collections_abc    dash                netrc               sweetviz\n",
      "_compat_pickle      dash_bootstrap_components networkx            symtable\n",
      "_compression        dash_core_components nntplib             sys\n",
      "_contextvars        dash_daq            nt                  sysconfig\n",
      "_csv                dash_html_components ntpath              tabnanny\n",
      "_ctypes             dash_table          ntsecuritycon       tarfile\n",
      "_ctypes_test        dataclasses         nturl2path          telnetlib\n",
      "_datetime           datetime            numba               tempfile\n",
      "_decimal            dateutil            numbers             test\n",
      "_distutils_hack     dateutils           numpy               textwrap\n",
      "_elementtree        dbi                 odbc                this\n",
      "_functools          dbm                 opcode              threading\n",
      "_hashlib            dde                 openai              threadpoolctl\n",
      "_heapq              debugpy             openpyxl            tifffile\n",
      "_imp                decimal             operator            tiktoken\n",
      "_io                 decorator           optparse            time\n",
      "_json               defusedxml          orjson              timeit\n",
      "_locale             difflib             os                  timer\n",
      "_lsprof             dis                 packaging           tk\n",
      "_lzma               diskcache           pandas              tkinter\n",
      "_markupbase         distro              pandas_profiling    token\n",
      "_md5                doctest             parso               tokenize\n",
      "_msi                docutils            past                tokenizers\n",
      "_multibytecodec     dtale               pathlib             tomllib\n",
      "_multiprocessing    duckdb              pathspec            tornado\n",
      "_opcode             email               patsy               tqdm\n",
      "_operator           emoji               pdb                 trace\n",
      "_osx_support        encodings           perfmon             traceback\n",
      "_overlapped         ensurepip           phik                tracemalloc\n",
      "_pickle             enum                pickle              traitlets\n",
      "_plotly_utils       errno               pickletools         ttkbootstrap\n",
      "_py_abc             et_xmlfile          pip                 ttkcreator\n",
      "_pydatetime         executing           pipes               tty\n",
      "_pydecimal          fastapi             pkg_resources       turtle\n",
      "_pyio               fastavro            pkginfo             turtledemo\n",
      "_pylong             faulthandler        pkgutil             typeguard\n",
      "_pyrsistent_version filecmp             platform            typer\n",
      "_queue              fileinput           platformdirs        types\n",
      "_quickjs            filelock            plistlib            typing\n",
      "_random             flask               plotly              typing_extensions\n",
      "_sha1               flask_compress      plotnine            typing_inspection\n",
      "_sha2               fnmatch             polars              tzdata\n",
      "_sha3               fontTools           pooch               unicodedata\n",
      "_signal             fpdf                poplib              unittest\n",
      "_sitebuiltins       fractions           posixpath           urllib\n",
      "_socket             fsspec              pprint              urllib3\n",
      "_sqlite3            ftplib              profile             uu\n",
      "_sre                functools           prompt_toolkit      uuid\n",
      "_ssl                future              pstats              uvicorn\n",
      "_stat               gc                  psutil              venv\n",
      "_statistics         genericpath         psygnal             visions\n",
      "_string             geopandas           pty                 warnings\n",
      "_strptime           getopt              pure_eval           wasmtime\n",
      "_struct             getpass             puremagic           watchdog\n",
      "_symtable           gettext             pvectorc            wave\n",
      "_testbuffer         ghp_import          py_compile          wcwidth\n",
      "_testcapi           glob                pyarrow             weakref\n",
      "_testclinic         gpsd                pyasn1              webbrowser\n",
      "_testconsole        graphlib            pyasn1_modules      werkzeug\n",
      "_testimportmultiple greenlet            pyclbr              widgetsnbextension\n",
      "_testinternalcapi   gw_dsl_parser       pydantic            win2kras\n",
      "_testmultiphase     gzip                pydantic_core       win32api\n",
      "_testsinglephase    h11                 pydoc               win32clipboard\n",
      "_thread             hashlib             pydoc_data          win32com\n",
      "_threading_local    heapq               pyexpat             win32con\n",
      "_tkinter            hmac                pygame              win32console\n",
      "_tokenize           html                pygments            win32cred\n",
      "_tracemalloc        htmlmin             pygwalker           win32crypt\n",
      "_typing             http                pygwalker_tools     win32cryptcon\n",
      "_uuid               httpcore            pylab               win32event\n",
      "_warnings           httpx               pymatting           win32evtlog\n",
      "_weakref            httpx_sse           pyogrio             win32evtlogutil\n",
      "_weakrefset         huggingface_hub     pyparsing           win32file\n",
      "_win32sysloader     idlelib             pyperclip           win32gui\n",
      "_winapi             idna                pyproj              win32gui_struct\n",
      "_winxptheme         imagehash           pyrsistent          win32help\n",
      "_wmi                imageio             python_multipart    win32inet\n",
      "_xxinterpchannels   imaplib             pythoncom           win32inetcon\n",
      "_xxsubinterpreters  imghdr              pytz                win32job\n",
      "_yaml               importlib           pywin               win32lz\n",
      "_zoneinfo           importlib_metadata  pywin32_bootstrap   win32net\n",
      "abc                 importlib_resources pywin32_testutil    win32netcon\n",
      "ac51d50a4f4b6d748b8c__mypyc inspect             pywintypes          win32pdh\n",
      "adbc_driver_duckdb  io                  pywt                win32pdhquery\n",
      "adodbapi            ipaddress           pyzstd              win32pdhutil\n",
      "afxres              ipykernel           qrcode              win32pipe\n",
      "aifc                ipykernel_launcher  queue               win32print\n",
      "altair              ipylab              quickjs             win32process\n",
      "analytics           ipywidgets          quopri              win32profile\n",
      "annotated_types     isapi               random              win32ras\n",
      "antigravity         itertools           rasutil             win32rcparser\n",
      "anyio               itsdangerous        re                  win32security\n",
      "anywidget           jedi                regcheck            win32service\n",
      "appdirs             jinja2              regex               win32serviceutil\n",
      "argparse            jiter               regutil             win32timezone\n",
      "array               joblib              rembg               win32trace\n",
      "arrow               json                reprlib             win32traceutil\n",
      "ast                 jsonschema          requests            win32transaction\n",
      "astor               jupyter             retrying            win32ts\n",
      "asttokens           jupyter_client      rich                win32ui\n",
      "asyncio             jupyter_core        rlcompleter         win32uiole\n",
      "atexit              jupyterlab_widgets  rsa                 win32verstamp\n",
      "attr                kagglehub           runpy               win32wnet\n",
      "attrs               kaleido             sched               winerror\n",
      "audioop             kanaries_track      scipy               winioctlcon\n",
      "backoff             keyword             seaborn             winnt\n",
      "base64              kiwisolver          secrets             winperf\n",
      "bdb                 lazy_loader         select              winreg\n",
      "binascii            lib2to3             selectors           winsound\n",
      "bisect              libfuturize         servicemanager      winxpgui\n",
      "blinker             libpasteurize       setuptools          winxptheme\n",
      "brotli              lida                shapely             wordcloud\n",
      "bs4                 linecache           shellingham         wsgiref\n",
      "builtins            llmx                shelve              xarray\n",
      "bz2                 llvmlite            shlex               xdrlib\n",
      "cProfile            locale              shutil              xlrd\n",
      "cachetools          logging             signal              xml\n",
      "calendar            logistro            simplejson          xmlrpc\n",
      "certifi             lz4                 site                xxsubtype\n",
      "cgi                 lzma                six                 yaml\n",
      "cgitb               mailbox             skimage             yaml_env_tag\n",
      "charset_normalizer  mailcap             skimpy              ydata_profiling\n",
      "choreographer       markdown            sklearn             zipapp\n",
      "chunk               markdown_it         smtplib             zipfile\n",
      "click               markupsafe          sndhdr              zipimport\n",
      "cmath               marshal             sniffio             zipp\n",
      "cmd                 math                socket              zlib\n",
      "code                matplotlib          socketserver        zmq\n",
      "codecs              matplotlib_inline   soupsieve           zoneinfo\n",
      "codeop              matplotlib_venn     sqlalchemy          \n",
      "\n",
      "Enter any module name to get more help.  Or, type \"modules spam\" to search\n",
      "for modules whose name or summary contain the string \"spam\".\n",
      "\n"
     ]
    }
   ],
   "source": [
    "help('modules')"
   ]
  },
  {
   "cell_type": "markdown",
   "metadata": {},
   "source": [
    "# LISTS "
   ]
  },
  {
   "cell_type": "code",
   "execution_count": 28,
   "metadata": {},
   "outputs": [
    {
     "data": {
      "text/plain": [
       "'Characterstics of a List\\nOrdered\\nChangeble/Mutable\\nHetrogeneous\\nCan have duplicates\\nare dynamic\\ncan be nested\\nitems can be accessed\\ncan contain any kind of objects in python'"
      ]
     },
     "execution_count": 28,
     "metadata": {},
     "output_type": "execute_result"
    }
   ],
   "source": [
    "#1. Lists  is a data type where you can store multiple items under 1 name. More technically, lists act like dynamic arrays which means you can add more items on the fly.\n",
    "\"\"\"Characterstics of a List\n",
    "Ordered\n",
    "Changeble/Mutable\n",
    "Hetrogeneous\n",
    "Can have duplicates\n",
    "are dynamic\n",
    "can be nested\n",
    "items can be accessed\n",
    "can contain any kind of objects in python\"\"\"\n"
   ]
  },
  {
   "cell_type": "code",
   "execution_count": 29,
   "metadata": {},
   "outputs": [
    {
     "name": "stdout",
     "output_type": "stream",
     "text": [
      "[1, 2, 3, 4, 5, True]\n"
     ]
    }
   ],
   "source": [
    "# append\n",
    "L = [1,2,3,4,5]\n",
    "L.append(True)\n",
    "print(L)"
   ]
  },
  {
   "cell_type": "code",
   "execution_count": 30,
   "metadata": {},
   "outputs": [
    {
     "name": "stdout",
     "output_type": "stream",
     "text": [
      "[1, 2, 3, 4, 5, 6, 7, 8]\n"
     ]
    }
   ],
   "source": [
    "# extend\n",
    "L = [1,2,3,4,5]\n",
    "L.extend([6,7,8])\n",
    "print(L)"
   ]
  },
  {
   "cell_type": "code",
   "execution_count": 31,
   "metadata": {},
   "outputs": [
    {
     "name": "stdout",
     "output_type": "stream",
     "text": [
      "[1, 200, 300, 400, 500]\n"
     ]
    }
   ],
   "source": [
    "L = [1,2,3,4,5]\n",
    "\n",
    "# editing with indexing\n",
    "L[-1] = 500\n",
    "\n",
    "# editing with slicing\n",
    "L[1:4] = [200,300,400]\n",
    "\n",
    "print(L)"
   ]
  },
  {
   "cell_type": "code",
   "execution_count": 32,
   "metadata": {},
   "outputs": [
    {
     "name": "stdout",
     "output_type": "stream",
     "text": [
      "[1, 4]\n"
     ]
    }
   ],
   "source": [
    "# del\n",
    "L = [1,2,3,4,5]\n",
    "\n",
    "# indexing\n",
    "del L[-1]\n",
    "\n",
    "# slicing\n",
    "del L[1:3]\n",
    "print(L)"
   ]
  },
  {
   "cell_type": "code",
   "execution_count": 33,
   "metadata": {},
   "outputs": [
    {
     "name": "stdout",
     "output_type": "stream",
     "text": [
      "[1, 2, 3, 4]\n"
     ]
    }
   ],
   "source": [
    "# remove\n",
    "\n",
    "L = [1,2,3,4,5]\n",
    "\n",
    "L.remove(5)\n",
    "\n",
    "print(L)\n"
   ]
  },
  {
   "cell_type": "code",
   "execution_count": 34,
   "metadata": {},
   "outputs": [
    {
     "name": "stdout",
     "output_type": "stream",
     "text": [
      "[1, 2, 3, 4]\n"
     ]
    }
   ],
   "source": [
    "# pop\n",
    "L = [1,2,3,4,5]\n",
    "\n",
    "L.pop()\n",
    "\n",
    "print(L)"
   ]
  },
  {
   "cell_type": "markdown",
   "metadata": {},
   "source": [
    "# Zip"
   ]
  },
  {
   "cell_type": "code",
   "execution_count": 35,
   "metadata": {},
   "outputs": [
    {
     "data": {
      "text/plain": [
       "'Zip\\nThe zip() function returns a zip object, which is an iterator of tuples where the first item in each passed iterator is paired together, and then the second item in each passed iterator are paired together.\\n\\nIf the passed iterators have different lengths, the iterator with the least items decides the length of the new iterator.'"
      ]
     },
     "execution_count": 35,
     "metadata": {},
     "output_type": "execute_result"
    }
   ],
   "source": [
    "\"\"\"Zip\n",
    "The zip() function returns a zip object, which is an iterator of tuples where the first item in each passed iterator is paired together, and then the second item in each passed iterator are paired together.\n",
    "\n",
    "If the passed iterators have different lengths, the iterator with the least items decides the length of the new iterator.\"\"\""
   ]
  },
  {
   "cell_type": "code",
   "execution_count": 36,
   "metadata": {},
   "outputs": [
    {
     "name": "stdout",
     "output_type": "stream",
     "text": [
      "['Pakistan', 'Japna', 'India', ' America']\n"
     ]
    }
   ],
   "source": [
    "countries = ['Pakistan', 'Japna', 'India',' America']\n",
    "print(countries)"
   ]
  },
  {
   "cell_type": "code",
   "execution_count": 37,
   "metadata": {},
   "outputs": [
    {
     "name": "stdout",
     "output_type": "stream",
     "text": [
      "Lahore\n"
     ]
    }
   ],
   "source": [
    "# A list is a collection of items in a particular order\n",
    "# a list usually contains more then one element e.g letters, digits, or names\n",
    "# in python suqure brakets ([]) indicate a list and individual eklements in the list \n",
    "# are separated by commas\n",
    "cities = ['Lahore', 'Karachi', 'Islamabad', 'Swat']\n",
    "print(cities[0])\n"
   ]
  },
  {
   "cell_type": "code",
   "execution_count": 38,
   "metadata": {},
   "outputs": [
    {
     "name": "stdout",
     "output_type": "stream",
     "text": [
      "My favourite bike is: REDLINE\n",
      "trek\n"
     ]
    }
   ],
   "source": [
    "bicycles = ['trek', 'redline']\n",
    "message = f\"My favourite bike is: {bicycles[1].upper()}\"\n",
    "print(message)\n",
    "print('trek')"
   ]
  },
  {
   "cell_type": "code",
   "execution_count": null,
   "metadata": {},
   "outputs": [
    {
     "name": "stdout",
     "output_type": "stream",
     "text": [
      "My fav_food is BURGER\n"
     ]
    }
   ],
   "source": [
    "foods = ['pizza', 'sandwich', 'burger']\n",
    "message = f\"My fav_food is {foods[2].upper()}\"\n",
    "print(message)  "
   ]
  },
  {
   "cell_type": "markdown",
   "metadata": {},
   "source": [
    "# ASSIGNMENT 1"
   ]
  },
  {
   "cell_type": "code",
   "execution_count": 41,
   "metadata": {},
   "outputs": [
    {
     "name": "stdout",
     "output_type": "stream",
     "text": [
      "['Ali', 'Zohaib', 'Awais']\n"
     ]
    }
   ],
   "source": [
    "Guest_list = ['Ali', 'Zohaib', 'Awais']\n",
    "print(Guest_list)\n"
   ]
  },
  {
   "cell_type": "code",
   "execution_count": 42,
   "metadata": {},
   "outputs": [
    {
     "name": "stdout",
     "output_type": "stream",
     "text": [
      "Dear Ali, you are invited to dinner!\n",
      "Dear Babar, you are invited to dinner!\n",
      "Dear Amir, you are invited to dinner!\n"
     ]
    }
   ],
   "source": [
    "# Original guest list\n",
    "guest_list = [\"Ali\", \"Babar\", \"Amir\"]\n",
    "\n",
    "# Print the original invitations\n",
    "for guest in guest_list:\n",
    " print(f\"Dear {guest}, you are invited to dinner!\")\n"
   ]
  },
  {
   "cell_type": "code",
   "execution_count": 43,
   "metadata": {},
   "outputs": [
    {
     "name": "stdout",
     "output_type": "stream",
     "text": [
      "Dear Shaheen, you are invited to dinner!\n",
      "Dear Fakhar Azam, you are invited to dinner!\n",
      "Dear Amir, you are invited to dinner!\n"
     ]
    }
   ],
   "source": [
    "\n",
    "guest_list = [\"Shaheen\", \"Babar\", \"Amir\"]\n",
    "for guest in guest_list:\n",
    " cant_make_it = \"Babar\"\n",
    "new_guest = \"Fakhar Azam\"\n",
    "guest_list[guest_list.index(cant_make_it)] = new_guest\n",
    "\n",
    "for guest in guest_list:\n",
    " print(f\"Dear {guest}, you are invited to dinner!\")"
   ]
  },
  {
   "cell_type": "code",
   "execution_count": 44,
   "metadata": {},
   "outputs": [
    {
     "name": "stdout",
     "output_type": "stream",
     "text": [
      "['pizza', 'burger', 'sandwich', 'karhai', 'pulio']\n"
     ]
    }
   ],
   "source": [
    "# fav_ fooods any 5.\n",
    "fav_foods = ['pizza','burger','sandwich','karhai','pulio']\n",
    "print(fav_foods)\n",
    "\n"
   ]
  },
  {
   "cell_type": "code",
   "execution_count": null,
   "metadata": {},
   "outputs": [
    {
     "name": "stdout",
     "output_type": "stream",
     "text": [
      "burger\n"
     ]
    }
   ],
   "source": [
    "\n",
    "# 2nd item of lists\n",
    "fav_foods = ['pizza','burger','sandwich','karhai','pulio']\n",
    "print(fav_foods[1]) \n"
   ]
  },
  {
   "cell_type": "code",
   "execution_count": 46,
   "metadata": {},
   "outputs": [
    {
     "name": "stdout",
     "output_type": "stream",
     "text": [
      "FAVORITE _FOODS\n"
     ]
    }
   ],
   "source": [
    "favorite_foods = [\"pizza\", \"sushi\", \"tacos\", \"steak\", \"chicken\"]\n",
    "uppercase_foods = ('favorite _foods'.upper())\n",
    "print(uppercase_foods)\n"
   ]
  },
  {
   "cell_type": "code",
   "execution_count": 47,
   "metadata": {},
   "outputs": [
    {
     "name": "stdout",
     "output_type": "stream",
     "text": [
      "BURGER\n"
     ]
    }
   ],
   "source": [
    "food = (\"burger\")\n",
    "print(food.upper())"
   ]
  },
  {
   "cell_type": "code",
   "execution_count": 48,
   "metadata": {},
   "outputs": [
    {
     "name": "stdout",
     "output_type": "stream",
     "text": [
      "['burger', 'beryani', 'raita', 2]\n"
     ]
    }
   ],
   "source": [
    "food = [\"burger\", \"beryani\", \"raita\"]\n",
    "food.append(2)\n",
    "print(food)\n"
   ]
  },
  {
   "cell_type": "code",
   "execution_count": 49,
   "metadata": {},
   "outputs": [
    {
     "name": "stdout",
     "output_type": "stream",
     "text": [
      "['burger', 'beryani']\n"
     ]
    }
   ],
   "source": [
    "food = [\"burger\", \"beryani\", \"raita\"]\n",
    "food.pop(2)\n",
    "print(food)"
   ]
  },
  {
   "cell_type": "code",
   "execution_count": 50,
   "metadata": {},
   "outputs": [
    {
     "name": "stdout",
     "output_type": "stream",
     "text": [
      "['beryani', 'raita']\n"
     ]
    }
   ],
   "source": [
    "food = [\"burger\", \"beryani\", \"raita\"]\n",
    "food.remove(\"burger\")\n",
    "print(food)"
   ]
  },
  {
   "cell_type": "code",
   "execution_count": 51,
   "metadata": {},
   "outputs": [
    {
     "name": "stdout",
     "output_type": "stream",
     "text": [
      "None\n",
      "['burger', 'beryani', 'raita', 'karhaia']\n"
     ]
    }
   ],
   "source": [
    "# append a item\n",
    "food = [\"burger\", \"beryani\", \"raita\"]\n",
    "print(food.append(\"karhaia\"))\n",
    "print(food)"
   ]
  },
  {
   "cell_type": "code",
   "execution_count": 52,
   "metadata": {},
   "outputs": [
    {
     "name": "stdout",
     "output_type": "stream",
     "text": [
      "['beryani', 'chicken']\n"
     ]
    }
   ],
   "source": [
    "# append items\n",
    "message = []\n",
    "message.append('beryani')\n",
    "message.append('chicken')\n",
    "print(message)"
   ]
  },
  {
   "cell_type": "code",
   "execution_count": 53,
   "metadata": {},
   "outputs": [
    {
     "name": "stdout",
     "output_type": "stream",
     "text": [
      "['beryani', 'chickedn', 'raita']\n"
     ]
    }
   ],
   "source": [
    "# inserting elements which mean insert a new element in a specific position .\n",
    "message = ['beryani', 'raita']\n",
    "message.insert(1, 'chickedn')\n",
    "print(message)"
   ]
  },
  {
   "cell_type": "code",
   "execution_count": 54,
   "metadata": {},
   "outputs": [
    {
     "name": "stdout",
     "output_type": "stream",
     "text": [
      "['rita']\n"
     ]
    }
   ],
   "source": [
    "# removing a elements by using delete command\n",
    "message = ['beryani', 'rita']\n",
    "del message[0]\n",
    "print(message)  # ['rita']\n"
   ]
  },
  {
   "cell_type": "code",
   "execution_count": 55,
   "metadata": {},
   "outputs": [
    {
     "name": "stdout",
     "output_type": "stream",
     "text": [
      "beryani\n"
     ]
    }
   ],
   "source": [
    "# using poped method by removing the last item in a list\n",
    "message1 = ['beryani', 'rita']\n",
    "message = message1.pop(0)\n",
    "print(message)  # Output: ['beryani']"
   ]
  },
  {
   "cell_type": "code",
   "execution_count": 56,
   "metadata": {},
   "outputs": [
    {
     "name": "stdout",
     "output_type": "stream",
     "text": [
      "The own things which is my first was Raita\n"
     ]
    }
   ],
   "source": [
    "message1 = ['beryani', 'raita', 'krhai']\n",
    "message = message1.pop(1)\n",
    "print(f\"The own things which is my first was {message.title()}\")\n"
   ]
  },
  {
   "cell_type": "code",
   "execution_count": 57,
   "metadata": {},
   "outputs": [
    {
     "name": "stdout",
     "output_type": "stream",
     "text": [
      "The own things which is my first was Krhai\n"
     ]
    }
   ],
   "source": [
    "# give position of pop\n",
    "message1 = ['beryani', 'raita', 'krhai']\n",
    "message = message1.pop()\n",
    "print(f\"The own things which is my first was {message.title()}\")"
   ]
  },
  {
   "cell_type": "code",
   "execution_count": 58,
   "metadata": {},
   "outputs": [
    {
     "name": "stdout",
     "output_type": "stream",
     "text": [
      "['raita', 'krhai']\n"
     ]
    }
   ],
   "source": [
    "# removing elements\n",
    "message1 = ['beryani', 'raita', 'krhai']\n",
    "message1.remove('beryani')\n",
    "print(message1)"
   ]
  },
  {
   "cell_type": "code",
   "execution_count": 59,
   "metadata": {},
   "outputs": [
    {
     "name": "stdout",
     "output_type": "stream",
     "text": [
      "['beryani', 'raita']\n"
     ]
    }
   ],
   "source": [
    "# removing the elements.\n",
    "food = [\"burger\", \"beryani\", \"raita\"]\n",
    "food.remove('burger')\n",
    "print(food)"
   ]
  },
  {
   "cell_type": "code",
   "execution_count": null,
   "metadata": {},
   "outputs": [
    {
     "name": "stdout",
     "output_type": "stream",
     "text": [
      "['audi', 'bmw', 'yahma']\n"
     ]
    }
   ],
   "source": [
    "# sort -> This method is used for converting elements in a alphabetical orders and that can not convert to other positions\n",
    "cars = ['bmw', 'audi', 'yahma']\n",
    "cars.sort()\n",
    "print(cars)"
   ]
  },
  {
   "cell_type": "code",
   "execution_count": 61,
   "metadata": {},
   "outputs": [
    {
     "name": "stdout",
     "output_type": "stream",
     "text": [
      "['yahma', 'bmw', 'audi']\n"
     ]
    }
   ],
   "source": [
    "# also we can reverse this method by using( reverse = True)\n",
    "cars = ['bmw', 'audi', 'yahma']\n",
    "cars.sort(reverse=True)\n",
    "print(cars)"
   ]
  },
  {
   "cell_type": "code",
   "execution_count": 62,
   "metadata": {},
   "outputs": [
    {
     "name": "stdout",
     "output_type": "stream",
     "text": [
      "Here is the original list:\n",
      "['bmw', 'audi', 'toyota', 'subaru']\n"
     ]
    }
   ],
   "source": [
    "# by alphabat order\n",
    "cars = ['bmw', 'audi', 'toyota', 'subaru']\n",
    "print(\"Here is the original list:\")\n",
    "print(cars)"
   ]
  },
  {
   "cell_type": "code",
   "execution_count": 63,
   "metadata": {},
   "outputs": [
    {
     "name": "stdout",
     "output_type": "stream",
     "text": [
      "\n",
      " Here is the sorted list:\n",
      "['audi', 'bmw', 'subaru', 'toyota']\n"
     ]
    }
   ],
   "source": [
    "cars = ['bmw', 'audi', 'toyota', 'subaru']\n",
    "print(\"\\n Here is the sorted list:\")\n",
    "print(sorted(cars))"
   ]
  },
  {
   "cell_type": "code",
   "execution_count": 64,
   "metadata": {},
   "outputs": [
    {
     "name": "stdout",
     "output_type": "stream",
     "text": [
      "['bmw', 'audi', 'toyota', 'subaru']\n",
      "['subaru', 'toyota', 'audi', 'bmw']\n"
     ]
    }
   ],
   "source": [
    "# reverse order\n",
    "cars = ['bmw', 'audi', 'toyota', 'subaru']\n",
    "print(cars)\n",
    "cars.reverse()\n",
    "print(cars)"
   ]
  },
  {
   "cell_type": "code",
   "execution_count": 65,
   "metadata": {},
   "outputs": [
    {
     "data": {
      "text/plain": [
       "4"
      ]
     },
     "execution_count": 65,
     "metadata": {},
     "output_type": "execute_result"
    }
   ],
   "source": [
    "# using length of cars\n",
    "cars = ['bmw', 'audi', 'toyota', 'subaru']\n",
    "len(cars)"
   ]
  },
  {
   "cell_type": "code",
   "execution_count": 68,
   "metadata": {},
   "outputs": [
    {
     "name": "stdout",
     "output_type": "stream",
     "text": [
      "subaru\n"
     ]
    }
   ],
   "source": [
    "# avoiding index errors\n",
    "cars = ['bmw', 'audi', 'toyota', 'subaru']\n",
    "print(cars[-1])\n"
   ]
  },
  {
   "cell_type": "code",
   "execution_count": 71,
   "metadata": {},
   "outputs": [
    {
     "name": "stdout",
     "output_type": "stream",
     "text": [
      "4\n"
     ]
    }
   ],
   "source": [
    "# len, \n",
    "list = [3, 4, 5, 6]\n",
    "length = len(list)\n",
    "print(length)"
   ]
  },
  {
   "cell_type": "code",
   "execution_count": 72,
   "metadata": {},
   "outputs": [
    {
     "name": "stdout",
     "output_type": "stream",
     "text": [
      "400\n"
     ]
    }
   ],
   "source": [
    "# max \n",
    "list = [200, 300, 400]\n",
    "print(max(list)) "
   ]
  },
  {
   "cell_type": "code",
   "execution_count": 73,
   "metadata": {},
   "outputs": [
    {
     "name": "stdout",
     "output_type": "stream",
     "text": [
      "2000\n"
     ]
    }
   ],
   "source": [
    "# min\n",
    "list = [2000,3000,4000]\n",
    "print(min(list)) "
   ]
  },
  {
   "cell_type": "code",
   "execution_count": 74,
   "metadata": {},
   "outputs": [
    {
     "name": "stdout",
     "output_type": "stream",
     "text": [
      "type\n"
     ]
    }
   ],
   "source": [
    "# range\n",
    "list = ['word', 'type']\n",
    "print(list[1])"
   ]
  },
  {
   "cell_type": "code",
   "execution_count": 76,
   "metadata": {},
   "outputs": [
    {
     "name": "stdout",
     "output_type": "stream",
     "text": [
      "['word', 'type']\n"
     ]
    }
   ],
   "source": [
    "# copy\n",
    "list = ['word', 'type']\n",
    "print(list.copy()) "
   ]
  },
  {
   "cell_type": "code",
   "execution_count": 77,
   "metadata": {},
   "outputs": [
    {
     "name": "stdout",
     "output_type": "stream",
     "text": [
      "None\n"
     ]
    }
   ],
   "source": [
    "# clear\n",
    "list = ['word', 'type']\n",
    "print(list.clear())"
   ]
  },
  {
   "cell_type": "code",
   "execution_count": 78,
   "metadata": {},
   "outputs": [
    {
     "name": "stdout",
     "output_type": "stream",
     "text": [
      "type\n"
     ]
    }
   ],
   "source": [
    "# popp\n",
    "list = ['word', 'type']\n",
    "print(list.pop(1))  "
   ]
  },
  {
   "cell_type": "code",
   "execution_count": 79,
   "metadata": {},
   "outputs": [
    {
     "name": "stdout",
     "output_type": "stream",
     "text": [
      "[200, 300, 400, 500]\n"
     ]
    }
   ],
   "source": [
    "# append\n",
    "list = [200, 300, 400]\n",
    "list.append(500)\n",
    "print(list)"
   ]
  },
  {
   "cell_type": "code",
   "execution_count": 80,
   "metadata": {},
   "outputs": [
    {
     "name": "stdout",
     "output_type": "stream",
     "text": [
      "[200, 250, 300, 400]\n"
     ]
    }
   ],
   "source": [
    "# insert\n",
    "list = [200, 300, 400]\n",
    "list.insert(1, 250)\n",
    "print(list)"
   ]
  },
  {
   "cell_type": "code",
   "execution_count": 81,
   "metadata": {},
   "outputs": [
    {
     "name": "stdout",
     "output_type": "stream",
     "text": [
      "1\n"
     ]
    }
   ],
   "source": [
    "# index\n",
    "list = [200, 300, 400]\n",
    "print(list.index(300))  "
   ]
  },
  {
   "cell_type": "code",
   "execution_count": 82,
   "metadata": {},
   "outputs": [
    {
     "name": "stdout",
     "output_type": "stream",
     "text": [
      "[2, 3, 4]\n",
      "[1, 2, 3]\n",
      "[3, 4, 5]\n"
     ]
    }
   ],
   "source": [
    "# slicing\n",
    "my_list = [1, 2, 3, 4, 5]\n",
    "print(my_list[1:4])  # Output: [2, 3, 4]\n",
    "print(my_list[:3])   # Output: [1, 2, 3]\n",
    "print(my_list[2:])   # Output: [3, 4, 5]\n"
   ]
  },
  {
   "cell_type": "code",
   "execution_count": 83,
   "metadata": {},
   "outputs": [
    {
     "name": "stdout",
     "output_type": "stream",
     "text": [
      "True\n",
      "False\n"
     ]
    }
   ],
   "source": [
    "# Use in to check if an element exists in the list.\n",
    "\n",
    "my_list = [1, 2, 3]\n",
    "print(2 in my_list)  \n",
    "print(5 in my_list)  \n"
   ]
  },
  {
   "cell_type": "markdown",
   "metadata": {},
   "source": [
    "# Exercise.\n"
   ]
  },
  {
   "cell_type": "code",
   "execution_count": 84,
   "metadata": {},
   "outputs": [
    {
     "name": "stdout",
     "output_type": "stream",
     "text": [
      "['beryani', 'chicken', 'fish', 'chawal', 'raita']\n"
     ]
    }
   ],
   "source": [
    "# 01. create a list\n",
    "fav_foods = ['beryani', 'chicken', 'fish', 'chawal', 'raita']\n",
    "print(fav_foods)"
   ]
  },
  {
   "cell_type": "code",
   "execution_count": 85,
   "metadata": {},
   "outputs": [
    {
     "name": "stdout",
     "output_type": "stream",
     "text": [
      "chicken\n"
     ]
    }
   ],
   "source": [
    "# 02.select a second item\n",
    "fav_foods = ['beryani', 'chicken', 'fish', 'chawal', 'raita']\n",
    "second_item = fav_foods[1]\n",
    "print(second_item)  "
   ]
  },
  {
   "cell_type": "code",
   "execution_count": 86,
   "metadata": {},
   "outputs": [
    {
     "name": "stdout",
     "output_type": "stream",
     "text": [
      "['BERYANI', 'CHICKEN', 'FISH', 'CHAWAL', 'RAITA']\n"
     ]
    }
   ],
   "source": [
    "# 03.  # Convert each item to uppercase\n",
    "fav_foods = ['beryani', 'chicken', 'fish', 'chawal', 'raita']\n",
    "uppercase_foods = [food.upper() for food in fav_foods] \n",
    "print(uppercase_foods)\n",
    "\n"
   ]
  },
  {
   "cell_type": "code",
   "execution_count": 87,
   "metadata": {},
   "outputs": [
    {
     "name": "stdout",
     "output_type": "stream",
     "text": [
      "['BERYANI', 'CHICKEN', 'FISH', 'CHAWAL', 'RAITA']\n"
     ]
    }
   ],
   "source": [
    "# 03.  # Convert each item to uppercase\n",
    "fav_foods = ['beryani', 'chicken', 'fish', 'chawal', 'raita']\n",
    "uppercase_foods = [foods.upper() for foods in fav_foods]\n",
    "print(uppercase_foods)"
   ]
  },
  {
   "cell_type": "code",
   "execution_count": 88,
   "metadata": {},
   "outputs": [
    {
     "name": "stdout",
     "output_type": "stream",
     "text": [
      "['beryani', 'chicken', 'fish', 'chawal', 'raita', 'pizza']\n"
     ]
    }
   ],
   "source": [
    "# 04.add a another food\n",
    "fav_foods = ['beryani', 'chicken', 'fish', 'chawal', 'raita']\n",
    "fav_foods.append('pizza')\n",
    "print(fav_foods)  "
   ]
  },
  {
   "cell_type": "code",
   "execution_count": 89,
   "metadata": {},
   "outputs": [
    {
     "name": "stdout",
     "output_type": "stream",
     "text": [
      "['chicken', 'fish', 'chawal', 'raita']\n"
     ]
    }
   ],
   "source": [
    "# 05. delete 1 element\n",
    "fav_foods = ['beryani', 'chicken', 'fish', 'chawal', 'raita']\n",
    "fav_foods.pop(0)        \n",
    "print(fav_foods)"
   ]
  },
  {
   "cell_type": "code",
   "execution_count": 90,
   "metadata": {},
   "outputs": [
    {
     "name": "stdout",
     "output_type": "stream",
     "text": [
      "not liked food: fish\n",
      "update fav_foods are: ['beryani', 'chicken', 'chawal', 'raita']\n"
     ]
    }
   ],
   "source": [
    "# 06.using pop\n",
    "fav_foods = ['beryani', 'chicken', 'fish', 'chawal', 'raita']\n",
    "not_liked = fav_foods.pop(2) # not liked if fish\n",
    "print(\"not liked food:\", not_liked)\n",
    "print(\"update fav_foods are:\", fav_foods)\n"
   ]
  },
  {
   "cell_type": "code",
   "execution_count": 91,
   "metadata": {},
   "outputs": [
    {
     "name": "stdout",
     "output_type": "stream",
     "text": [
      "Letters sorted in reverse order: ['G', 'F', 'E', 'D', 'C', 'B', 'A']\n"
     ]
    }
   ],
   "source": [
    "# 07. sort a list in reverse order (1 and 2 both correct)\n",
    "\"\"\"fav_foods = ['beryani', 'chicken', 'fish', 'chawal', 'raita']\n",
    "fav_foods.sort(reverse=True)\n",
    "print(fav_foods)  # Output: ['raita', 'chawal', '\"\"\"\n",
    "letters = ['A', 'B', 'C', 'D', 'E', 'F', 'G']\n",
    "\n",
    "# Sort the list in reverse order\n",
    "letters.sort(reverse=True)\n",
    "print(\"Letters sorted in reverse order:\", letters)\n"
   ]
  },
  {
   "cell_type": "code",
   "execution_count": 92,
   "metadata": {},
   "outputs": [
    {
     "name": "stdout",
     "output_type": "stream",
     "text": [
      "5\n"
     ]
    }
   ],
   "source": [
    "# 08.len \n",
    "fav_foods = ['beryani', 'chicken', 'fish', 'chawal', 'raita']\n",
    "print(len(fav_foods))  # Output: 5"
   ]
  },
  {
   "cell_type": "code",
   "execution_count": 93,
   "metadata": {},
   "outputs": [
    {
     "name": "stdout",
     "output_type": "stream",
     "text": [
      "raita\n",
      "raita\n"
     ]
    }
   ],
   "source": [
    "# 09.get last item using (+ , and _ )index\n",
    "fav_foods = ['beryani', 'chicken', 'fish', 'chawal', 'raita']\n",
    "print(fav_foods[-1])  # prints: raita\n",
    "print(fav_foods[4])"
   ]
  },
  {
   "cell_type": "code",
   "execution_count": 94,
   "metadata": {},
   "outputs": [
    {
     "name": "stdout",
     "output_type": "stream",
     "text": [
      "['G', 'F', 'E', 'D', 'C', 'B', 'A']\n"
     ]
    }
   ],
   "source": [
    "\n",
    "# 10. Reverse the list using slicing\n",
    "letters = ['A', 'B', 'C', 'D', 'E', 'F', 'G']\n",
    "reversed_letters = letters[::-1]\n",
    "print(reversed_letters)  # Output: ['G', 'F', 'E', 'D"
   ]
  },
  {
   "cell_type": "markdown",
   "metadata": {},
   "source": [
    "# for loops "
   ]
  },
  {
   "cell_type": "code",
   "execution_count": 96,
   "metadata": {},
   "outputs": [
    {
     "name": "stdout",
     "output_type": "stream",
     "text": [
      "zohaib is a good friend\n",
      "Awais is a good friend\n",
      "ammar is a good friend\n",
      "Done!\n"
     ]
    }
   ],
   "source": [
    "# use for loops\n",
    "friends = ['zohaib', 'Awais', 'ammar']\n",
    "for friend in friends:\n",
    "    print(friend,'is a good friend')\n",
    "print('Done!')\n"
   ]
  },
  {
   "cell_type": "code",
   "execution_count": 97,
   "metadata": {},
   "outputs": [
    {
     "name": "stdout",
     "output_type": "stream",
     "text": [
      "You are invited to a dinner, Sarah\n",
      "You are invited to a dinner, Sarwat\n",
      "You are invited to a dinner, Sabra\n"
     ]
    }
   ],
   "source": [
    "# use for loops\n",
    "invitees = ['sarah', 'sarwat', 'sabra']\n",
    "for invitee in invitees:\n",
    "    #print('you are invited to a dinner', invitee)\n",
    "    print(f'You are invited to a dinner, {invitee.title()}')"
   ]
  },
  {
   "cell_type": "code",
   "execution_count": 98,
   "metadata": {},
   "outputs": [
    {
     "name": "stdout",
     "output_type": "stream",
     "text": [
      "you are invited to my party Sarah\n",
      "incase you cant come Sarah, please let me know\n",
      "\n",
      "you are invited to my party Sarwat\n",
      "incase you cant come Sarwat, please let me know\n",
      "\n",
      "you are invited to my party Sabra\n",
      "incase you cant come Sabra, please let me know\n",
      "\n",
      "you are the best friend ever\n"
     ]
    }
   ],
   "source": [
    "# use for loops\n",
    "for invite in invitees:\n",
    "    print(f\"you are invited to my party {invite.title()}\")\n",
    "    print(f'incase you cant come {invite.title()}, please let me know\\n')\n",
    "print(f'you are the best friend ever')"
   ]
  },
  {
   "cell_type": "code",
   "execution_count": 99,
   "metadata": {},
   "outputs": [
    {
     "name": "stdout",
     "output_type": "stream",
     "text": [
      "2\n",
      "4\n",
      "6\n",
      "8\n"
     ]
    }
   ],
   "source": [
    "# use for loop in range \n",
    "for value in range(2,10,2):\n",
    "   print(value)"
   ]
  },
  {
   "cell_type": "code",
   "execution_count": 104,
   "metadata": {},
   "outputs": [
    {
     "name": "stdout",
     "output_type": "stream",
     "text": [
      "[]\n",
      "[1]\n",
      "[1, 8]\n",
      "[1, 8, 27]\n",
      "[1, 8, 27, 64]\n",
      "[1, 8, 27, 64, 125]\n",
      "[1, 8, 27, 64, 125, 216]\n",
      "[1, 8, 27, 64, 125, 216, 343]\n",
      "[1, 8, 27, 64, 125, 216, 343, 512]\n",
      "[1, 8, 27, 64, 125, 216, 343, 512, 729]\n",
      "[1, 8, 27, 64, 125, 216, 343, 512, 729, 1000]\n",
      "[1, 8, 27, 64, 125, 216, 343, 512, 729, 1000, 1331]\n"
     ]
    }
   ],
   "source": [
    "squares = []\n",
    "for value in range(1,12):\n",
    "    square = value ** 3\n",
    "    print(squares)\n",
    "    squares.append(square)\n",
    "print(squares)"
   ]
  },
  {
   "cell_type": "code",
   "execution_count": 105,
   "metadata": {},
   "outputs": [
    {
     "name": "stdout",
     "output_type": "stream",
     "text": [
      "[1, 16, 49, 100, 169, 256, 361]\n"
     ]
    }
   ],
   "source": [
    "# making suquraes of numbers \n",
    "squares = []\n",
    "for value in range(1,22,3):\n",
    "    square = value ** 2\n",
    "    squares.append(square)\n",
    "print(squares)"
   ]
  },
  {
   "cell_type": "code",
   "execution_count": 106,
   "metadata": {},
   "outputs": [
    {
     "name": "stdout",
     "output_type": "stream",
     "text": [
      "[1, 4, 9, 16, 25, 36, 49, 64, 81, 100]\n"
     ]
    }
   ],
   "source": [
    "# use squre function\n",
    "squares = []\n",
    "for value in range(1,11):\n",
    "    squares.append(value**2)\n",
    "print(squares)"
   ]
  },
  {
   "cell_type": "code",
   "execution_count": 107,
   "metadata": {},
   "outputs": [
    {
     "name": "stdout",
     "output_type": "stream",
     "text": [
      "[]\n",
      "[1]\n",
      "[1]\n",
      "[1, 4]\n",
      "[1, 4]\n",
      "[1, 4, 9]\n",
      "[1, 4, 9]\n",
      "[1, 4, 9, 16]\n",
      "[1, 4, 9, 16]\n",
      "[1, 4, 9, 16, 25]\n",
      "[1, 4, 9, 16, 25]\n",
      "[1, 4, 9, 16, 25, 36]\n",
      "[1, 4, 9, 16, 25, 36]\n",
      "[1, 4, 9, 16, 25, 36, 49]\n",
      "[1, 4, 9, 16, 25, 36, 49]\n",
      "[1, 4, 9, 16, 25, 36, 49, 64]\n",
      "[1, 4, 9, 16, 25, 36, 49, 64]\n",
      "[1, 4, 9, 16, 25, 36, 49, 64, 81]\n",
      "[1, 4, 9, 16, 25, 36, 49, 64, 81]\n",
      "[1, 4, 9, 16, 25, 36, 49, 64, 81, 100]\n"
     ]
    }
   ],
   "source": [
    "# use squre function\n",
    "squares = []\n",
    "for value in range(1, 11):\n",
    "        square = value ** 2\n",
    "        print(squares)\n",
    "        squares.append(square)\n",
    "        print(squares)"
   ]
  },
  {
   "cell_type": "code",
   "execution_count": 108,
   "metadata": {},
   "outputs": [
    {
     "name": "stdout",
     "output_type": "stream",
     "text": [
      "Count: 1\n",
      "Count: 2\n",
      "Count: 3\n",
      "Count: 4\n",
      "Count: 5\n",
      "Count: 6\n"
     ]
    }
   ],
   "source": [
    "count = 0\n",
    "for intervar in[2,33,44,55,66,77]:\n",
    "    count+=1\n",
    "    print(\"Count:\", count)"
   ]
  },
  {
   "cell_type": "code",
   "execution_count": 109,
   "metadata": {},
   "outputs": [
    {
     "name": "stdout",
     "output_type": "stream",
     "text": [
      "count:  1\n",
      "count:  2\n",
      "count:  3\n",
      "count:  4\n",
      "count:  5\n",
      "count:  6\n"
     ]
    }
   ],
   "source": [
    "# use count function\n",
    "count = 0\n",
    "for intervar in[3, 41, 12, 9, 74, 15]:\n",
    "    count = count + 1\n",
    "    print('count: ', count)"
   ]
  },
  {
   "cell_type": "code",
   "execution_count": 110,
   "metadata": {},
   "outputs": [
    {
     "name": "stdout",
     "output_type": "stream",
     "text": [
      "[0, 2, 4, 6, 8]\n"
     ]
    }
   ],
   "source": [
    "# use multiply function\n",
    "multiply = [value*2 for value in range(5)]\n",
    "print(multiply)"
   ]
  },
  {
   "cell_type": "code",
   "execution_count": 111,
   "metadata": {},
   "outputs": [
    {
     "name": "stdout",
     "output_type": "stream",
     "text": [
      "[2, 4, 6, 8, 10, 12, 14, 16, 18, 20]\n"
     ]
    }
   ],
   "source": [
    "# use squares with one line of code\n",
    "squares      =       [value*2 for value in range(1,11)]\n",
    "print(squares)"
   ]
  },
  {
   "cell_type": "code",
   "execution_count": 112,
   "metadata": {},
   "outputs": [
    {
     "name": "stdout",
     "output_type": "stream",
     "text": [
      "count: 1\n",
      "count: 2\n",
      "count: 3\n",
      "count: 4\n",
      "count: 5\n",
      "count: 6\n"
     ]
    }
   ],
   "source": [
    "counts = 0\n",
    "counts = [count + 1 for count in range(len([3, 41, 12, 9, 74, 15]))]\n",
    "for c in counts :\n",
    "    print('count:',c)"
   ]
  },
  {
   "cell_type": "code",
   "execution_count": 113,
   "metadata": {},
   "outputs": [
    {
     "name": "stdout",
     "output_type": "stream",
     "text": [
      "p\n",
      "y\n",
      "t\n",
      "h\n",
      "o\n",
      "n\n",
      "0\n",
      "1\n",
      "2\n",
      "3\n",
      "4\n",
      "Cat\n",
      "Dog\n",
      "Tiger\n",
      "Cow\n"
     ]
    }
   ],
   "source": [
    "# use i \n",
    "for i in 'python':\n",
    "    print(i)\n",
    "# use j \n",
    "for j in range(5):\n",
    "    print(j)\n",
    "\n",
    "AnimalList = ['Cat','Dog','Tiger','Cow']\n",
    "for x in AnimalList:\n",
    "    print(x)"
   ]
  },
  {
   "cell_type": "code",
   "execution_count": 114,
   "metadata": {},
   "outputs": [
    {
     "name": "stdout",
     "output_type": "stream",
     "text": [
      "python 1\n",
      "java 2\n",
      "csharp 3\n"
     ]
    }
   ],
   "source": [
    "# use zip function\n",
    "a1 = ['python', 'java', 'csharp']\n",
    "b1 = [1,2,3]\n",
    "\n",
    "for i,j in zip(a1,b1):\n",
    "    print(i,j)"
   ]
  },
  {
   "cell_type": "code",
   "execution_count": 115,
   "metadata": {},
   "outputs": [
    {
     "name": "stdout",
     "output_type": "stream",
     "text": [
      "Jasmine\n",
      "Lotus\n",
      "Rose\n",
      "Sunflower\n",
      "Done!\n"
     ]
    }
   ],
   "source": [
    "# Using else statement inside a for loop in Python\n",
    "flowers = ['Jasmine','Lotus','Rose','Sunflower']\n",
    "for x in flowers:\n",
    "    print(x)\n",
    "else:\n",
    "    print('Done!')\n"
   ]
  },
  {
   "cell_type": "code",
   "execution_count": 116,
   "metadata": {},
   "outputs": [
    {
     "name": "stdout",
     "output_type": "stream",
     "text": [
      "5 Tomatoes\n",
      "5 Potatoes\n",
      "5 Carrots\n",
      "5 Cucumbers\n",
      "10 Tomatoes\n",
      "10 Potatoes\n",
      "10 Carrots\n",
      "10 Cucumbers\n",
      "15 Tomatoes\n",
      "15 Potatoes\n",
      "15 Carrots\n",
      "15 Cucumbers\n",
      "20 Tomatoes\n",
      "20 Potatoes\n",
      "20 Carrots\n",
      "20 Cucumbers\n"
     ]
    }
   ],
   "source": [
    "list1 = [5,10,15,20]\n",
    "list2 = ['Tomatoes','Potatoes','Carrots','Cucumbers']\n",
    "\n",
    "for x in list1:\n",
    "    for y in list2:\n",
    "        print(x,y)\n"
   ]
  },
  {
   "cell_type": "code",
   "execution_count": 117,
   "metadata": {},
   "outputs": [
    {
     "name": "stdout",
     "output_type": "stream",
     "text": [
      "4 1818.181818181818\n",
      "3 1652.8925619834708\n",
      "2 1502.629601803155\n",
      "1 1366.0269107301408\n"
     ]
    }
   ],
   "source": [
    "current_pop = 2000\n",
    "for i in range(4, 0, -1):\n",
    "    current_pop = current_pop/1.1\n",
    "    print(i, current_pop)"
   ]
  },
  {
   "cell_type": "code",
   "execution_count": 118,
   "metadata": {},
   "outputs": [
    {
     "name": "stdout",
     "output_type": "stream",
     "text": [
      "10 9090.90909090909\n",
      "9 8264.462809917353\n",
      "8 7513.148009015775\n",
      "7 6830.134553650703\n",
      "6 6209.213230591548\n",
      "5 5644.739300537771\n",
      "4 5131.5811823070635\n",
      "3 4665.07380209733\n",
      "2 4240.976183724845\n",
      "1 3855.4328942953134\n"
     ]
    }
   ],
   "source": [
    "# papolation 10% decrease \n",
    "current_pap = 10000\n",
    "for i in range(10,0,-1):\n",
    "    current_pap = current_pap/1.1\n",
    "    print(i,current_pap)  "
   ]
  },
  {
   "cell_type": "code",
   "execution_count": 119,
   "metadata": {},
   "outputs": [
    {
     "name": "stdout",
     "output_type": "stream",
     "text": [
      "cars\n"
     ]
    }
   ],
   "source": [
    "# using break function\n",
    "vehicles = ['cars', 'toyta','audi']\n",
    "for v in vehicles:\n",
    "    if v=='toyta':\n",
    "        break\n",
    "    print(v)\n"
   ]
  },
  {
   "cell_type": "markdown",
   "metadata": {},
   "source": [
    "# while loops"
   ]
  },
  {
   "cell_type": "code",
   "execution_count": 120,
   "metadata": {},
   "outputs": [
    {
     "name": "stdout",
     "output_type": "stream",
     "text": [
      "4 * 1 = 4\n",
      "4 * 2 = 8\n",
      "4 * 3 = 12\n",
      "4 * 4 = 16\n",
      "4 * 5 = 20\n",
      "4 * 6 = 24\n",
      "4 * 7 = 28\n",
      "4 * 8 = 32\n",
      "4 * 9 = 36\n",
      "4 * 10 = 40\n"
     ]
    }
   ],
   "source": [
    "# give a table of 2 using while loops\n",
    "num1 = int(input(\"Enter a number\"))\n",
    "i = 1\n",
    "while i<11:\n",
    "    print(num1, \"*\", i, \"=\", num1 * i)\n",
    "    i+=1\n"
   ]
  },
  {
   "cell_type": "code",
   "execution_count": 121,
   "metadata": {},
   "outputs": [
    {
     "name": "stdout",
     "output_type": "stream",
     "text": [
      "5 * 1 = 5\n",
      "5 * 2 = 10\n",
      "5 * 3 = 15\n",
      "5 * 4 = 20\n",
      "5 * 5 = 25\n",
      "5 * 6 = 30\n",
      "5 * 7 = 35\n",
      "5 * 8 = 40\n",
      "5 * 9 = 45\n",
      "5 * 10 = 50\n",
      "5 * 11 = 55\n"
     ]
    }
   ],
   "source": [
    "num1 = int(input(\"Enter  a number \"))\n",
    "i = 1\n",
    "while i <= 11:\n",
    "    print(num1, \"*\",i,\"=\", num1*i)\n",
    "    i +=1"
   ]
  },
  {
   "cell_type": "code",
   "execution_count": 122,
   "metadata": {},
   "outputs": [
    {
     "name": "stdout",
     "output_type": "stream",
     "text": [
      "1\n",
      "2\n",
      "3\n",
      "4\n",
      "5\n"
     ]
    }
   ],
   "source": [
    "current_number = 1\n",
    "while current_number <=5:\n",
    "    print(current_number)\n",
    "    current_number += 1"
   ]
  },
  {
   "cell_type": "code",
   "execution_count": 123,
   "metadata": {},
   "outputs": [
    {
     "name": "stdout",
     "output_type": "stream",
     "text": [
      "Hi\n"
     ]
    }
   ],
   "source": [
    "# use a Flag by using while loops\n",
    "prompt = \"\\n Tell me something , and i will repeat itr back to you\"\n",
    "prompt += \"\\n Enter 'quit', to end programm \"\n",
    "active = True # flag\n",
    "while active:\n",
    "    message = input(prompt)\n",
    "    if message == 'quit':\n",
    "        active = False\n",
    "    else:\n",
    "        print(message)\n"
   ]
  },
  {
   "cell_type": "code",
   "execution_count": 124,
   "metadata": {},
   "outputs": [
    {
     "name": "stdout",
     "output_type": "stream",
     "text": [
      "Awais\n",
      "quit\n"
     ]
    }
   ],
   "source": [
    "prompt = \"\\n Tell me\"\n",
    "prompt += \"\\n Enter 'quit' to end programm\"\n",
    "message = \" \"\n",
    "while message != 'quit':\n",
    "    message = input(prompt)\n",
    "    print(message)"
   ]
  },
  {
   "cell_type": "code",
   "execution_count": 125,
   "metadata": {},
   "outputs": [
    {
     "name": "stdout",
     "output_type": "stream",
     "text": [
      "1\n",
      "2\n",
      "3\n",
      "4\n",
      "loop finished\n"
     ]
    }
   ],
   "source": [
    "# loop with else \n",
    "i = 1\n",
    "while i <= 4:\n",
    "    print(i)\n",
    "    i += 1\n",
    "else:\n",
    "    print(\"loop finished\") "
   ]
  },
  {
   "cell_type": "markdown",
   "metadata": {},
   "source": [
    "# Exercise"
   ]
  },
  {
   "cell_type": "code",
   "execution_count": 126,
   "metadata": {},
   "outputs": [
    {
     "name": "stdout",
     "output_type": "stream",
     "text": [
      "1\n",
      "2\n",
      "3\n",
      "4\n",
      "5\n",
      "6\n",
      "7\n",
      "8\n",
      "9\n",
      "10\n",
      "11\n",
      "12\n",
      "13\n",
      "14\n",
      "15\n",
      "16\n",
      "17\n",
      "18\n",
      "19\n",
      "20\n"
     ]
    }
   ],
   "source": [
    "# 01.\n",
    "for i in range(1,21):\n",
    "    print(i)"
   ]
  },
  {
   "cell_type": "code",
   "execution_count": 138,
   "metadata": {},
   "outputs": [
    {
     "name": "stdout",
     "output_type": "stream",
     "text": [
      "1\n",
      "8\n",
      "27\n",
      "64\n",
      "125\n",
      "216\n",
      "343\n",
      "512\n",
      "729\n",
      "1000\n"
     ]
    }
   ],
   "source": [
    "# 02. cubes\n",
    "cubes = []\n",
    "for i in range(1,11):\n",
    "    cubes.append(i**3)\n",
    "for cube in cubes:\n",
    "    print(cube)                  "
   ]
  },
  {
   "cell_type": "code",
   "execution_count": 140,
   "metadata": {},
   "outputs": [
    {
     "name": "stdout",
     "output_type": "stream",
     "text": [
      "[1, 8, 27, 64, 125, 216, 343, 512, 729, 1000]\n"
     ]
    }
   ],
   "source": [
    "# 03. Cube Comprehension\n",
    "\n",
    "cubes = [i**3 for i in range(1, 11)]\n",
    "print(cubes)                          "
   ]
  },
  {
   "cell_type": "code",
   "execution_count": 141,
   "metadata": {},
   "outputs": [
    {
     "name": "stdout",
     "output_type": "stream",
     "text": [
      "i like : pepperoni pizza\n",
      "i like : hawaiian pizza\n",
      "i like : meat lovers pizza\n",
      "i like pizza !\n"
     ]
    }
   ],
   "source": [
    "# 04. fav pizza \n",
    "\n",
    "favorite_pizzas = [\"pepperoni\", \"hawaiian\", \"meat lovers\"]\n",
    "for pizza in favorite_pizzas:\n",
    "     print(f'i like : {pizza} pizza')\n",
    "print(f'i like pizza !')"
   ]
  },
  {
   "cell_type": "markdown",
   "metadata": {},
   "source": [
    "# preration for loops"
   ]
  },
  {
   "cell_type": "code",
   "execution_count": 142,
   "metadata": {},
   "outputs": [
    {
     "name": "stdout",
     "output_type": "stream",
     "text": [
      "Alice, that was a great trick!\n",
      "i cant wait to see your next trick,Alice.\n",
      "\n",
      "David, that was a great trick!\n",
      "i cant wait to see your next trick,David.\n",
      "\n",
      "Caroline, that was a great trick!\n",
      "i cant wait to see your next trick,Caroline.\n",
      "\n",
      "Thank you, everyone. That was a great magic show!\n"
     ]
    }
   ],
   "source": [
    "magicians = ['alice', 'david', 'caroline']\n",
    "for magician in magicians:\n",
    "    print(f'{magician.title()}, that was a great trick!')\n",
    "    print(f'i cant wait to see your next trick,{magician.title()}.\\n')\n",
    "print(\"Thank you, everyone. That was a great magic show!\")"
   ]
  },
  {
   "cell_type": "code",
   "execution_count": 143,
   "metadata": {},
   "outputs": [
    {
     "name": "stdout",
     "output_type": "stream",
     "text": [
      "1\n",
      "2\n",
      "3\n",
      "4\n",
      "5\n",
      "6\n",
      "7\n",
      "8\n",
      "9\n",
      "10\n"
     ]
    }
   ],
   "source": [
    "# using range function.\n",
    "for value in range(1,11):\n",
    "    print(value) "
   ]
  },
  {
   "cell_type": "code",
   "execution_count": 1,
   "metadata": {},
   "outputs": [
    {
     "name": "stdout",
     "output_type": "stream",
     "text": [
      "[1, 2, 3, 4]\n"
     ]
    }
   ],
   "source": [
    "# list of range \n",
    "message = list(range(1,5))\n",
    "print(message) "
   ]
  },
  {
   "cell_type": "code",
   "execution_count": 2,
   "metadata": {},
   "outputs": [
    {
     "name": "stdout",
     "output_type": "stream",
     "text": [
      "[1, 4, 9, 16, 25, 36, 49, 64, 81, 100]\n"
     ]
    }
   ],
   "source": [
    "# square of numbers \n",
    "squares = []\n",
    "for value in range(1, 11):\n",
    "                        square = value ** 2\n",
    "                        squares.append(square)\n",
    "print(squares)\n",
    "    "
   ]
  },
  {
   "cell_type": "code",
   "execution_count": 3,
   "metadata": {},
   "outputs": [
    {
     "name": "stdout",
     "output_type": "stream",
     "text": [
      "1\n",
      "9\n",
      "45\n"
     ]
    }
   ],
   "source": [
    "# min max\n",
    "digit = [1,2,3,4,5,6,7,8,9]\n",
    "print(min(digit))\n",
    "print(max(digit))\n",
    "print(sum(digit))"
   ]
  },
  {
   "cell_type": "code",
   "execution_count": 4,
   "metadata": {},
   "outputs": [
    {
     "name": "stdout",
     "output_type": "stream",
     "text": [
      "['babar', 'shaheen', 'malik']\n",
      "['shaheen', 'malik', 'rizwan']\n",
      "['babar', 'shaheen', 'malik', 'rizwan']\n",
      "['malik', 'rizwan']\n"
     ]
    }
   ],
   "source": [
    "# silicing a list\n",
    "players = ['babar', 'shaheen', 'malik','rizwan']\n",
    "print(players[0:3])\n",
    "print(players[1:4])\n",
    "print(players[:4])\n",
    "print(players[2:])"
   ]
  },
  {
   "cell_type": "code",
   "execution_count": 5,
   "metadata": {},
   "outputs": [
    {
     "name": "stdout",
     "output_type": "stream",
     "text": [
      "Here are the first four players on my team:\n",
      "Babar\n",
      "Shaheen\n",
      "Malik\n",
      "Rizwan\n"
     ]
    }
   ],
   "source": [
    "# looping through silicing a list\n",
    "players = ['babar', 'shaheen', 'malik','rizwan']\n",
    "\n",
    "print(\"Here are the first four players on my team:\")\n",
    "for player in players[:4]:\n",
    "    print(player.title())\n"
   ]
  },
  {
   "cell_type": "code",
   "execution_count": 6,
   "metadata": {},
   "outputs": [
    {
     "name": "stdout",
     "output_type": "stream",
     "text": [
      "['rizwan', 'shaheen', 'amir']\n"
     ]
    }
   ],
   "source": [
    "players = ['babar', 'rizwan', 'shaheen', 'amir']\n",
    "print(players[-3:])\n"
   ]
  },
  {
   "cell_type": "code",
   "execution_count": 7,
   "metadata": {},
   "outputs": [
    {
     "name": "stdout",
     "output_type": "stream",
     "text": [
      "Here are the first three playeers on my team\n",
      "Babar\n",
      "Rizwan\n",
      "Shaheen\n"
     ]
    }
   ],
   "source": [
    "# looping through slicing.\n",
    "players = ['babar', 'rizwan', 'shaheen', 'amir']\n",
    "print(\"Here are the first three playeers on my team\")\n",
    "for player in players[:3]:\n",
    "    print(player.title())\n"
   ]
  },
  {
   "cell_type": "code",
   "execution_count": 8,
   "metadata": {},
   "outputs": [
    {
     "name": "stdout",
     "output_type": "stream",
     "text": [
      "My favourite foods are:\n",
      "['pizza', 'Tea', 'etc']\n",
      "\n",
      "My friends favourite foods are:\n",
      "['pizza']\n"
     ]
    }
   ],
   "source": [
    "my_food = ['pizza','Tea','etc']\n",
    "friend_foods = my_food[:1]\n",
    "print(\"My favourite foods are:\")\n",
    "print(my_food)\n",
    "print(\"\\nMy friends favourite foods are:\")\n",
    "print(friend_foods)"
   ]
  },
  {
   "cell_type": "code",
   "execution_count": 9,
   "metadata": {},
   "outputs": [
    {
     "name": "stdout",
     "output_type": "stream",
     "text": [
      "1121123211234321123454321\n"
     ]
    }
   ],
   "source": [
    "rows = int(input('Enter a number of rows'))\n",
    "i = 1\n",
    "for i in range(i,rows+1):\n",
    "    for j in range(1,i+1):\n",
    "        print(j, end=\"\")\n",
    "    for k in range(i-1,0,-1):\n",
    "        print(k, end=\"\")\n",
    "        \n",
    "print()"
   ]
  },
  {
   "cell_type": "code",
   "execution_count": 11,
   "metadata": {},
   "outputs": [
    {
     "name": "stdout",
     "output_type": "stream",
     "text": [
      "It can form a triangle\n"
     ]
    }
   ],
   "source": [
    "# code for triangle \n",
    "a = int(input(\"Enter the first angle: \"))\n",
    "b = int(input(\"Enter the second angle: \"))\n",
    "c = int(input(\"Enter the third angle: \"))\n",
    "if a+b+c == 180:\n",
    "    print(\"It can form a triangle\")\n",
    "else:\n",
    "    print(\"It cannot form a triangle\")"
   ]
  },
  {
   "cell_type": "markdown",
   "metadata": {},
   "source": [
    "# Rows pattern using loops "
   ]
  },
  {
   "cell_type": "code",
   "execution_count": 16,
   "metadata": {},
   "outputs": [
    {
     "name": "stdout",
     "output_type": "stream",
     "text": [
      "*\n",
      "**\n",
      "***\n",
      "****\n",
      "*****\n",
      "******\n",
      "*******\n",
      "********\n",
      "*********\n",
      "**********\n",
      "***********\n",
      "************\n",
      "*************\n",
      "**************\n",
      "***************\n",
      "****************\n",
      "*****************\n",
      "******************\n",
      "*******************\n",
      "********************\n",
      "*********************\n",
      "**********************\n",
      "***********************\n",
      "************************\n",
      "*************************\n",
      "**************************\n",
      "***************************\n",
      "****************************\n",
      "*****************************\n",
      "******************************\n"
     ]
    }
   ],
   "source": [
    "# rows pattern  \n",
    "rows = int(input(\"Enter the number of rows \"))\n",
    "for i in range(1, rows+1):\n",
    "    for j in range(1, i+1):\n",
    "        print('*', end='')\n",
    "    print()\n"
   ]
  },
  {
   "cell_type": "code",
   "execution_count": 17,
   "metadata": {},
   "outputs": [
    {
     "name": "stdout",
     "output_type": "stream",
     "text": [
      "1\n",
      "121\n",
      "12321\n",
      "1234321\n",
      "123454321\n",
      "12345654321\n",
      "1234567654321\n",
      "123456787654321\n",
      "12345678987654321\n",
      "12345678910987654321\n",
      "123456789101110987654321\n",
      "1234567891011121110987654321\n"
     ]
    }
   ],
   "source": [
    "# rows pattern  \n",
    "rows = int(input(\"Enter the number of rows \"))\n",
    "for i in range(1, rows+1):\n",
    "    for j in range(1, i+1):\n",
    "        print(j, end='')\n",
    "    for k in range(i-1, 0, -1):\n",
    "        print(k, end='')\n",
    "    print()"
   ]
  },
  {
   "cell_type": "markdown",
   "metadata": {},
   "source": [
    "# Loop Control Statement\n",
    "Break\n",
    "Continue\n",
    "Pass"
   ]
  },
  {
   "cell_type": "code",
   "execution_count": 18,
   "metadata": {},
   "outputs": [
    {
     "name": "stdout",
     "output_type": "stream",
     "text": [
      "5\n",
      "7\n"
     ]
    }
   ],
   "source": [
    "# break\n",
    "lower = int(input('enter lower range'))\n",
    "upper = int(input('enter upper range'))\n",
    "\n",
    "for i in range(lower,upper+1):\n",
    "  for j in range(2,i):\n",
    "    if i%j == 0:\n",
    "      break\n",
    "  else:\n",
    "    print(i)"
   ]
  },
  {
   "cell_type": "code",
   "execution_count": 19,
   "metadata": {},
   "outputs": [
    {
     "name": "stdout",
     "output_type": "stream",
     "text": [
      "1\n",
      "2\n",
      "3\n",
      "4\n",
      "6\n",
      "7\n",
      "8\n",
      "9\n"
     ]
    }
   ],
   "source": [
    "# Continue\n",
    "for i in range(1,10):\n",
    "  if i == 5:\n",
    "    continue\n",
    "  print(i)"
   ]
  },
  {
   "cell_type": "markdown",
   "metadata": {},
   "source": [
    "# Tuples \n",
    "- tuples canot change able\n",
    "- its immutable\n",
    "- tuples are faster than lists\n",
    "- tuples are more memory efficient than lists"
   ]
  },
  {
   "cell_type": "code",
   "execution_count": 3,
   "metadata": {},
   "outputs": [
    {
     "name": "stdout",
     "output_type": "stream",
     "text": [
      "9200\n",
      "300\n"
     ]
    }
   ],
   "source": [
    "message = (9200,300)\n",
    "print(message[0]) #9200\n",
    "print(message[1]) #300"
   ]
  },
  {
   "cell_type": "code",
   "execution_count": 4,
   "metadata": {},
   "outputs": [
    {
     "name": "stdout",
     "output_type": "stream",
     "text": [
      "(1, 2, 3, 4, 5)\n",
      "(1, 2, 3, 4, 5)\n",
      "(1, 2, 3, 4, 5)\n",
      "(1, 2, 3, 4, 5)\n",
      "(1, 2, 3, 4, 5)\n",
      "Original dimensions\n",
      "200\n",
      "50\n",
      "\n",
      "modified dimension :\n",
      "400\n",
      "70\n"
     ]
    }
   ],
   "source": [
    "# looping through tuples\n",
    "tup = (1, 2, 3, 4, 5)\n",
    "for x in tup:\n",
    "    print(tup)\n",
    "\n",
    "dimensions = (200,50)\n",
    "print(\"Original dimensions\")\n",
    "for dimension in dimensions:\n",
    "    print(dimension)\n",
    "\n",
    "dimensions = (400,70)\n",
    "print(\"\\nmodified dimension :\")\n",
    "for dimension in dimensions:\n",
    "    print(dimension)"
   ]
  },
  {
   "cell_type": "code",
   "execution_count": 6,
   "metadata": {},
   "outputs": [
    {
     "name": "stdout",
     "output_type": "stream",
     "text": [
      "10\n",
      "9\n",
      "8\n",
      "7\n",
      "6\n",
      "5\n",
      "4\n",
      "3\n",
      "2\n",
      "1\n"
     ]
    }
   ],
   "source": [
    "# loops in reverse order\n",
    "i = 10\n",
    "while i >= 1:\n",
    "    print(i)\n",
    "    i -=1"
   ]
  },
  {
   "cell_type": "code",
   "execution_count": 7,
   "metadata": {},
   "outputs": [
    {
     "name": "stdout",
     "output_type": "stream",
     "text": [
      "3 * 1 = 3\n",
      "3 * 2 = 6\n",
      "3 * 3 = 9\n",
      "3 * 4 = 12\n",
      "3 * 5 = 15\n",
      "3 * 6 = 18\n",
      "3 * 7 = 21\n",
      "3 * 8 = 24\n",
      "3 * 9 = 27\n",
      "3 * 10 = 30\n"
     ]
    }
   ],
   "source": [
    "# print a table of 3 or multiplication role \n",
    "i = 1\n",
    "while i <= 10:\n",
    "    print(3 , '*', i, '=',  3* i)\n",
    "    i += 1"
   ]
  },
  {
   "cell_type": "code",
   "execution_count": 8,
   "metadata": {},
   "outputs": [
    {
     "name": "stdout",
     "output_type": "stream",
     "text": [
      "1\n",
      "4\n",
      "16\n",
      "64\n",
      "81\n",
      "100\n"
     ]
    }
   ],
   "source": [
    "numbers = [1,4,16,64,81,100]\n",
    "\n",
    "index = 0\n",
    "while index < len(numbers):\n",
    "    print(numbers[index])\n",
    "    index += 1\n",
    "    \n"
   ]
  },
  {
   "cell_type": "code",
   "execution_count": 9,
   "metadata": {},
   "outputs": [
    {
     "name": "stdout",
     "output_type": "stream",
     "text": [
      "The end\n",
      "The end\n",
      "The end\n",
      "The end\n",
      "The end\n",
      "Found at the index 6\n"
     ]
    }
   ],
   "source": [
    "# use for loops \n",
    "numbers = (1,22,44,55, 66, 36,50,77,36)\n",
    "x = 36\n",
    "index = 0\n",
    "for value in numbers:\n",
    "    index+=1\n",
    "    if(value == x):\n",
    "        print(\"Found at the index\", index)\n",
    "        break\n",
    "\n",
    "    else:\n",
    "        print(\"The end\")"
   ]
  },
  {
   "cell_type": "code",
   "execution_count": 10,
   "metadata": {},
   "outputs": [
    {
     "name": "stdout",
     "output_type": "stream",
     "text": [
      "[]\n",
      "[1]\n",
      "[1]\n",
      "[1, 4]\n",
      "[1, 4]\n",
      "[1, 4, 9]\n",
      "[1, 4, 9]\n",
      "[1, 4, 9, 16]\n",
      "[1, 4, 9, 16]\n",
      "[1, 4, 9, 16, 25]\n",
      "[1, 4, 9, 16, 25]\n",
      "[1, 4, 9, 16, 25, 36]\n",
      "[1, 4, 9, 16, 25, 36]\n",
      "[1, 4, 9, 16, 25, 36, 49]\n",
      "[1, 4, 9, 16, 25, 36, 49]\n",
      "[1, 4, 9, 16, 25, 36, 49, 64]\n",
      "[1, 4, 9, 16, 25, 36, 49, 64]\n",
      "[1, 4, 9, 16, 25, 36, 49, 64, 81]\n",
      "[1, 4, 9, 16, 25, 36, 49, 64, 81]\n",
      "[1, 4, 9, 16, 25, 36, 49, 64, 81, 100]\n"
     ]
    }
   ],
   "source": [
    "# use squre function\n",
    "squares = []\n",
    "for value in range(1, 11):\n",
    "        square = value ** 2\n",
    "        print(squares)\n",
    "        squares.append(square)\n",
    "        print(squares)"
   ]
  },
  {
   "cell_type": "code",
   "execution_count": null,
   "metadata": {},
   "outputs": [
    {
     "name": "stdout",
     "output_type": "stream",
     "text": [
      "Table of 2\n",
      "............\n",
      "2  x 1 = 2\n",
      "2  x 2 = 4\n",
      "2  x 3 = 6\n",
      "2  x 4 = 8\n",
      "2  x 5 = 10\n",
      "2  x 6 = 12\n",
      "2  x 7 = 14\n",
      "2  x 8 = 16\n",
      "2  x 9 = 18\n",
      "2  x 10 = 20\n",
      "2  x 11 = 22\n",
      "2  x 12 = 24\n"
     ]
    }
   ],
   "source": [
    "#  generate tables of 2 and yields following\n",
    "print(\"Table of 2\")\n",
    "print(\"............\")\n",
    "for i in range(1, 13):\n",
    "    product = 2 *i\n",
    "    print(f\"2  x {i} = {product}\")\n",
    "\n",
    "#"
   ]
  },
  {
   "cell_type": "code",
   "execution_count": 12,
   "metadata": {},
   "outputs": [
    {
     "name": "stdout",
     "output_type": "stream",
     "text": [
      "Table of 10\n",
      "..........\n",
      "10 x 1 = 10\n",
      "10 x 2 = 20\n",
      "10 x 3 = 30\n",
      "10 x 4 = 40\n",
      "10 x 5 = 50\n",
      "10 x 6 = 60\n",
      "10 x 7 = 70\n",
      "10 x 8 = 80\n",
      "10 x 9 = 90\n",
      "10 x 10 = 100\n",
      "Done!\n"
     ]
    }
   ],
   "source": [
    "# create a table of 10 \n",
    "print(\"Table of 10\")\n",
    "print(\"..........\")\n",
    "for i in range(1,11):\n",
    "    product=i*10\n",
    "    print(f\"10 x {i} = {product}\")\n",
    "\n",
    "print(\"Done!\")"
   ]
  },
  {
   "cell_type": "code",
   "execution_count": 13,
   "metadata": {},
   "outputs": [
    {
     "name": "stdout",
     "output_type": "stream",
     "text": [
      "Table of 5\n",
      "............\n",
      "5  x 1 = 5\n",
      "5  x 2 = 10\n",
      "5  x 3 = 15\n",
      "5  x 4 = 20\n",
      "5  x 5 = 25\n",
      "5  x 6 = 30\n",
      "5  x 7 = 35\n",
      "5  x 8 = 40\n",
      "5  x 9 = 45\n",
      "5  x 10 = 50\n",
      "5  x 11 = 55\n",
      "5  x 12 = 60\n"
     ]
    }
   ],
   "source": [
    "# Table of 5.\n",
    "print(\"Table of 5\")\n",
    "print(\"............\")\n",
    "for i in range(1, 13):\n",
    "    product = 5 *i\n",
    "    print(f\"5  x {i} = {product}\")\n"
   ]
  },
  {
   "cell_type": "code",
   "execution_count": 14,
   "metadata": {},
   "outputs": [
    {
     "name": "stdout",
     "output_type": "stream",
     "text": [
      " 5 x 1 = 5\n",
      " 5 x 2 = 10\n",
      " 5 x 3 = 15\n",
      " 5 x 4 = 20\n",
      " 5 x 5 = 25\n",
      " 5 x 6 = 30\n",
      " 5 x 7 = 35\n",
      " 5 x 8 = 40\n",
      " 5 x 9 = 45\n",
      " 5 x 10 = 50\n",
      " 5 x 11 = 55\n",
      " 5 x 12 = 60\n"
     ]
    }
   ],
   "source": [
    "# using a integer input.\n",
    "numbers = int(input(\"enter a number\"))\n",
    "for i in range(1,13):\n",
    "    print(f\" {numbers} x {i} = {numbers*i}\")"
   ]
  },
  {
   "cell_type": "markdown",
   "metadata": {},
   "source": [
    "# Dictionary\n"
   ]
  },
  {
   "cell_type": "code",
   "execution_count": 15,
   "metadata": {},
   "outputs": [
    {
     "name": "stdout",
     "output_type": "stream",
     "text": [
      "{'color': 'yellow', 'points': 10, 'speed': 'medium'}\n",
      "...\n",
      "{'color': 'yellow', 'points': 10, 'speed': 'medium'}\n",
      "...\n",
      "{'color': 'yellow', 'points': 10, 'speed': 'medium'}\n",
      "...\n",
      "{'color': 'green', 'points': 5, 'speed': 'slow'}\n",
      "...\n",
      "{'color': 'green', 'points': 5, 'speed': 'slow'}\n",
      "...\n"
     ]
    }
   ],
   "source": [
    "\n",
    "\n",
    "\n",
    "# Create a list of 30 aliens\n",
    "aliens = []\n",
    "for alien_number in range(30):\n",
    "    new_alien = {'color': 'green', 'points': 5, 'speed': 'slow'}\n",
    "    aliens.append(new_alien)\n",
    "\n",
    "# Modify the first 3 aliens\n",
    "for alien in aliens[:3]:\n",
    "    if alien['color'] == 'green':\n",
    "        alien['color'] = 'yellow'\n",
    "        alien['speed'] = 'medium'\n",
    "        alien['points'] = 10\n",
    "\n",
    "# Print the first 5 aliens\n",
    "\n",
    "for alien in aliens[:5]:\n",
    "    print(alien)\n",
    "\n",
    "    print(\"...\")"
   ]
  },
  {
   "cell_type": "code",
   "execution_count": 16,
   "metadata": {},
   "outputs": [
    {
     "name": "stdout",
     "output_type": "stream",
     "text": [
      "You ordered a thick-crust pizza \n",
      "with the following toppings:\n",
      "- mushrooms\n",
      "- extra cheese\n"
     ]
    }
   ],
   "source": [
    "# Define the pizza order\n",
    "pizza = {\n",
    "    'crust': 'thick',\n",
    "    'toppings': ['mushrooms', 'extra cheese']\n",
    "}\n",
    "\n",
    "# Summarize the order\n",
    "print(f\"You ordered a {pizza['crust']}-crust pizza \")\n",
    "print(\"with the following toppings:\")\n",
    "\n",
    "# List each topping\n",
    "for topping in pizza['toppings']:\n",
    "    print(f\"- {topping}\")\n"
   ]
  },
  {
   "cell_type": "code",
   "execution_count": 17,
   "metadata": {},
   "outputs": [
    {
     "name": "stdout",
     "output_type": "stream",
     "text": [
      "\n",
      "Jen's favorite languages are:\n",
      "\tPython\n",
      "\tRust\n",
      "\n",
      "Sarah's favorite languages are:\n",
      "\tC\n",
      "\tJava\n",
      "\n",
      "Edward's favorite languages are:\n",
      "\tRuby\n",
      "\tGo\n",
      "\n",
      "John's favorite languages are:\n",
      "\tPython\n",
      "\tSwift\n"
     ]
    }
   ],
   "source": [
    "fav_languages = {\n",
    "    'jen' : ['python', 'rust'],\n",
    "    'sarah' : ['c', 'java'],\n",
    "    'edward' : ['ruby', 'go'],\n",
    "    'john' : ['python', 'swift'],\n",
    "}\n",
    "\n",
    "# use for loops\n",
    "for name, languages in fav_languages.items():\n",
    "    print(f\"\\n{name.title()}'s favorite languages are:\")\n",
    "    for language in languages:\n",
    "        print(f\"\\t{language.title()}\")"
   ]
  },
  {
   "cell_type": "markdown",
   "metadata": {},
   "source": [
    "# Tuples prepration."
   ]
  },
  {
   "cell_type": "code",
   "execution_count": 18,
   "metadata": {},
   "outputs": [
    {
     "name": "stdout",
     "output_type": "stream",
     "text": [
      "(2, 3, 4, 5)\n"
     ]
    }
   ],
   "source": [
    "# 1. create a tuple\n",
    "tup = (2,3,4,5)\n",
    "print(tup)"
   ]
  },
  {
   "cell_type": "code",
   "execution_count": 19,
   "metadata": {},
   "outputs": [
    {
     "name": "stdout",
     "output_type": "stream",
     "text": [
      "<class 'tuple'>\n"
     ]
    }
   ],
   "source": [
    "# 2. diffrent types of tuples \n",
    "tup1 = ( \"Hello\", 33, complex,)\n",
    "print(type(tup1))"
   ]
  },
  {
   "cell_type": "code",
   "execution_count": 20,
   "metadata": {},
   "outputs": [
    {
     "name": "stdout",
     "output_type": "stream",
     "text": [
      "7\n"
     ]
    }
   ],
   "source": [
    "# get 4th elements of tuple\n",
    "tup2 = (3,4,5,6,7)\n",
    "print(tup2[4])"
   ]
  },
  {
   "cell_type": "code",
   "execution_count": 21,
   "metadata": {},
   "outputs": [
    {
     "name": "stdout",
     "output_type": "stream",
     "text": [
      "3 exists in the tuple\n"
     ]
    }
   ],
   "source": [
    "# exists elemnt in a list\n",
    "my_tup3 = (1,2,3,4,5)\n",
    "element = 3\n",
    "if element in my_tup3:\n",
    "    print(f\"{element} exists in the tuple\")\n",
    "else:\n",
    "    print(f\"{element} does not exists tuple\")\n"
   ]
  },
  {
   "cell_type": "code",
   "execution_count": 22,
   "metadata": {},
   "outputs": [
    {
     "name": "stdout",
     "output_type": "stream",
     "text": [
      "(1, 2, 3, 45, 4)\n"
     ]
    }
   ],
   "source": [
    "# convert a list into tuple.\n",
    "\n",
    "my_list = [1,2,3,45,4]\n",
    "my_tuple = tuple(my_list)\n",
    "print(my_tuple)"
   ]
  },
  {
   "cell_type": "code",
   "execution_count": 23,
   "metadata": {},
   "outputs": [
    {
     "name": "stdout",
     "output_type": "stream",
     "text": [
      "(1, 2, 3, 45, 4)\n"
     ]
    }
   ],
   "source": [
    "# convert a list to atuple (alternative)\n",
    "my_list = [1,2,3,45,4]\n",
    "my_tuple= (*my_list,)\n",
    "print(my_tuple)"
   ]
  },
  {
   "cell_type": "code",
   "execution_count": 24,
   "metadata": {},
   "outputs": [
    {
     "name": "stdout",
     "output_type": "stream",
     "text": [
      "(56, 5, 4, 3, 2, 1)\n"
     ]
    }
   ],
   "source": [
    "# reverse a tuple\n",
    "my_tuple = (1,2,3,4,5,56)\n",
    "reverse_tuple = tuple(reversed(my_tuple))\n",
    "print(reverse_tuple)"
   ]
  },
  {
   "cell_type": "code",
   "execution_count": 25,
   "metadata": {},
   "outputs": [
    {
     "name": "stdout",
     "output_type": "stream",
     "text": [
      "(56, 5, 4, 3, 2, 1)\n"
     ]
    }
   ],
   "source": [
    "# reverse a tuple\n",
    "my_tuple = (1,2,3,4,5,56)\n",
    "reverse_tuple = my_tuple[::-1]\n",
    "print(reverse_tuple)"
   ]
  },
  {
   "cell_type": "code",
   "execution_count": 26,
   "metadata": {},
   "outputs": [
    {
     "name": "stdout",
     "output_type": "stream",
     "text": [
      "(44, 55)\n"
     ]
    }
   ],
   "source": [
    "# copy elements of 44 and 55\n",
    "tuple1 = (11, 22, 33, 44, 55, 66)\n",
    "tuple2 = (tuple1[3], tuple1[4])\n",
    "print(tuple2)\n"
   ]
  },
  {
   "cell_type": "markdown",
   "metadata": {},
   "source": [
    "# Conditional satetment \n"
   ]
  },
  {
   "cell_type": "code",
   "execution_count": 27,
   "metadata": {},
   "outputs": [
    {
     "name": "stdout",
     "output_type": "stream",
     "text": [
      "c is the smallest\n"
     ]
    }
   ],
   "source": [
    "# conditional if elif else\n",
    "a = 5\n",
    "b = 4\n",
    "c = 3\n",
    "\n",
    "if a < b and a < c:\n",
    "    print(\"a is smaller than b and c\")\n",
    "elif b < c:\n",
    "        print(\"b is smaller than c\")\n",
    "else:\n",
    "        print(\"c is the smallest\")"
   ]
  },
  {
   "cell_type": "markdown",
   "metadata": {},
   "source": [
    "# Module in python"
   ]
  },
  {
   "cell_type": "code",
   "execution_count": 28,
   "metadata": {},
   "outputs": [
    {
     "name": "stdout",
     "output_type": "stream",
     "text": [
      "-0.4480736161291701\n",
      "['False', 'None', 'True', 'and', 'as', 'assert', 'async', 'await', 'break', 'class', 'continue', 'def', 'del', 'elif', 'else', 'except', 'finally', 'for', 'from', 'global', 'if', 'import', 'in', 'is', 'lambda', 'nonlocal', 'not', 'or', 'pass', 'raise', 'return', 'try', 'while', 'with', 'yield']\n",
      "10\n",
      "2025-09-24 11:54:29.346105\n"
     ]
    }
   ],
   "source": [
    "# math\n",
    "import math\n",
    "print(math.cos(90))\n",
    "\n",
    "# keywords\n",
    "import keyword\n",
    "print(keyword.kwlist)\n",
    "\n",
    "# random\n",
    "import random\n",
    "print(random.randint(1, 10))\n",
    "\n",
    "# datatime\n",
    "import datetime\n",
    "print(datetime.datetime.now())"
   ]
  },
  {
   "cell_type": "code",
   "execution_count": 29,
   "metadata": {},
   "outputs": [
    {
     "name": "stdout",
     "output_type": "stream",
     "text": [
      "10 10000\n",
      "9 9090.90909090909\n",
      "8 8264.462809917353\n",
      "7 7513.148009015775\n",
      "6 6830.134553650703\n",
      "5 6209.213230591548\n",
      "4 5644.739300537771\n",
      "3 5131.5811823070635\n",
      "2 4665.07380209733\n",
      "1 4240.976183724845\n"
     ]
    }
   ],
   "source": [
    "# 10% decrease population\n",
    "current_pap = 10000\n",
    "for i in range(10,0,-1):\n",
    "    print(i,current_pap)\n",
    "    current_pap = current_pap/1.1"
   ]
  },
  {
   "cell_type": "code",
   "execution_count": 30,
   "metadata": {},
   "outputs": [
    {
     "name": "stdout",
     "output_type": "stream",
     "text": [
      "2025-09-24 11:54:34.426718\n"
     ]
    }
   ],
   "source": [
    "import datetime\n",
    "print(datetime.datetime.now())"
   ]
  },
  {
   "cell_type": "markdown",
   "metadata": {},
   "source": [
    "# Nested loops\n"
   ]
  },
  {
   "cell_type": "code",
   "execution_count": 31,
   "metadata": {},
   "outputs": [
    {
     "name": "stdout",
     "output_type": "stream",
     "text": [
      "1 1\n",
      "1 2\n",
      "1 3\n",
      "1 4\n",
      "2 1\n",
      "2 2\n",
      "2 3\n",
      "2 4\n",
      "3 1\n",
      "3 2\n",
      "3 3\n",
      "3 4\n",
      "4 1\n",
      "4 2\n",
      "4 3\n",
      "4 4\n"
     ]
    }
   ],
   "source": [
    "for i in range(1,5):\n",
    "    for j in range(1,5):\n",
    "     print(i,j)"
   ]
  },
  {
   "cell_type": "markdown",
   "metadata": {},
   "source": [
    "# Dictionary"
   ]
  },
  {
   "cell_type": "code",
   "execution_count": null,
   "metadata": {},
   "outputs": [],
   "source": [
    "# Dictionary\n",
    "\"\"\"Dictionary in Python is a collection of keys values, used to store data values like a map, which, unlike other data types which hold only a single value as an element.\n",
    "\n",
    "In some languages it is known as map or assosiative arrays.\n",
    "\n",
    "dict = { 'name' : 'nitish' , 'age' : 33 , 'gender' : 'male' }\n",
    "\n",
    "Characterstics:\n",
    "\n",
    "Mutable\n",
    "Indexing has no meaning\n",
    "keys can't be duplicated\n",
    "keys can't be mutable items\"\"\""
   ]
  },
  {
   "cell_type": "code",
   "execution_count": 36,
   "metadata": {},
   "outputs": [
    {
     "name": "stdout",
     "output_type": "stream",
     "text": [
      "{'name': 'Awais', (1, 2, 3): 2}\n"
     ]
    }
   ],
   "source": [
    "# empty dictionary\n",
    "d = {}\n",
    "d\n",
    "# 1D dictionary\n",
    "d1 = { 'name' : 'Awais' ,'gender' : 'male' }\n",
    "d1\n",
    "# with mixed keys\n",
    "d2 = {(1,2,3):1,'hello':'world'}\n",
    "d2\n",
    "# 2D dictionary -> JSON\n",
    "s = {\n",
    "    'name':'Awais',\n",
    "     'college':'Comsats',\n",
    "     'sem':4,\n",
    "     'subjects':{\n",
    "         'dsa':50,\n",
    "         'maths':67,\n",
    "         'english':34\n",
    "     }\n",
    "}\n",
    "s\n",
    "# using sequence and dict function\n",
    "d4 = dict([('name','nitish'),('age',32),(3,3)])\n",
    "d4\n",
    "# duplicate keys\n",
    "d5 = {'name':'Awais','name':'Ali'}\n",
    "d5\n",
    "# mutable items as keys\n",
    "d6 = {'name':'Awais',(1,2,3):2}\n",
    "print(d6)"
   ]
  },
  {
   "cell_type": "code",
   "execution_count": 37,
   "metadata": {},
   "outputs": [
    {
     "data": {
      "text/plain": [
       "67"
      ]
     },
     "execution_count": 37,
     "metadata": {},
     "output_type": "execute_result"
    }
   ],
   "source": [
    "# Accessing items\n",
    "my_dict = {'name': 'Awais', 'age': 26}\n",
    "# []\n",
    "my_dict['age']\n",
    "# get\n",
    "my_dict.get('age')\n",
    "\n",
    "s['subjects']['maths']"
   ]
  },
  {
   "cell_type": "code",
   "execution_count": 38,
   "metadata": {},
   "outputs": [
    {
     "name": "stdout",
     "output_type": "stream",
     "text": [
      "{}\n"
     ]
    },
    {
     "data": {
      "text/plain": [
       "{'name': 'Awais',\n",
       " 'college': 'Comsats',\n",
       " 'sem': 4,\n",
       " 'subjects': {'dsa': 50, 'english': 34}}"
      ]
     },
     "execution_count": 38,
     "metadata": {},
     "output_type": "execute_result"
    }
   ],
   "source": [
    "# Removing key,value pairs \n",
    "d = {'name': 'Awais ', 'age': 20, 3: 3, 'gender': 'male', 'weight': 50}\n",
    "# pop\n",
    "#d.pop(3)\n",
    "#print(d)\n",
    "# popitem\n",
    "#d.popitem()\n",
    "# d.popitem()\n",
    "# print(d)\n",
    "# del\n",
    "#del d['name']\n",
    "#print(d)\n",
    "# clear\n",
    "d.clear()\n",
    "print(d)\n",
    "\n",
    "del s['subjects']['maths']\n",
    "s"
   ]
  },
  {
   "cell_type": "code",
   "execution_count": 39,
   "metadata": {},
   "outputs": [
    {
     "name": "stdout",
     "output_type": "stream",
     "text": [
      "{'name': 'Awais', 'college': 'Comsats', 'sem': 4, 'subjects': {'dsa': 80, 'english': 34}}\n"
     ]
    },
    {
     "data": {
      "text/plain": [
       "True"
      ]
     },
     "execution_count": 39,
     "metadata": {},
     "output_type": "execute_result"
    }
   ],
   "source": [
    "# Editing \n",
    "s['subjects']['dsa'] = 80\n",
    "s\n",
    "\n",
    "print(s)\n",
    "\n",
    "'name' in s"
   ]
  },
  {
   "cell_type": "code",
   "execution_count": 40,
   "metadata": {},
   "outputs": [
    {
     "name": "stdout",
     "output_type": "stream",
     "text": [
      "{}\n",
      "dict_items([])\n",
      "dict_keys([])\n",
      "dict_values([])\n"
     ]
    }
   ],
   "source": [
    "# items/keys/values\n",
    "print(d)\n",
    "\n",
    "print(d.items())\n",
    "print(d.keys())\n",
    "print(d.values())"
   ]
  },
  {
   "cell_type": "code",
   "execution_count": 41,
   "metadata": {},
   "outputs": [
    {
     "data": {
      "text/plain": [
       "{1: 1, 2: 4, 3: 9, 4: 16, 5: 25, 6: 36, 7: 49, 8: 64, 9: 81, 10: 100}"
      ]
     },
     "execution_count": 41,
     "metadata": {},
     "output_type": "execute_result"
    }
   ],
   "source": [
    "# print 1st 10 numbers and their squares\n",
    "{i:i**2 for i in range(1,11)}"
   ]
  },
  {
   "cell_type": "code",
   "execution_count": 43,
   "metadata": {},
   "outputs": [
    {
     "data": {
      "text/plain": [
       "{'Islamabad': 620.0, 'Taunsa': 1240.0, 'Lahore': 1860.0}"
      ]
     },
     "execution_count": 43,
     "metadata": {},
     "output_type": "execute_result"
    }
   ],
   "source": [
    "# using existing dict\n",
    "distances = {'Islamabad':1000,'Taunsa':2000,'Lahore':3000}\n",
    "{key:value*0.62 for (key,value) in distances.items()}"
   ]
  },
  {
   "cell_type": "code",
   "execution_count": 44,
   "metadata": {},
   "outputs": [
    {
     "data": {
      "text/plain": [
       "{2: {1: 2, 2: 4, 3: 6, 4: 8, 5: 10, 6: 12, 7: 14, 8: 16, 9: 18, 10: 20},\n",
       " 3: {1: 3, 2: 6, 3: 9, 4: 12, 5: 15, 6: 18, 7: 21, 8: 24, 9: 27, 10: 30},\n",
       " 4: {1: 4, 2: 8, 3: 12, 4: 16, 5: 20, 6: 24, 7: 28, 8: 32, 9: 36, 10: 40}}"
      ]
     },
     "execution_count": 44,
     "metadata": {},
     "output_type": "execute_result"
    }
   ],
   "source": [
    "# Nested Comprehension\n",
    "# print tables of number from 2 to 4\n",
    "{i:{j:i*j for j in range(1,11)} for i in range(2,5)}"
   ]
  },
  {
   "cell_type": "code",
   "execution_count": 45,
   "metadata": {},
   "outputs": [
    {
     "data": {
      "text/plain": [
       "{'Sunday': 30.5,\n",
       " 'Monday': 32.6,\n",
       " 'Tuesday': 31.8,\n",
       " 'Wednesday': 33.4,\n",
       " 'Thursday': 29.8,\n",
       " 'Friday': 30.2,\n",
       " 'Saturday': 29.9}"
      ]
     },
     "execution_count": 45,
     "metadata": {},
     "output_type": "execute_result"
    }
   ],
   "source": [
    "# using zip\n",
    "days = [\"Sunday\", \"Monday\",\"Tuesday\",\"Wednesday\",\"Thursday\",\"Friday\",\"Saturday\"]\n",
    "temp_C = [30.5,32.6,31.8,33.4,29.8,30.2,29.9]\n",
    "\n",
    "{i:j for (i,j) in zip(days,temp_C)}"
   ]
  },
  {
   "cell_type": "code",
   "execution_count": 46,
   "metadata": {},
   "outputs": [
    {
     "name": "stdout",
     "output_type": "stream",
     "text": [
      "{1: 2, 3: 4, 4: 7, 6: 8}\n"
     ]
    }
   ],
   "source": [
    "# update\n",
    "d1 = {1:2,3:4,4:5}\n",
    "d2 = {4:7,6:8}\n",
    "\n",
    "d1.update(d2)\n",
    "print(d1)"
   ]
  },
  {
   "cell_type": "code",
   "execution_count": 47,
   "metadata": {},
   "outputs": [
    {
     "data": {
      "text/plain": [
       "{'name': 'Awais',\n",
       " 'college': 'Comsats',\n",
       " 'sem': 4,\n",
       " 'subjects': {'dsa': 80, 'english': 34, 'ds': 75}}"
      ]
     },
     "execution_count": 47,
     "metadata": {},
     "output_type": "execute_result"
    }
   ],
   "source": [
    "#Adding key-value pair\n",
    "d4['gender'] = 'male'\n",
    "d4\n",
    "d4['weight'] = 72\n",
    "d4\n",
    "\n",
    "s['subjects']['ds'] = 75\n",
    "s"
   ]
  },
  {
   "cell_type": "code",
   "execution_count": 48,
   "metadata": {},
   "outputs": [
    {
     "name": "stdout",
     "output_type": "stream",
     "text": [
      "green\n",
      "5\n",
      "you just earned 5 points!\n"
     ]
    }
   ],
   "source": [
    "alien_0 = {'color':'green', 'points': 5}\n",
    "print(alien_0['color'])\n",
    "print(alien_0['points'])\n",
    "new_points = alien_0['points']\n",
    "print(f'you just earned {new_points} points!')"
   ]
  },
  {
   "cell_type": "code",
   "execution_count": 49,
   "metadata": {},
   "outputs": [
    {
     "name": "stdout",
     "output_type": "stream",
     "text": [
      "green\n",
      "{'color': 'green', 'points': 5, 'x position': 0, 'y position': 25}\n"
     ]
    }
   ],
   "source": [
    "alien_0 = {'color':'green', 'points': 5}\n",
    "print(alien_0['color'])\n",
    "\n",
    "alien_0['x position'] = 0\n",
    "alien_0['y position'] = 25\n",
    "print(alien_0)"
   ]
  },
  {
   "cell_type": "code",
   "execution_count": 50,
   "metadata": {},
   "outputs": [
    {
     "name": "stdout",
     "output_type": "stream",
     "text": [
      "{'color': 'green', 'points': 5}\n",
      "{'color': 'green'}\n"
     ]
    }
   ],
   "source": [
    "# Removing\n",
    "alien_0 = {'color': 'green', 'points': 5}\n",
    "print(alien_0)\n",
    "del alien_0['points']\n",
    "print(alien_0)"
   ]
  },
  {
   "cell_type": "code",
   "execution_count": 51,
   "metadata": {},
   "outputs": [
    {
     "name": "stdout",
     "output_type": "stream",
     "text": [
      "90\n"
     ]
    }
   ],
   "source": [
    "# using get\n",
    "alien_0 = {'color': 'green', 'speed': 'slow'}\n",
    "point_value = alien_0.get('points', 90)\n",
    "print(point_value)"
   ]
  },
  {
   "cell_type": "code",
   "execution_count": 52,
   "metadata": {},
   "outputs": [
    {
     "name": "stdout",
     "output_type": "stream",
     "text": [
      "\n",
      "Key: username\n",
      "Value: efermi\n",
      "\n",
      "Key: first\n",
      "Value: enrico\n",
      "\n",
      "Key: last\n",
      "Value: fermi\n"
     ]
    }
   ],
   "source": [
    "#for loop:\n",
    "user_0 = {\n",
    " 'username': 'efermi',\n",
    " 'first': 'enrico',\n",
    " 'last': 'fermi',\n",
    " }\n",
    "for key, value in user_0.items():\n",
    " print(f\"\\nKey: {key}\")\n",
    " print(f\"Value: {value}\")"
   ]
  },
  {
   "cell_type": "code",
   "execution_count": 53,
   "metadata": {},
   "outputs": [
    {
     "name": "stdout",
     "output_type": "stream",
     "text": [
      "Awais likes Python\n",
      "Ali likes Java\n",
      "Ahsan likes C++\n",
      "Khan likes C#\n"
     ]
    }
   ],
   "source": [
    "fav_languages = {\n",
    "    'awais' : 'python',\n",
    "    'ali' : 'java',\n",
    "    'ahsan' : 'c++',\n",
    "    'khan' : 'c#',\n",
    "}\n",
    "\n",
    "for name, language in fav_languages.items():\n",
    "    print(f\"{name.title()} likes {language.title()}\")  # title() function is used"
   ]
  },
  {
   "cell_type": "code",
   "execution_count": 54,
   "metadata": {},
   "outputs": [],
   "source": [
    "favorite_languages = {\n",
    "    \"jan\" : \"python\",\n",
    "    \"sarah\" : \"c\",\n",
    "    \"edward\" : \"rust\",\n",
    "    \"phil\" : \"python\",\n",
    "}"
   ]
  },
  {
   "cell_type": "code",
   "execution_count": 55,
   "metadata": {},
   "outputs": [
    {
     "name": "stdout",
     "output_type": "stream",
     "text": [
      "Hi Jan.\n",
      "Hi Sarah.\n",
      "\tSarah, I see you love C\n",
      "Hi Edward.\n",
      "Hi Phil.\n",
      "\tPhil, I see you love Python\n"
     ]
    }
   ],
   "source": [
    "\n",
    "friends = [\"phil\",\"sarah\"]\n",
    "for name in favorite_languages.keys():\n",
    "    print(f\"Hi {name.title()}.\")\n",
    "    if name in friends:\n",
    "        language = favorite_languages[name].title()\n",
    "        print(f\"\\t{name.title()}, I see you love {language}\")\n"
   ]
  },
  {
   "cell_type": "code",
   "execution_count": 56,
   "metadata": {},
   "outputs": [
    {
     "name": "stdout",
     "output_type": "stream",
     "text": [
      "Username: aeinstein\n",
      "Full Name: AlbertEinstein\n",
      "location princenton\n",
      "Username: mcurie\n",
      "Full Name: MarieCurie\n",
      "location paris\n"
     ]
    }
   ],
   "source": [
    "users = {\n",
    "    'aeinstein' : {\n",
    "        'first' : 'Albert',\n",
    "        'last' : 'Einstein',\n",
    "        'location' : 'princenton',\n",
    "    },\n",
    "    'mcurie' : {\n",
    "        'first' : 'Marie',\n",
    "        'last' : 'Curie',\n",
    "        'location' : 'paris',\n",
    "    },\n",
    "}\n",
    "\n",
    "for username, user_info in users.items():\n",
    "    print(f\"Username: {username}\")\n",
    "    full_name = f\"{user_info['first']}{user_info['last']}\"\n",
    "    location = user_info['location']\n",
    "    print(f\"Full Name: {full_name}\")\n",
    "    print(f\"location {location}\")\n",
    "\n"
   ]
  },
  {
   "cell_type": "code",
   "execution_count": 57,
   "metadata": {},
   "outputs": [
    {
     "name": "stdout",
     "output_type": "stream",
     "text": [
      "username: aiensteian\n",
      "fullnameAlbertcurie\n",
      "age50\n",
      "username: muerice\n",
      "fullnameMariecurie\n",
      "age60\n"
     ]
    }
   ],
   "source": [
    "users = {\n",
    "    'aiensteian' : {\n",
    "        'first' : 'Albert',\n",
    "        'last': 'curie',\n",
    "        'age' : 50,\n",
    "    },\n",
    "    'muerice' : {\n",
    "        'first': 'Marie',\n",
    "        'last': 'curie',\n",
    "        'age' : 60,\n",
    "    },\n",
    "}\n",
    "for username,user_info in users.items():\n",
    "    print(f\"username: {username}\")\n",
    "    fullname = f\"{user_info['first']}{user_info['last']}\"\n",
    "    age = user_info['age']\n",
    "    print(f\"fullname{fullname}\")\n",
    "    print(f\"age{age}\")"
   ]
  },
  {
   "cell_type": "code",
   "execution_count": 58,
   "metadata": {},
   "outputs": [
    {
     "name": "stdout",
     "output_type": "stream",
     "text": [
      "\n",
      "Hello, HI\n"
     ]
    }
   ],
   "source": [
    "# user input \n",
    "prompt = \"if you share your name , we can personalize the message you see\"\n",
    "prompt += 'What is you first name '\n",
    "name = input(prompt)\n",
    "print(f\"\\nHello, {name}\")"
   ]
  },
  {
   "cell_type": "markdown",
   "metadata": {},
   "source": [
    "# Exercise"
   ]
  },
  {
   "cell_type": "code",
   "execution_count": 60,
   "metadata": {},
   "outputs": [
    {
     "name": "stdout",
     "output_type": "stream",
     "text": [
      "I'll add Break to your pizza.\n"
     ]
    }
   ],
   "source": [
    "# Pizza Toppings:\n",
    "while True:\n",
    "    topping = input(\"Enter a pizza topping (or 'quit' to stop): \")\n",
    "    if topping == 'quit':\n",
    "        break\n",
    "    print(f\"I'll add {topping} to your pizza.\")\n"
   ]
  },
  {
   "cell_type": "code",
   "execution_count": 61,
   "metadata": {},
   "outputs": [
    {
     "name": "stdout",
     "output_type": "stream",
     "text": [
      "Ticket cost is $10\n",
      "Ticket cost is $10\n",
      "Ticket cost is $15\n",
      "Ticket cost is $15\n"
     ]
    }
   ],
   "source": [
    "while True:\n",
    "    age = input(\"Enter your age(or 'quit' to stop)\")\n",
    "    if age == 'quit':\n",
    "        break\n",
    "    age = int(age)\n",
    "\n",
    "    if age <=3:\n",
    "        print(\"Tickt cost is free\")\n",
    "    elif    3<= age <= 12:\n",
    "        print(\"Ticket cost is $10\")\n",
    "    else:\n",
    "        print(\"Ticket cost is $15\")"
   ]
  },
  {
   "cell_type": "code",
   "execution_count": 62,
   "metadata": {},
   "outputs": [
    {
     "name": "stdout",
     "output_type": "stream",
     "text": [
      "Your ticket costs $10.\n",
      "Your ticket costs $15.\n"
     ]
    }
   ],
   "source": [
    "# Write a loop to calculate the price of movie tickets based on age\n",
    "while True:\n",
    "    age = input(\"Enter your age (or 'quit' to stop): \")\n",
    "    if age == 'quit':\n",
    "        break\n",
    "    \n",
    "    age = int(age)\n",
    "    \n",
    "    if age < 3:\n",
    "        print(\"Your ticket is free.\")\n",
    "    elif 3 <= age <= 12:\n",
    "        print(\"Your ticket costs $10.\")\n",
    "    else:\n",
    "        print(\"Your ticket costs $15.\")\n",
    "\n"
   ]
  },
  {
   "cell_type": "code",
   "execution_count": 64,
   "metadata": {},
   "outputs": [
    {
     "name": "stdout",
     "output_type": "stream",
     "text": [
      "I made your cheese sandwich.\n",
      "I made your veggie sandwich.\n",
      "I made your chicken sandwich.\n",
      "I made your ham sandwich.\n",
      "I made your tuna sandwich.\n",
      "\n",
      "All sandwiches made:\n",
      "cheese\n",
      "veggie\n",
      "chicken\n",
      "ham\n",
      "tuna\n"
     ]
    }
   ],
   "source": [
    "# Make a list of sandwich orders\n",
    "\n",
    "sandwich_orders = ['tuna', 'ham', 'chicken', 'veggie', 'cheese']\n",
    "finished_sandwiches = []\n",
    "\n",
    "# Loop through sandwich orders\n",
    "while sandwich_orders:\n",
    "    current_sandwich = sandwich_orders.pop()\n",
    "    print(f\"I made your {current_sandwich} sandwich.\")\n",
    "    finished_sandwiches.append(current_sandwich)\n",
    "\n",
    "# Print finished sandwiches\n",
    "print(\"\\nAll sandwiches made:\")\n",
    "for sandwich in finished_sandwiches:\n",
    "    print(sandwich)\n",
    " \n"
   ]
  },
  {
   "cell_type": "code",
   "execution_count": 65,
   "metadata": {},
   "outputs": [
    {
     "name": "stdout",
     "output_type": "stream",
     "text": [
      "Sorry, the deli has run out of pastrami.\n",
      "\n",
      "I made your veggie sandwich.\n",
      "I made your chicken sandwich.\n",
      "I made your ham sandwich.\n",
      "I made your tuna sandwich.\n",
      "\n",
      "All sandwiches made (no pastrami):\n",
      "veggie\n",
      "chicken\n",
      "ham\n",
      "tuna\n"
     ]
    }
   ],
   "source": [
    "# List of sandwich orders with 'pastrami' appearing multiple times\n",
    "sandwich_orders = ['tuna', 'pastrami', 'ham', 'pastrami', 'chicken', 'pastrami', 'veggie']\n",
    "finished_sandwiches = []\n",
    "\n",
    "# Print message that pastrami is out of stock\n",
    "print(\"Sorry, the deli has run out of pastrami.\\n\")\n",
    "\n",
    "# Remove all occurrences of 'pastrami'\n",
    "while 'pastrami' in sandwich_orders:\n",
    "    sandwich_orders.remove('pastrami')\n",
    "\n",
    "# Loop through remaining sandwich orders\n",
    "while sandwich_orders:\n",
    "    current_sandwich = sandwich_orders.pop()\n",
    "    print(f\"I made your {current_sandwich} sandwich.\")\n",
    "    finished_sandwiches.append(current_sandwich)\n",
    "\n",
    "# Print finished sandwiches\n",
    "print(\"\\nAll sandwiches made (no pastrami):\")\n",
    "for sandwich in finished_sandwiches:\n",
    "    print(sandwich)\n"
   ]
  },
  {
   "cell_type": "code",
   "execution_count": 66,
   "metadata": {},
   "outputs": [
    {
     "name": "stdout",
     "output_type": "stream",
     "text": [
      "Awais could like to visit Islamabad\n"
     ]
    }
   ],
   "source": [
    "dream_vacation = {}\n",
    "while True:\n",
    "    name = input(\"Enter the your name(or 'quit)\")\n",
    "    if name == 'quit':\n",
    "        break\n",
    "    place = input(\"if you could visit in the world where could it be?\")\n",
    "    dream_vacation[name] = place\n",
    "    repeat = input(\"would you like to let another person ?(yes/no)\")\n",
    "    if repeat == 'no':\n",
    "        break\n",
    "    for name, place in dream_vacation.items():\n",
    "        print(f\"{name} could like to visit {place}\")"
   ]
  },
  {
   "cell_type": "markdown",
   "metadata": {},
   "source": [
    "# Try Exercise"
   ]
  },
  {
   "cell_type": "code",
   "execution_count": 68,
   "metadata": {},
   "outputs": [
    {
     "name": "stdout",
     "output_type": "stream",
     "text": [
      "{0: 10, 1: 20, 2: 30}\n"
     ]
    }
   ],
   "source": [
    "# 01Add a key to a dictionary\n",
    "\n",
    "# Sample Dictionary\n",
    "dictionary = {0: 10, 1: 20}\n",
    "\n",
    "# Add a new key-value pair. Alternatively,\n",
    "dictionary.update({2: 30})\n",
    "\n",
    "# dictionary[2] = 30\n",
    "\n",
    "print(dictionary) "
   ]
  },
  {
   "cell_type": "code",
   "execution_count": 69,
   "metadata": {},
   "outputs": [
    {
     "name": "stdout",
     "output_type": "stream",
     "text": [
      "{1: 10, 2: 20, 3: 30, 4: 40, 5: 50, 6: 60}\n"
     ]
    }
   ],
   "source": [
    "# 02 Concatenate dictionaries*\n",
    "\n",
    "dic1 = {1: 10, 2: 20}\n",
    "dic2 = {3: 30, 4: 40}\n",
    "dic3 = {5: 50, 6: 60}\n",
    "\n",
    "dic4 = {}\n",
    "for d in (dic1, dic2, dic3):\n",
    "    dic4.update(d)\n",
    "print(dic4)\n"
   ]
  },
  {
   "cell_type": "code",
   "execution_count": null,
   "metadata": {},
   "outputs": [
    {
     "name": "stdout",
     "output_type": "stream",
     "text": [
      "key exists1 with value 10\n",
      "the key4 exists with value40\n",
      "The key 30 does not exist\n"
     ]
    }
   ],
   "source": [
    "# 03 Check if a key exists in the dictionary*\n",
    "\n",
    "\n",
    "dictionary = {1: 10, 2: 20, 3: 30, 4: 40, 5: 50, 6: 60}\n",
    "key_to_check = 1\n",
    "value = dictionary.get(key_to_check)\n",
    "if value is not None:\n",
    "    print(f\"key exists{key_to_check} with value {value}\")\n",
    "else:\n",
    "    print(f\"key does not exist{key_to_check}\")\n",
    "\n",
    "\n",
    "#if key_to_check in dictionary:\n",
    "#    print(f\"The key {key_to_check} exists with value {dictionary[key_to_check]}\")\n",
    "#else:\n",
    "#    print(f\"The key {key_to_check} does not exist\")\n",
    "\n",
    "key_to_check = 4\n",
    "value = dictionary.get(key_to_check)\n",
    "if value is not None:\n",
    "    print(f\"the key{key_to_check} exists with value{value}\")\n",
    "else:\n",
    "    print(f\"The key {key_to_check} does not exist\")  \n",
    "key_to_check = 30\n",
    "value = dictionary.get(key_to_check)\n",
    "if value is not None:\n",
    "    print(f\"The key {key_to_check} exists with value {value}\")\n",
    "else:\n",
    "    print(f\"The key {key_to_check} does not exist\")\n"
   ]
  },
  {
   "cell_type": "code",
   "execution_count": 71,
   "metadata": {},
   "outputs": [
    {
     "name": "stdout",
     "output_type": "stream",
     "text": [
      "x\n",
      "y\n",
      "z\n",
      "10\n",
      "20\n",
      "30\n",
      "x:10 \n",
      "y:20 \n",
      "z:30 \n"
     ]
    }
   ],
   "source": [
    "# 04 Iterate over using for loops\n",
    "\n",
    "\n",
    "d = {'x': 10, 'y': 20, 'z': 30}\n",
    "\n",
    "# Iterate over keys\n",
    "for key in d.keys():\n",
    "    print(key)\n",
    "\n",
    "# Iterate over values\n",
    "for value in d.values():\n",
    "    print(value)\n",
    "\n",
    "# Iterate over key-value pairs\n",
    "for key, value in d.items():\n",
    "    print(f\"{key}:{value} \")\n",
    "   \n"
   ]
  },
  {
   "cell_type": "code",
   "execution_count": 72,
   "metadata": {},
   "outputs": [
    {
     "name": "stdout",
     "output_type": "stream",
     "text": [
      "{1: 1, 2: 4, 3: 9, 4: 16, 5: 25, 6: 36, 7: 49, 8: 64, 9: 81, 10: 100, 11: 121, 12: 144, 13: 169, 14: 196, 15: 225}\n"
     ]
    }
   ],
   "source": [
    "# 05 dictionary with squares of numbers\n",
    "\n",
    "\n",
    "square_dict = {x: x**2 for x in range(1, 16)}\n",
    "print(square_dict)\n",
    "\n",
    "\n",
    "#Alternatively, using a for loop:\n",
    "#square_dict = {}\n",
    "#for x in range(1, 16):\n",
    "#    square_dict[x] = x**2\n",
    "#print(square_dict)"
   ]
  },
  {
   "cell_type": "code",
   "execution_count": 73,
   "metadata": {},
   "outputs": [
    {
     "name": "stdout",
     "output_type": "stream",
     "text": [
      "{'points': 5}\n"
     ]
    }
   ],
   "source": [
    "# 06  Write a Python program to remove a key from a dictionary.\n",
    "my_dict = {\"name\" : \"Zohaib\", \"points\" : 5}\n",
    "del my_dict[\"name\"]\n",
    "print(my_dict)  # Output: {'points': 5}"
   ]
  },
  {
   "cell_type": "code",
   "execution_count": 74,
   "metadata": {},
   "outputs": [
    {
     "name": "stdout",
     "output_type": "stream",
     "text": [
      "{'red': 1, 'green': 2, 'blue': 3}\n"
     ]
    }
   ],
   "source": [
    "# 7. Write a Python program to map two lists into a dictionary.\n",
    "keys = ['red', 'green', 'blue']\n",
    "values = [1, 2, 3]\n",
    "# Using dictionary comprehension to map keys and values into a dictionary\n",
    "result = dict(zip(keys,values))\n",
    "# Printing the result\n",
    "print(result)"
   ]
  },
  {
   "cell_type": "code",
   "execution_count": 75,
   "metadata": {},
   "outputs": [
    {
     "name": "stdout",
     "output_type": "stream",
     "text": [
      "black : 3\n",
      "green : 2\n",
      "red : 1\n"
     ]
    }
   ],
   "source": [
    "#8.\tWrite a Python program to sort a given dictionary by key.\n",
    "color_dict = {'red' : 1,'green' : 2,'black' : 3}\n",
    "for key in sorted(color_dict):\n",
    "    print(f\"{key} : {color_dict[key]}\")"
   ]
  },
  {
   "cell_type": "code",
   "execution_count": 76,
   "metadata": {},
   "outputs": [
    {
     "name": "stdout",
     "output_type": "stream",
     "text": [
      "{'id1': {'name': ['Sara'], 'class': ['V'], 'subject_integration': ['english, math, science']}, 'id2': {'name': ['David'], 'class': ['V'], 'subject_integration': ['english, math, science']}, 'id4': {'name': ['Surya'], 'class': ['V'], 'subject_integration': ['english, math, science']}}\n"
     ]
    }
   ],
   "source": [
    "# 9.\tWrite a Python program to remove duplicates from the dictionary.\n",
    "student_data = {'id1': \n",
    "   {'name': ['Sara'], \n",
    "    'class': ['V'], \n",
    "    'subject_integration': ['english, math, science']\n",
    "   },\n",
    " 'id2': \n",
    "  {'name': ['David'], \n",
    "    'class': ['V'], \n",
    "    'subject_integration': ['english, math, science']\n",
    "   },\n",
    " 'id3': \n",
    "    {'name': ['Sara'], \n",
    "    'class': ['V'], \n",
    "    'subject_integration': ['english, math, science']\n",
    "   },\n",
    " 'id4': \n",
    "   {'name': ['Surya'], \n",
    "    'class': ['V'], \n",
    "    'subject_integration': ['english, math, science']\n",
    "   },\n",
    "}\n",
    "\n",
    "result = {}\n",
    "\n",
    "for key,value in student_data.items():\n",
    "    if value not in result.values():\n",
    "        result[key] = value\n",
    "\n",
    "print(result)\n"
   ]
  },
  {
   "cell_type": "markdown",
   "metadata": {},
   "source": [
    "#  Conditional satement."
   ]
  },
  {
   "cell_type": "code",
   "execution_count": 77,
   "metadata": {},
   "outputs": [
    {
     "name": "stdout",
     "output_type": "stream",
     "text": [
      "Audi\n",
      "BMW\n",
      "Subaru\n",
      "Toyota\n"
     ]
    }
   ],
   "source": [
    "# if with for loops\n",
    "cars = ['audi', 'bmw', 'subaru', 'toyota']\n",
    "for car in cars:\n",
    "    if car == 'bmw':\n",
    "        print(car.upper())\n",
    "    else:\n",
    "        print(car.title())"
   ]
  },
  {
   "cell_type": "code",
   "execution_count": 78,
   "metadata": {},
   "outputs": [
    {
     "name": "stdout",
     "output_type": "stream",
     "text": [
      "True\n",
      "False\n",
      "False\n"
     ]
    }
   ],
   "source": [
    "# check equality.\n",
    "cars = 'bmw'\n",
    "print(cars == 'bmw')  # True\n",
    "\n",
    "# check inequality\n",
    "cars = 'audi'\n",
    "print(cars == 'bmw')  # False\n",
    "\n",
    "# case sensetive also give you False.\n",
    "cars = 'Audi'\n",
    "print(cars == 'audi')  # False"
   ]
  },
  {
   "cell_type": "code",
   "execution_count": 79,
   "metadata": {},
   "outputs": [
    {
     "name": "stdout",
     "output_type": "stream",
     "text": [
      "Audi\n"
     ]
    }
   ],
   "source": [
    "# The two strings when match give True answer\n",
    "car = 'Audi'\n",
    "car.lower() == 'audi'\n",
    "#True\n",
    "print(car)"
   ]
  },
  {
   "cell_type": "code",
   "execution_count": 80,
   "metadata": {},
   "outputs": [
    {
     "name": "stdout",
     "output_type": "stream",
     "text": [
      "Hold the anchovies!\n"
     ]
    }
   ],
   "source": [
    "# checking nequality.\n",
    "requested_topping = 'mushrooms'\n",
    "if requested_topping != 'anchovies':\n",
    " print(\"Hold the anchovies!\")\n"
   ]
  },
  {
   "cell_type": "code",
   "execution_count": 81,
   "metadata": {},
   "outputs": [
    {
     "name": "stdout",
     "output_type": "stream",
     "text": [
      "You are wrong!.please try again\n"
     ]
    },
    {
     "data": {
      "text/plain": [
       "True"
      ]
     },
     "execution_count": 81,
     "metadata": {},
     "output_type": "execute_result"
    }
   ],
   "source": [
    "# Numeric function\n",
    "answer = 17\n",
    "if answer != 42:\n",
    " print(\"You are wrong!.please try again\")\n",
    "\n",
    "# Mathametical comperesion\n",
    "age = 33\n",
    "age > 50\n",
    "\n",
    "age >= 50\n",
    "age < 50\n"
   ]
  },
  {
   "cell_type": "markdown",
   "metadata": {},
   "source": [
    "# Operator and, or, not."
   ]
  },
  {
   "cell_type": "code",
   "execution_count": 82,
   "metadata": {},
   "outputs": [
    {
     "name": "stdout",
     "output_type": "stream",
     "text": [
      "Not both are adults\n"
     ]
    }
   ],
   "source": [
    "# and operator \n",
    "age_1 = 22\n",
    "age_2 = 18\n",
    "# Using the and operator to check if both conditions are met\n",
    "if age_1 > 18 and age_2 > 18:\n",
    "    print(\"Both are adults\")\n",
    "else:\n",
    "    print(\"Not both are adults\")"
   ]
  },
  {
   "cell_type": "code",
   "execution_count": 83,
   "metadata": {},
   "outputs": [
    {
     "name": "stdout",
     "output_type": "stream",
     "text": [
      "Not Adult\n"
     ]
    }
   ],
   "source": [
    "# other method \n",
    "age_1 =  22\n",
    "age_2 =  18\n",
    "\n",
    "if age_1 >= 21 and age_2 >= 21:\n",
    "    print(\"Adult\")\n",
    "else:\n",
    "    print(\"Not Adult\")"
   ]
  },
  {
   "cell_type": "code",
   "execution_count": 84,
   "metadata": {},
   "outputs": [
    {
     "name": "stdout",
     "output_type": "stream",
     "text": [
      "At least one of the ages is greater than 21\n"
     ]
    }
   ],
   "source": [
    "# or operator\n",
    "age_1 = 22\n",
    "age_2 = 18\n",
    "if age_1 >21 or age_2 >21:\n",
    "    print(\"At least one of the ages is greater than 21\") # Output: At least one\n",
    "else:\n",
    "    print(\"Both are incorrecrt\")"
   ]
  },
  {
   "cell_type": "code",
   "execution_count": 85,
   "metadata": {},
   "outputs": [
    {
     "data": {
      "text/plain": [
       "True"
      ]
     },
     "execution_count": 85,
     "metadata": {},
     "output_type": "execute_result"
    }
   ],
   "source": [
    "# To find\n",
    "age = [19,20,39,40]\n",
    "19 in age"
   ]
  },
  {
   "cell_type": "code",
   "execution_count": 86,
   "metadata": {},
   "outputs": [
    {
     "name": "stdout",
     "output_type": "stream",
     "text": [
      "Marie, you can post a response if you wish.\n"
     ]
    }
   ],
   "source": [
    "# is not in\n",
    "banned_users = ['andrew', 'carolina', 'david']\n",
    "user = 'marie'\n",
    "if user not in banned_users:\n",
    " print(f\"{user.title()}, you can post a response if you wish.\")\n"
   ]
  },
  {
   "cell_type": "markdown",
   "metadata": {},
   "source": [
    "# Prepration of IF elif else:"
   ]
  },
  {
   "cell_type": "code",
   "execution_count": 87,
   "metadata": {},
   "outputs": [
    {
     "name": "stdout",
     "output_type": "stream",
     "text": [
      "The player just earned 5 points for shooting the alien.\n"
     ]
    }
   ],
   "source": [
    "# 01 Assign the alien color to 'green'\n",
    "\n",
    "alien_color = ['green', 'yellow', 'red']\n",
    "alien_color = 'green'\n",
    "if alien_color == 'green':\n",
    "    print(\"The player just earned 5 points for shooting the alien.\")\n",
    "\n",
    "# Assign the alien color to 'red'\n",
    "alien_color = 'red'\n",
    "\n",
    "#  if the alien color is green\n",
    "if alien_color == 'green':\n",
    "    print(\"The player just earned 5 points!\")"
   ]
  },
  {
   "cell_type": "code",
   "execution_count": 88,
   "metadata": {},
   "outputs": [
    {
     "name": "stdout",
     "output_type": "stream",
     "text": [
      "The player just earned 10 points!\n"
     ]
    }
   ],
   "source": [
    "# 02 Assign alien color to green\n",
    "alien_color = 'red'\n",
    "if alien_color == 'green':\n",
    "    print(\"The player just earned 5 points for shooting the alien\")\n",
    "else:\n",
    "    print(\"The player just earned 10 points!\")\n",
    "  "
   ]
  },
  {
   "cell_type": "code",
   "execution_count": 89,
   "metadata": {},
   "outputs": [
    {
     "name": "stdout",
     "output_type": "stream",
     "text": [
      "The player earned 15 points.\n"
     ]
    }
   ],
   "source": [
    "#03 using if elif else\n",
    "alien_color == 'red'\n",
    "if alien_color == 'green':\n",
    "    print(\"The player earned 5 points.\")\n",
    "elif alien_color == 'yellow':\n",
    "    print(\"The player earned 10 points.\")\n",
    "else :\n",
    "    print(\"The player earned 15 points.\")"
   ]
  },
  {
   "cell_type": "code",
   "execution_count": 90,
   "metadata": {},
   "outputs": [
    {
     "name": "stdout",
     "output_type": "stream",
     "text": [
      "The person is a toddler.\n"
     ]
    }
   ],
   "source": [
    "\n",
    "# 04 Determine the person's stage of life\n",
    "# use user inputs \n",
    "\n",
    "age = int(input(\"Enter your age: \"))\n",
    "\n",
    "if age < 2:\n",
    "    print(\"The person is a baby.\")\n",
    "elif age >= 2 and age < 4:\n",
    "    print(\"The person is a toddler.\")\n",
    "elif age >= 4 and age < 13:\n",
    "    print(\"The person is a kid.\")\n",
    "elif age >= 13 and age < 20:\n",
    "    print(\"The person is a teenager.\")\n",
    "elif age >= 20 and age < 65:\n",
    "    print(\"The person is an adult.\")\n",
    "else:\n",
    "    print(\"The person is an elder.\")"
   ]
  },
  {
   "cell_type": "markdown",
   "metadata": {},
   "source": [
    "# Function"
   ]
  },
  {
   "cell_type": "code",
   "execution_count": 91,
   "metadata": {},
   "outputs": [
    {
     "name": "stdout",
     "output_type": "stream",
     "text": [
      "\n",
      "Favorite Book\n",
      "My favorite books are 'The Alchemist' and 'Python Crash Course'\n"
     ]
    }
   ],
   "source": [
    "# Positional arguments\n",
    "def favorite_book(management, python):\n",
    "    management = \"The Alchemist\"\n",
    "    python = \"Python Crash Course\"\n",
    "    \"\"\"Display a favorite book\"\"\"\n",
    "    print(\"\\nFavorite Book\".title())\n",
    "    print(f\"My favorite books are '{management}' and '{python}'\")\n",
    "favorite_book(\"The Alchemist\", \"Python Crash Course\")\n",
    "\n",
    "\n",
    "\n",
    "\n"
   ]
  },
  {
   "cell_type": "code",
   "execution_count": 92,
   "metadata": {},
   "outputs": [
    {
     "name": "stdout",
     "output_type": "stream",
     "text": [
      "odd\n",
      "even\n",
      "odd\n",
      "even\n",
      "odd\n",
      "even\n",
      "odd\n",
      "even\n",
      "odd\n",
      "even\n"
     ]
    }
   ],
   "source": [
    "# making a function  \n",
    "def is_even(num):\n",
    "    \"\"\" print output if number is even or odd \"\"\"\n",
    "    if type(num) == int:\n",
    "        if num % 2 == 0:\n",
    "            return \"even\"\n",
    "        else:\n",
    "            return \"odd\"\n",
    "    else:\n",
    "        return \"pagal ha kayia \"  \n",
    "for i in range(1,11):\n",
    "    x = is_even(i)\n",
    "    print(x)\n",
    "    \n"
   ]
  },
  {
   "cell_type": "code",
   "execution_count": 93,
   "metadata": {},
   "outputs": [
    {
     "name": "stdout",
     "output_type": "stream",
     "text": [
      "(2, 4)\n"
     ]
    },
    {
     "data": {
      "text/plain": [
       "2"
      ]
     },
     "execution_count": 93,
     "metadata": {},
     "output_type": "execute_result"
    }
   ],
   "source": [
    "# making a function \n",
    "# use args for allow any value of keyword arguments \n",
    "def multiply(* args):\n",
    "    product = 1\n",
    "    for i in args:\n",
    "        product =product * i\n",
    "        print(args)\n",
    "        return product\n",
    "    # calling a function \n",
    "multiply(2,4)"
   ]
  },
  {
   "cell_type": "code",
   "execution_count": 94,
   "metadata": {},
   "outputs": [
    {
     "name": "stdout",
     "output_type": "stream",
     "text": [
      "odd\n",
      "even\n",
      "odd\n",
      "even\n",
      "odd\n",
      "even\n",
      "odd\n",
      "even\n",
      "odd\n",
      "even\n"
     ]
    },
    {
     "data": {
      "text/plain": [
       "'pagal ha kia'"
      ]
     },
     "execution_count": 94,
     "metadata": {},
     "output_type": "execute_result"
    }
   ],
   "source": [
    "# making a function \n",
    "def is_even(num):\n",
    "    \"\"\"\n",
    "    chechk if function is even or odd\n",
    "     input- allow any valid integars\n",
    "     output- even/odd\n",
    "     \"\"\"\n",
    "    if type(num) == int:\n",
    "        if num % 2==0:\n",
    "            return \"even\"\n",
    "        else:\n",
    "            return \"odd\"\n",
    "    else:\n",
    "        return \"pagal ha kia\"\n",
    "    # calling function \n",
    "for i in range(1,11):\n",
    "    x = is_even(i)\n",
    "    print(x)\n",
    "is_even(\"hello\")"
   ]
  },
  {
   "cell_type": "code",
   "execution_count": 97,
   "metadata": {},
   "outputs": [
    {
     "name": "stdout",
     "output_type": "stream",
     "text": [
      "14 Feet= 1175.86 cm\n"
     ]
    }
   ],
   "source": [
    "# converter function \n",
    "def converter(feet_value):\n",
    "    cm_value = feet_value * 83.99\n",
    "    print(feet_value, \"Feet=\", cm_value, \"cm\")\n",
    "converter(14)"
   ]
  },
  {
   "cell_type": "code",
   "execution_count": 98,
   "metadata": {},
   "outputs": [
    {
     "name": "stdout",
     "output_type": "stream",
     "text": [
      "5.0 USD = 2000.0 INR\n"
     ]
    }
   ],
   "source": [
    "def converter(Usd_value):\n",
    "    Inr_value = Usd_value * 400\n",
    "    print(Usd_value, \"USD =\", Inr_value, \"INR\")\n",
    "\n",
    "# Prompt the user for input\n",
    "Usd_value = float(input(\"Enter the value in USD: \"))\n",
    "converter(Usd_value)\n"
   ]
  },
  {
   "cell_type": "code",
   "execution_count": 99,
   "metadata": {},
   "outputs": [
    {
     "name": "stdout",
     "output_type": "stream",
     "text": [
      "13333 USD = 5333200 INR\n"
     ]
    }
   ],
   "source": [
    "def converter(Usd_value):\n",
    "    Inr_value = Usd_value * 400\n",
    "    print(Usd_value, \"USD =\", Inr_value, \"INR\")\n",
    "converter(13333)"
   ]
  },
  {
   "cell_type": "code",
   "execution_count": 100,
   "metadata": {},
   "outputs": [
    {
     "name": "stdout",
     "output_type": "stream",
     "text": [
      "1000 feet= 30480.0 cm\n"
     ]
    }
   ],
   "source": [
    "def convrt(feet):\n",
    "    cm = feet * 30.48\n",
    "    print(feet, \"feet=\", cm, \"cm\")\n",
    "convrt(1000)"
   ]
  },
  {
   "cell_type": "code",
   "execution_count": 102,
   "metadata": {},
   "outputs": [
    {
     "name": "stdout",
     "output_type": "stream",
     "text": [
      "5500\n"
     ]
    }
   ],
   "source": [
    "# function defination it is block of satetement that perform a specific task\n",
    "# reduce redendency\n",
    "def cal_sum(a, b): #parameters\n",
    "    \"\"\"Display a sum of two numbers \"\"\"\n",
    "    return a + b\n",
    "sum = cal_sum(2200,3300) \n",
    "print(sum)"
   ]
  },
  {
   "cell_type": "code",
   "execution_count": 103,
   "metadata": {},
   "outputs": [
    {
     "name": "stdout",
     "output_type": "stream",
     "text": [
      "20.0\n"
     ]
    },
    {
     "data": {
      "text/plain": [
       "96.66666666666667"
      ]
     },
     "execution_count": 103,
     "metadata": {},
     "output_type": "execute_result"
    }
   ],
   "source": [
    "# average of 3 numbers\n",
    "def calc_avg(a,b,c):\n",
    "    return (a+b+c)/3\n",
    "# calculate average of 3 numbers\n",
    "print(calc_avg(10,20,30))  # Output: 20.0\n",
    "\n",
    "# other method\n",
    "def calc_avg(a,b,c):\n",
    "    sum = a+b+c\n",
    "    avg = sum/3\n",
    "    return avg\n",
    "calc_avg(98, 97, 95)\n",
    "    "
   ]
  },
  {
   "cell_type": "code",
   "execution_count": 104,
   "metadata": {},
   "outputs": [
    {
     "name": "stdout",
     "output_type": "stream",
     "text": [
      "Result:  12\n"
     ]
    }
   ],
   "source": [
    "def multiply(x, y):\n",
    "    \"\"\"Return the product of x and y\"\"\"\n",
    "    return x * y\n",
    "\n",
    "x = int(input(\"Input a number: \"))\n",
    "y = int(input(\"Enter another number: \"))\n",
    "\n",
    "print(\"Result: \", multiply(x, y))\n"
   ]
  },
  {
   "cell_type": "code",
   "execution_count": 105,
   "metadata": {},
   "outputs": [
    {
     "name": "stdout",
     "output_type": "stream",
     "text": [
      "HelloWorld\n"
     ]
    }
   ],
   "source": [
    "# Function types\n",
    "# Built in and user defind\n",
    "\n",
    "print(\"Hello\", end=\"\")\n",
    "print(\"World\")\n",
    "\n",
    "\n"
   ]
  },
  {
   "cell_type": "code",
   "execution_count": 106,
   "metadata": {},
   "outputs": [
    {
     "name": "stdout",
     "output_type": "stream",
     "text": [
      "42\n"
     ]
    },
    {
     "data": {
      "text/plain": [
       "42"
      ]
     },
     "execution_count": 106,
     "metadata": {},
     "output_type": "execute_result"
    }
   ],
   "source": [
    "# Defalt parameters\n",
    "def cal_prod(a=1,b=1):\n",
    "    print(a * b)\n",
    "    return a * b\n",
    "# Call the function with default parameters\n",
    "cal_prod(6,7)"
   ]
  },
  {
   "cell_type": "code",
   "execution_count": 108,
   "metadata": {},
   "outputs": [
    {
     "data": {
      "text/plain": [
       "8"
      ]
     },
     "execution_count": 108,
     "metadata": {},
     "output_type": "execute_result"
    }
   ],
   "source": [
    "def cal_prod(a=1,b=1):\n",
    "    \n",
    "    return a*b\n",
    "\n",
    "cal_prod(2,4)"
   ]
  },
  {
   "cell_type": "code",
   "execution_count": 109,
   "metadata": {},
   "outputs": [
    {
     "name": "stdout",
     "output_type": "stream",
     "text": [
      "3\n"
     ]
    }
   ],
   "source": [
    "cities = ['Taunsa', 'Karachi', 'Islamabd']\n",
    "\n",
    "def print_len(list):\n",
    "    print(len(list))\n",
    "\n",
    "print_len(cities)"
   ]
  },
  {
   "cell_type": "code",
   "execution_count": 110,
   "metadata": {},
   "outputs": [
    {
     "name": "stdout",
     "output_type": "stream",
     "text": [
      "Taunsa Karachi Islamabd "
     ]
    }
   ],
   "source": [
    "# in a single line printing\n",
    "cities = ['Taunsa', 'Karachi', 'Islamabd']\n",
    "def print_list(list):\n",
    "    for item in list:\n",
    "        print(item, end=\" \")\n",
    "print_list(cities)"
   ]
  },
  {
   "cell_type": "code",
   "execution_count": 111,
   "metadata": {},
   "outputs": [
    {
     "name": "stdout",
     "output_type": "stream",
     "text": [
      "6\n"
     ]
    }
   ],
   "source": [
    "# factorial calling \n",
    "def calc_fact(n):\n",
    "    fact = 1\n",
    "    for i in range(1, n + 1):\n",
    "        fact *= i\n",
    "    print(fact)\n",
    "\n",
    "calc_fact(3)"
   ]
  },
  {
   "cell_type": "code",
   "execution_count": 112,
   "metadata": {},
   "outputs": [
    {
     "name": "stdout",
     "output_type": "stream",
     "text": [
      "1 USD= 74.5 INR\n"
     ]
    }
   ],
   "source": [
    "# USD TO INR\n",
    "def converter(usd_val):\n",
    "    inr_val = usd_val * 74.5\n",
    "    print(usd_val, \"USD=\", inr_val, \"INR\")\n",
    "\n",
    "converter(1)"
   ]
  },
  {
   "cell_type": "code",
   "execution_count": 113,
   "metadata": {},
   "outputs": [
    {
     "name": "stdout",
     "output_type": "stream",
     "text": [
      "100 USD= 8000 INR\n"
     ]
    }
   ],
   "source": [
    "def converter(usd_value):\n",
    "    inr_value = usd_value *80 \n",
    "    print(usd_value, \"USD=\", inr_value, \"INR\")\n",
    "converter(100)"
   ]
  },
  {
   "cell_type": "markdown",
   "metadata": {},
   "source": [
    "# Recursion"
   ]
  },
  {
   "cell_type": "code",
   "execution_count": 114,
   "metadata": {},
   "outputs": [
    {
     "name": "stdout",
     "output_type": "stream",
     "text": [
      "10\n",
      "9\n",
      "8\n",
      "7\n",
      "6\n",
      "5\n",
      "4\n",
      "3\n",
      "2\n",
      "1\n"
     ]
    }
   ],
   "source": [
    "def show(n):\n",
    "    if n == 0:\n",
    "        return 0\n",
    "    print(n)\n",
    "    show(n-1)\n",
    "show(10)"
   ]
  },
  {
   "cell_type": "code",
   "execution_count": 115,
   "metadata": {},
   "outputs": [
    {
     "name": "stdout",
     "output_type": "stream",
     "text": [
      "5\n",
      "4\n",
      "3\n",
      "2\n",
      "1\n"
     ]
    }
   ],
   "source": [
    "# Recursion is same as it is loops \n",
    "def show(n):\n",
    "    if n == 0:\n",
    "        return\n",
    "    print(n)\n",
    "    show(n-1)\n",
    "\n",
    "show(5)"
   ]
  },
  {
   "cell_type": "code",
   "execution_count": 116,
   "metadata": {},
   "outputs": [
    {
     "name": "stdout",
     "output_type": "stream",
     "text": [
      "30\n"
     ]
    }
   ],
   "source": [
    "def fact(n):\n",
    "    if(n == 0 or n == 1):\n",
    "        return 1\n",
    "    else:\n",
    "        return (n-1) * n\n",
    "    \n",
    "print(fact(6))"
   ]
  },
  {
   "cell_type": "code",
   "execution_count": 117,
   "metadata": {},
   "outputs": [
    {
     "name": "stdout",
     "output_type": "stream",
     "text": [
      "odd\n",
      "even\n",
      "odd\n",
      "even\n",
      "odd\n",
      "even\n",
      "odd\n",
      "even\n",
      "odd\n",
      "even\n",
      "str(object='') -> str\n",
      "str(bytes_or_buffer[, encoding[, errors]]) -> str\n",
      "\n",
      "Create a new string object from the given object. If encoding or\n",
      "errors is specified, then the object must expose a data buffer\n",
      "that will be decoded using the given encoding and error handler.\n",
      "Otherwise, returns the result of object.__str__() (if defined)\n",
      "or repr(object).\n",
      "encoding defaults to sys.getdefaultencoding().\n",
      "errors defaults to 'strict'.\n",
      "type(object) -> the object's type\n",
      "type(name, bases, dict, **kwds) -> a new type\n"
     ]
    }
   ],
   "source": [
    "# lets create  a function ( with docstring)\n",
    "def is_even(num):\n",
    "    \"\"\"\n",
    "    This function return if the logic is even or oddd number \n",
    "    inut ny valid int\n",
    "    output odd or even\n",
    "    created on 16th nov 2024 \n",
    "    \"\"\"\n",
    "    if num % 2 == 0:\n",
    "        return \"even\"\n",
    "    else:\n",
    "        return \"odd\"\n",
    "    # lets test the function\n",
    "for i in range(1,11):\n",
    "    x = is_even(i)\n",
    "    print(x)\n",
    "\n",
    "print(x.__doc__)\n",
    "print(type.__doc__)"
   ]
  },
  {
   "cell_type": "markdown",
   "metadata": {},
   "source": [
    "# Types of Arguments \n",
    ".Default\n",
    ".positional\n",
    ".Keyword"
   ]
  },
  {
   "cell_type": "code",
   "execution_count": 118,
   "metadata": {},
   "outputs": [
    {
     "data": {
      "text/plain": [
       "1"
      ]
     },
     "execution_count": 118,
     "metadata": {},
     "output_type": "execute_result"
    }
   ],
   "source": [
    "# Default Arguments.\n",
    "def power (a=1,b=1):\n",
    "    return a ** b\n",
    "power()"
   ]
  },
  {
   "cell_type": "code",
   "execution_count": 119,
   "metadata": {},
   "outputs": [
    {
     "data": {
      "text/plain": [
       "8"
      ]
     },
     "execution_count": 119,
     "metadata": {},
     "output_type": "execute_result"
    }
   ],
   "source": [
    "# positional Arguments \n",
    "power(2,3)"
   ]
  },
  {
   "cell_type": "code",
   "execution_count": 120,
   "metadata": {},
   "outputs": [
    {
     "data": {
      "text/plain": [
       "8"
      ]
     },
     "execution_count": 120,
     "metadata": {},
     "output_type": "execute_result"
    }
   ],
   "source": [
    "# Keyword Arguments \n",
    "power(b=3,a=2)"
   ]
  },
  {
   "cell_type": "markdown",
   "metadata": {},
   "source": [
    "# Args and Kwargs"
   ]
  },
  {
   "cell_type": "code",
   "execution_count": 121,
   "metadata": {},
   "outputs": [
    {
     "data": {
      "text/plain": [
       "35714669760"
      ]
     },
     "execution_count": 121,
     "metadata": {},
     "output_type": "execute_result"
    }
   ],
   "source": [
    "# Args \n",
    "# allows us to pass a variable no of non keywords arguments to a function\n",
    "def multiply(*args):\n",
    "    product = 1\n",
    "    for i in args:\n",
    "        product = product * i\n",
    "    return product \n",
    "# calling the function with variable number of arguments\n",
    "multiply(33,44,55,66,77,88)"
   ]
  },
  {
   "cell_type": "code",
   "execution_count": 122,
   "metadata": {},
   "outputs": [
    {
     "name": "stdout",
     "output_type": "stream",
     "text": [
      "india -> delhi\n",
      "pakistan -> islamabad\n"
     ]
    }
   ],
   "source": [
    "# Kwargs\n",
    "# It is used to pass any  of keyword arguments to a function.\n",
    "def display(** kwargs):\n",
    "    for key, value in kwargs.items():\n",
    "        print(key,'->', value)\n",
    "\n",
    "display(india='delhi', pakistan='islamabad')\n",
    "\n"
   ]
  },
  {
   "cell_type": "markdown",
   "metadata": {},
   "source": [
    "# Benefits of using a Function\n",
    "Code Modularity\n",
    "Code Readibility\n",
    "Code Reusability"
   ]
  },
  {
   "cell_type": "code",
   "execution_count": 123,
   "metadata": {},
   "outputs": [
    {
     "data": {
      "text/plain": [
       "2.5"
      ]
     },
     "execution_count": 123,
     "metadata": {},
     "output_type": "execute_result"
    }
   ],
   "source": [
    "# x,y -> x+y\n",
    "a = lambda x,y:x/y\n",
    "a(5,2)"
   ]
  },
  {
   "cell_type": "code",
   "execution_count": 124,
   "metadata": {},
   "outputs": [
    {
     "data": {
      "text/plain": [
       "'even'"
      ]
     },
     "execution_count": 124,
     "metadata": {},
     "output_type": "execute_result"
    }
   ],
   "source": [
    "# check if a string has 'a'\n",
    "a = lambda s:'a' in s\n",
    "a('hello')\n",
    "\n",
    "# odd or even\n",
    "a = lambda x:'even' if x%2 == 0 else 'odd'\n",
    "a(6)"
   ]
  },
  {
   "cell_type": "code",
   "execution_count": 125,
   "metadata": {},
   "outputs": [
    {
     "name": "stdout",
     "output_type": "stream",
     "text": [
      "[1, 8, 27, 64, 125]\n"
     ]
    }
   ],
   "source": [
    "# Higher Order Functions\n",
    "# Example\n",
    "\n",
    "def square(x):\n",
    "  return x**2\n",
    "\n",
    "def cube(x):\n",
    "  return x**3\n",
    "\n",
    "# HOF\n",
    "def transform(f,L):\n",
    "  output = []\n",
    "  for i in L:\n",
    "    output.append(f(i))\n",
    "\n",
    "  print(output)\n",
    "\n",
    "L = [1,2,3,4,5]\n",
    "\n",
    "transform(lambda x:x**3,L)"
   ]
  },
  {
   "cell_type": "markdown",
   "metadata": {},
   "source": [
    "# Map"
   ]
  },
  {
   "cell_type": "code",
   "execution_count": 126,
   "metadata": {},
   "outputs": [
    {
     "data": {
      "text/plain": [
       "['male', 'male', 'female']"
      ]
     },
     "execution_count": 126,
     "metadata": {},
     "output_type": "execute_result"
    }
   ],
   "source": [
    "#1. square the items of a list\n",
    "list(map(lambda x:x**2,[1,2,3,4,5]))\n",
    "\n",
    "# 2odd/even labelling of list items\n",
    "L = [1,2,3,4,5]\n",
    "list(map(lambda x:'even' if x%2 == 0 else 'odd',L))\n",
    "\n",
    "# 3fetch names from a list of dict\n",
    "\n",
    "users = [\n",
    "    {\n",
    "        'name':'Rahul',\n",
    "        'age':45,\n",
    "        'gender':'male'\n",
    "    },\n",
    "    {\n",
    "        'name':'Nitish',\n",
    "        'age':33,\n",
    "        'gender':'male'\n",
    "    },\n",
    "    {\n",
    "        'name':'Ankita',\n",
    "        'age':50,\n",
    "        'gender':'female'\n",
    "    }\n",
    "]\n",
    "\n",
    "list(map(lambda users:users['gender'],users))"
   ]
  },
  {
   "cell_type": "markdown",
   "metadata": {},
   "source": [
    "# Lambda"
   ]
  },
  {
   "cell_type": "code",
   "execution_count": 127,
   "metadata": {},
   "outputs": [
    {
     "data": {
      "text/plain": [
       "'even'"
      ]
     },
     "execution_count": 127,
     "metadata": {},
     "output_type": "execute_result"
    }
   ],
   "source": [
    "\"\"\"No name\n",
    "lambda has no return value(infact,returns a function)\n",
    "lambda is written in 1 line\n",
    "not reusabl\"\"\"\n",
    "# odd or even\n",
    "a = lambda x:'even' if x%2 == 0 else 'odd'\n",
    "a(6)"
   ]
  },
  {
   "cell_type": "markdown",
   "metadata": {},
   "source": [
    "# Filter"
   ]
  },
  {
   "cell_type": "code",
   "execution_count": 128,
   "metadata": {},
   "outputs": [
    {
     "data": {
      "text/plain": [
       "[6, 7]"
      ]
     },
     "execution_count": 128,
     "metadata": {},
     "output_type": "execute_result"
    }
   ],
   "source": [
    "# numbers greater than 5\n",
    "L = [3,4,5,6,7]\n",
    "\n",
    "list(filter(lambda x:x>5,L))"
   ]
  },
  {
   "cell_type": "code",
   "execution_count": 129,
   "metadata": {},
   "outputs": [
    {
     "data": {
      "text/plain": [
       "['apple']"
      ]
     },
     "execution_count": 129,
     "metadata": {},
     "output_type": "execute_result"
    }
   ],
   "source": [
    "# fetch fruits starting with 'a'\n",
    "fruits = ['apple','guava','cherry']\n",
    "\n",
    "list(filter(lambda x:x.startswith('a'),fruits))"
   ]
  },
  {
   "cell_type": "markdown",
   "metadata": {},
   "source": [
    "# Reduce"
   ]
  },
  {
   "cell_type": "code",
   "execution_count": 130,
   "metadata": {},
   "outputs": [
    {
     "data": {
      "text/plain": [
       "15"
      ]
     },
     "execution_count": 130,
     "metadata": {},
     "output_type": "execute_result"
    }
   ],
   "source": [
    "# sum of all item\n",
    "import functools\n",
    "\n",
    "functools.reduce(lambda x,y:x+y,[1,2,3,4,5])"
   ]
  },
  {
   "cell_type": "code",
   "execution_count": 131,
   "metadata": {},
   "outputs": [
    {
     "data": {
      "text/plain": [
       "45"
      ]
     },
     "execution_count": 131,
     "metadata": {},
     "output_type": "execute_result"
    }
   ],
   "source": [
    "# find min\n",
    "functools.reduce(lambda x,y:x if x>y else y,[23,11,45,10,1])"
   ]
  },
  {
   "cell_type": "markdown",
   "metadata": {},
   "source": [
    "# Prepration of function"
   ]
  },
  {
   "cell_type": "code",
   "execution_count": 132,
   "metadata": {},
   "outputs": [
    {
     "data": {
      "text/plain": [
       "'One of my favorite books is Alice in Woderland.'"
      ]
     },
     "execution_count": 132,
     "metadata": {},
     "output_type": "execute_result"
    }
   ],
   "source": [
    "# 1 function of fav_books \n",
    "def favorite_book(title):\n",
    "    return (f\"One of my favorite books is {title}.\")\n",
    "favorite_book('Alice in Woderland')"
   ]
  },
  {
   "cell_type": "code",
   "execution_count": 133,
   "metadata": {},
   "outputs": [
    {
     "name": "stdout",
     "output_type": "stream",
     "text": [
      "The shirt size is Medium and the message printed on it is: Python is fun!.\n",
      "The shirt size is Large and the message printed on it is: Hello, World!.\n"
     ]
    }
   ],
   "source": [
    "# 2 using positional arguments \n",
    "\n",
    "def make_shirt(size, message):\n",
    "    print(f\"The shirt size is {size} and the message printed on it is: {message}.\")\n",
    "\n",
    "# Calling the function using positional arguments\n",
    "make_shirt('Medium', 'Python is fun!')\n",
    "\n",
    "# Calling the function using keyword arguments\n",
    "make_shirt(message='Hello, World!', size='Large')\n"
   ]
  },
  {
   "cell_type": "code",
   "execution_count": 134,
   "metadata": {},
   "outputs": [
    {
     "name": "stdout",
     "output_type": "stream",
     "text": [
      "Reykjavik is in Iceland\n",
      "Oslo is in Norway\n",
      "New York is in USA\n"
     ]
    }
   ],
   "source": [
    "# Write a function called describe_city().\n",
    "def describe_city(city, country=\"Iceland\"):\n",
    "    print(f\"{city} is in {country}\")\n",
    "    # Test the function with a city and a country\n",
    "describe_city(\"Reykjavik\") # use default country\n",
    "describe_city(\"Oslo\", \"Norway\") # use specified country\n",
    "describe_city(\"New York\", \"USA\")"
   ]
  },
  {
   "cell_type": "code",
   "execution_count": 135,
   "metadata": {},
   "outputs": [
    {
     "name": "stdout",
     "output_type": "stream",
     "text": [
      "Tokyo,is in  Japan\n",
      "Berlin,is in  Germany\n",
      "Santiago,is in  Chile\n"
     ]
    }
   ],
   "source": [
    "# 04.Write a function called city_country().\n",
    "def city_country(city, country):\n",
    "    return f\"{city},is in  {country}\"\n",
    "# Test the function\n",
    "print(city_country(\"Tokyo\", \"Japan\"))\n",
    "print(city_country(\"Berlin\", \"Germany\"))\n",
    "print(city_country(\"Santiago\", \"Chile\"))"
   ]
  },
  {
   "cell_type": "code",
   "execution_count": 136,
   "metadata": {},
   "outputs": [
    {
     "name": "stdout",
     "output_type": "stream",
     "text": [
      "{'manufacturer': 'subaru', 'model': 'outback', 'color': 'blue', 'tow_package': True}\n"
     ]
    }
   ],
   "source": [
    "def make_car(manufacturer, model, **car_info):\n",
    "    \"\"\"Build a dictionary with information about a car.\"\"\"\n",
    "    car = {\n",
    "        'manufacturer': manufacturer,\n",
    "        'model': model,\n",
    "    }\n",
    "    car.update(car_info)\n",
    "    return car\n",
    "\n",
    "# Calling the function with additional information\n",
    "car = make_car('subaru', 'outback', color='blue', tow_package=True)\n",
    "\n",
    "# Printing the result\n",
    "print(car)\n"
   ]
  },
  {
   "cell_type": "markdown",
   "metadata": {},
   "source": [
    "# OOPS"
   ]
  },
  {
   "cell_type": "code",
   "execution_count": 139,
   "metadata": {},
   "outputs": [
    {
     "name": "stdout",
     "output_type": "stream",
     "text": [
      "Awais\n"
     ]
    }
   ],
   "source": [
    "# making a oops \n",
    "class Student:\n",
    "    name = \"Awais\"\n",
    "s1 = Student()\n",
    "print(s1.name)  \n",
    " "
   ]
  },
  {
   "cell_type": "code",
   "execution_count": 140,
   "metadata": {},
   "outputs": [
    {
     "name": "stdout",
     "output_type": "stream",
     "text": [
      "Awais\n"
     ]
    }
   ],
   "source": [
    "# makin a oops\n",
    "s2 = Student()\n",
    "print(s2.name)  "
   ]
  },
  {
   "cell_type": "code",
   "execution_count": 141,
   "metadata": {},
   "outputs": [
    {
     "name": "stdout",
     "output_type": "stream",
     "text": [
      "blue\n",
      "mercedes\n"
     ]
    }
   ],
   "source": [
    "# making car color \n",
    "class Car:\n",
    "    color = \"blue\"\n",
    "    brand = \"mercedes\"\n",
    "Car1 = Car()\n",
    "print(Car1.color)  \n",
    "print(Car1.brand)"
   ]
  },
  {
   "cell_type": "code",
   "execution_count": 142,
   "metadata": {},
   "outputs": [
    {
     "name": "stdout",
     "output_type": "stream",
     "text": [
      "adding a new student in Database\n",
      "<__main__.Student object at 0x000001F89F8AE5A0>\n",
      "<__main__.Student object at 0x000001F89F8AE5A0>\n"
     ]
    }
   ],
   "source": [
    "class Student:\n",
    "    name = \"Awais\"\n",
    "    def __init__(self):\n",
    "        print(\"adding a new student in Database\")\n",
    "        print(self)\n",
    "    \n",
    "s1 = Student()\n",
    "print(s1)\n",
    "    "
   ]
  },
  {
   "cell_type": "code",
   "execution_count": 143,
   "metadata": {},
   "outputs": [
    {
     "data": {
      "text/plain": [
       "[]"
      ]
     },
     "execution_count": 143,
     "metadata": {},
     "output_type": "execute_result"
    }
   ],
   "source": [
    "# create a object \n",
    "# object name = class name()\n",
    "l = list()\n",
    "l"
   ]
  },
  {
   "cell_type": "code",
   "execution_count": 144,
   "metadata": {},
   "outputs": [
    {
     "name": "stdout",
     "output_type": "stream",
     "text": [
      "\n",
      "--- Remote Control Menu ---\n",
      "1. Power On/Off\n",
      "2. Change Volume\n",
      "3. Change Channel\n",
      "4. Mute/Unmute\n",
      "5. Exit\n",
      "The TV is now On.\n",
      "\n",
      "--- Remote Control Menu ---\n",
      "1. Power On/Off\n",
      "2. Change Volume\n",
      "3. Change Channel\n",
      "4. Mute/Unmute\n",
      "5. Exit\n",
      "The TV is now Off.\n",
      "\n",
      "--- Remote Control Menu ---\n",
      "1. Power On/Off\n",
      "2. Change Volume\n",
      "3. Change Channel\n",
      "4. Mute/Unmute\n",
      "5. Exit\n",
      "The TV is off. Turn it on first.\n",
      "\n",
      "--- Remote Control Menu ---\n",
      "1. Power On/Off\n",
      "2. Change Volume\n",
      "3. Change Channel\n",
      "4. Mute/Unmute\n",
      "5. Exit\n",
      "The TV is off. Turn it on first.\n",
      "\n",
      "--- Remote Control Menu ---\n",
      "1. Power On/Off\n",
      "2. Change Volume\n",
      "3. Change Channel\n",
      "4. Mute/Unmute\n",
      "5. Exit\n",
      "Exiting the remote control program. Goodbye!\n"
     ]
    }
   ],
   "source": [
    "class Remote:\n",
    "    def __init__(self):\n",
    "        self.power = \"Off\"\n",
    "        self.volume = 10\n",
    "        self.channel = 1\n",
    "        self.mute = \"Unmuted\"\n",
    "\n",
    "    def power_on(self):\n",
    "        if self.power == \"Off\":\n",
    "            self.power = \"On\"\n",
    "        else:\n",
    "            self.power = \"Off\"\n",
    "        print(f\"The TV is now {self.power}.\")\n",
    "\n",
    "    def volume_change(self, new_volume):\n",
    "        if self.power == \"On\":\n",
    "            self.volume = new_volume\n",
    "            print(f\"The volume is changed to {self.volume}.\")\n",
    "        else:\n",
    "            print(\"The TV is off. Turn it on to change the volume.\")\n",
    "\n",
    "    def change_channel(self, new_channel):\n",
    "        if self.power == \"On\":\n",
    "            self.channel = new_channel\n",
    "            print(f\"The channel is changed to {self.channel}.\")\n",
    "        else:\n",
    "            print(\"The TV is off. Turn it on to change the channel.\")\n",
    "\n",
    "    def mute_toggle(self):\n",
    "        if self.power == \"On\":\n",
    "            if self.mute == \"Unmuted\":\n",
    "                self.mute = \"Muted\"\n",
    "            else:\n",
    "                self.mute = \"Unmuted\"\n",
    "            print(f\"The TV is now {self.mute}.\")\n",
    "        else:\n",
    "            print(\"The TV is off. Turn it on to toggle mute.\")\n",
    "\n",
    "def main():\n",
    "    remote = Remote()\n",
    "    while True:\n",
    "        print(\"\\n--- Remote Control Menu ---\")\n",
    "        print(\"1. Power On/Off\")\n",
    "        print(\"2. Change Volume\")\n",
    "        print(\"3. Change Channel\")\n",
    "        print(\"4. Mute/Unmute\")\n",
    "        print(\"5. Exit\")\n",
    "        \n",
    "        choice = input(\"Enter your choice (1-5): \")\n",
    "        \n",
    "        if choice == '1':\n",
    "            remote.power_on()\n",
    "        elif choice == '2':\n",
    "            if remote.power == \"On\":\n",
    "                try:\n",
    "                    new_volume = int(input(\"Enter new volume (0-100): \"))\n",
    "                    if 0 <= new_volume <= 100:\n",
    "                        remote.volume_change(new_volume)\n",
    "                    else:\n",
    "                        print(\"Please enter a volume between 0 and 100.\")\n",
    "                except ValueError:\n",
    "                    print(\"Invalid input. Please enter a number.\")\n",
    "            else:\n",
    "                print(\"The TV is off. Turn it on first.\")\n",
    "        elif choice == '3':\n",
    "            if remote.power == \"On\":\n",
    "                try:\n",
    "                    new_channel = int(input(\"Enter new channel number: \"))\n",
    "                    remote.change_channel(new_channel)\n",
    "                except ValueError:\n",
    "                    print(\"Invalid input. Please enter a number.\")\n",
    "            else:\n",
    "                print(\"The TV is off. Turn it on first.\")\n",
    "        elif choice == '4':\n",
    "            remote.mute_toggle()\n",
    "        elif choice == '5':\n",
    "            print(\"Exiting the remote control program. Goodbye!\")\n",
    "            break\n",
    "        else:\n",
    "            print(\"Invalid choice. Please select a valid option.\")\n",
    "\n",
    "if __name__ == \"__main__\":\n",
    "    main()\n"
   ]
  },
  {
   "cell_type": "code",
   "execution_count": 145,
   "metadata": {},
   "outputs": [
    {
     "name": "stdout",
     "output_type": "stream",
     "text": [
      "Area: 3421.194399759285\n",
      "Perimeter: 207.34511513692635\n"
     ]
    }
   ],
   "source": [
    "import math as m\n",
    "\n",
    "r = int(input(\"Enter the radius of the circle: \"))\n",
    "\n",
    "area = m.pi * r ** 2\n",
    "perimeter = 2 * m.pi * r\n",
    "\n",
    "class Circle:\n",
    "    def __init__(self, radius):\n",
    "        self.radius = radius\n",
    "        self.area = m.pi * radius ** 2\n",
    "        self.perimeter = 2 * m.pi * radius\n",
    "\n",
    "p = Circle(r)\n",
    "print(\"Area:\", p.area)\n",
    "print(\"Perimeter:\", p.perimeter)\n"
   ]
  },
  {
   "cell_type": "code",
   "execution_count": 146,
   "metadata": {},
   "outputs": [
    {
     "name": "stdout",
     "output_type": "stream",
     "text": [
      "<class '__main__.instructor'>\n"
     ]
    }
   ],
   "source": [
    "class instructor:\n",
    "    pass\n",
    "instructor_1=instructor()\n",
    "print(type(instructor_1))"
   ]
  },
  {
   "cell_type": "code",
   "execution_count": 148,
   "metadata": {},
   "outputs": [
    {
     "name": "stdout",
     "output_type": "stream",
     "text": [
      "Awais\n",
      "Islamabad\n",
      "Natsha\n",
      "Karachi\n"
     ]
    }
   ],
   "source": [
    "class instructor:\n",
    "    pass                        \n",
    "instructor_1=instructor()\n",
    "instructor_1.name=\"Awais\"\n",
    "instructor_1.address=\"Islamabad\"\n",
    "print(instructor_1.name)\n",
    "print(instructor_1.address)\n",
    "instructor_2=instructor()\n",
    "instructor_2.name=\"Natsha\"\n",
    "instructor_2.address=\"Karachi\"\n",
    "print(instructor_2.name)\n",
    "print(instructor_2.address)\n",
    "\n"
   ]
  },
  {
   "cell_type": "code",
   "execution_count": 150,
   "metadata": {},
   "outputs": [
    {
     "name": "stdout",
     "output_type": "stream",
     "text": [
      "hi Awais Manzoor your avg score is 92.0\n"
     ]
    }
   ],
   "source": [
    "class Student:\n",
    "    def __init__(self,name,marks):\n",
    "        self.name=name\n",
    "        self.marks=marks\n",
    "    def get_avg(self):\n",
    "        sum = 0\n",
    "        for val in self.marks:\n",
    "            sum += val\n",
    "        print(\"hi\", self.name, \"your avg score is\", sum/3)\n",
    "\n",
    "s = Student(\"Awais Manzoor\", [90,96,90])\n",
    "s.get_avg()\n",
    "\n"
   ]
  },
  {
   "cell_type": "code",
   "execution_count": 152,
   "metadata": {},
   "outputs": [],
   "source": [
    "class Atm:\n",
    "    def __init__(self):\n",
    "        self.pin = ''\n",
    "        self.balance = 0\n",
    "        self.menue()\n",
    "\n",
    "    def menue(self):\n",
    "        user_input= input(\"\"\"\n",
    "        Hi how can i help you ?\n",
    "        1. press 1 to create pin.\n",
    "        2. press 2 to change pin.\n",
    "        3. press 3 to check balance.\n",
    "        4. pres 4 to withdraw\n",
    "        5. anything else to exit\n",
    "        \"\"\")\n",
    "        if user_input == '1':\n",
    "            self.create_pin()\n",
    "        elif user_input == '2':\n",
    "            self.change_pin()\n",
    "        elif user_input == '3':\n",
    "            self.check_balance()\n",
    "        elif user_input == '4':\n",
    "            self.withdraw()\n",
    "        else:\n",
    "            exit\n",
    "\n",
    "    def create_pin(self):\n",
    "        user_pin = input(\"Enter your pin\")\n",
    "        self.pin = user_pin\n",
    "\n",
    "        user_balance = input(\"Enter our balance\")\n",
    "        self.balance = user_balance\n",
    "        self.menue()\n",
    "        print(\"Pin created successfully \")\n",
    "    def change_pin(self):\n",
    "        old_pin = input(\"Enter your old pin\")\n",
    "        self.pin = old_pin\n",
    "        if self.pin == old_pin:\n",
    "            new_pin = input(\"Enter your new pin\")\n",
    "            self.pin = new_pin\n",
    "        else:\n",
    "            print(\"Invalid pin\")\n",
    "        self.menue()\n",
    "        print(\"Pin changed succeswsfully \")\n",
    "    def check_balance(self):\n",
    "        user_pin = input(\"Enter your pin\")\n",
    "        if user_pin == self.pin:\n",
    "            print(\"Your balance is \", self.balance)\n",
    "        else:\n",
    "            print(\"Invalid pin\")\n",
    "        self.menue()\n",
    "    def withdraw(self):\n",
    "        user_pin = input(\"Enter you pin\")\n",
    "        if user_pin == self.pin:\n",
    "            amount = input(\"Enter the amount \")\n",
    "            if amount <= self.balance:\n",
    "                self.balance -=amount\n",
    "                print(\"Amount withdraw successfully, \", self.balance)\n",
    "            else:\n",
    "                print(\"Insufficient balance\")\n",
    "        else:\n",
    "            print(\"Invalid pin\")\n",
    "        self.menue()\n",
    "\n",
    "    "
   ]
  },
  {
   "cell_type": "code",
   "execution_count": 153,
   "metadata": {},
   "outputs": [
    {
     "name": "stdout",
     "output_type": "stream",
     "text": [
      "Pin changed succeswsfully \n",
      "Pin created successfully \n"
     ]
    }
   ],
   "source": [
    "atm1 = Atm()"
   ]
  },
  {
   "cell_type": "code",
   "execution_count": 151,
   "metadata": {},
   "outputs": [],
   "source": [
    "class Fraction:\n",
    "\n",
    "  # parameterized constructor\n",
    "  def __init__(self,x,y):\n",
    "    self.num = x\n",
    "    self.den = y\n",
    "\n",
    "  def __str__(self):\n",
    "    return '{}/{}'.format(self.num,self.den)\n",
    "\n",
    "  def __add__(self,other):\n",
    "    new_num = self.num*other.den + other.num*self.den\n",
    "    new_den = self.den*other.den\n",
    "\n",
    "    return '{}/{}'.format(new_num,new_den)\n",
    "\n",
    "  def __sub__(self,other):\n",
    "    new_num = self.num*other.den - other.num*self.den\n",
    "    new_den = self.den*other.den\n",
    "\n",
    "    return '{}/{}'.format(new_num,new_den)\n",
    "\n",
    "  def __mul__(self,other):\n",
    "    new_num = self.num*other.num\n",
    "    new_den = self.den*other.den\n",
    "\n",
    "    return '{}/{}'.format(new_num,new_den)\n",
    "\n",
    "  def __truediv__(self,other):\n",
    "    new_num = self.num*other.den\n",
    "    new_den = self.den*other.num\n",
    "\n",
    "    return '{}/{}'.format(new_num,new_den)\n",
    "\n",
    "  def convert_to_decimal(self):\n",
    "    return self.num/self.den"
   ]
  },
  {
   "cell_type": "code",
   "execution_count": 154,
   "metadata": {},
   "outputs": [
    {
     "name": "stdout",
     "output_type": "stream",
     "text": [
      "10/8\n",
      "2/8\n",
      "3/8\n",
      "6/4\n"
     ]
    }
   ],
   "source": [
    "fr1 = Fraction(3,4)\n",
    "fr2 = Fraction(1,2)\n",
    "print(fr1 + fr2)\n",
    "print(fr1 - fr2)\n",
    "print(fr1 * fr2)\n",
    "print(fr1 / fr2)"
   ]
  },
  {
   "cell_type": "markdown",
   "metadata": {},
   "source": [
    "# Encapsulation"
   ]
  },
  {
   "cell_type": "code",
   "execution_count": 156,
   "metadata": {},
   "outputs": [
    {
     "name": "stdout",
     "output_type": "stream",
     "text": [
      "Awais Pakistan\n",
      "Head australia\n"
     ]
    }
   ],
   "source": [
    "\n",
    "# Encapsulation is a concept in object-oriented programming (OOP) that binds together the data and\n",
    "# the methods that manipulate that data, and keeps both safe from outside interference and misuse.\n",
    "# instance var -> python tutor\n",
    "class Person:\n",
    "\n",
    "  def __init__(self,name_input,country_input):\n",
    "    self.name = name_input # instance variableis a special variable  ka value her obj kia lia different hota ha \n",
    "    self.country = country_input\n",
    "\n",
    "p1 = Person('Awais','Pakistan')\n",
    "p2 = Person('Head','australia')\n",
    "print(p1.name,p1.country) \n",
    "print(p2.name,p2.country)"
   ]
  },
  {
   "cell_type": "code",
   "execution_count": 157,
   "metadata": {},
   "outputs": [],
   "source": [
    "class Atm:\n",
    "\n",
    "  # constructor(special function)->superpower -> \n",
    "  def __init__(self):\n",
    "    print(id(self))\n",
    "    self.pin = ''\n",
    "    self.__balance = 0\n",
    "    #self.menu()\n",
    "\n",
    "  def get_balance(self):\n",
    "    return self.__balance\n",
    "\n",
    "  def set_balance(self,new_value):\n",
    "    if type(new_value) == int:\n",
    "      self.__balance = new_value\n",
    "    else:\n",
    "      print('beta bahot maarenge')\n",
    "\n",
    "  def __menu(self):\n",
    "    user_input = input(\"\"\"\n",
    "    Hi how can I help you?\n",
    "    1. Press 1 to create pin\n",
    "    2. Press 2 to change pin\n",
    "    3. Press 3 to check balance\n",
    "    4. Press 4 to withdraw\n",
    "    5. Anything else to exit\n",
    "    \"\"\")\n",
    "\n",
    "    if user_input == '1':\n",
    "      self.create_pin()\n",
    "    elif user_input == '2':\n",
    "      self.change_pin()\n",
    "    elif user_input == '3':\n",
    "      self.check_balance()\n",
    "    elif user_input == '4':\n",
    "      self.withdraw()\n",
    "    else:\n",
    "      exit()\n",
    "\n",
    "  def create_pin(self):\n",
    "    user_pin = input('enter your pin')\n",
    "    self.pin = user_pin\n",
    "\n",
    "    user_balance = int(input('enter balance'))\n",
    "    self.__balance = user_balance\n",
    "\n",
    "    print('pin created successfully')\n",
    "\n",
    "  def change_pin(self):\n",
    "    old_pin = input('enter old pin')\n",
    "\n",
    "    if old_pin == self.pin:\n",
    "      # let him change the pin\n",
    "      new_pin = input('enter new pin')\n",
    "      self.pin = new_pin\n",
    "      print('pin change successful')\n",
    "    else:\n",
    "      print('nai karne de sakta re baba')\n",
    "\n",
    "  def check_balance(self):\n",
    "    user_pin = input('enter your pin')\n",
    "    if user_pin == self.pin:\n",
    "      print('your balance is ',self.__balance)\n",
    "    else:\n",
    "      print('chal nikal yahan se')\n",
    "\n",
    "  def withdraw(self):\n",
    "    user_pin = input('enter the pin')\n",
    "    if user_pin == self.pin:\n",
    "      # allow to withdraw\n",
    "      amount = int(input('enter the amount'))\n",
    "      if amount <= self.__balance:\n",
    "        self.__balance = self.__balance - amount\n",
    "        print('withdrawl successful.balance is',self.__balance)\n",
    "      else:\n",
    "        print('abe garib')\n",
    "    else:\n",
    "      print('sale chor')"
   ]
  },
  {
   "cell_type": "code",
   "execution_count": 158,
   "metadata": {},
   "outputs": [
    {
     "name": "stdout",
     "output_type": "stream",
     "text": [
      "2167340197568\n"
     ]
    }
   ],
   "source": [
    "obj = Atm()\n"
   ]
  },
  {
   "cell_type": "code",
   "execution_count": 159,
   "metadata": {},
   "outputs": [
    {
     "data": {
      "text/plain": [
       "0"
      ]
     },
     "execution_count": 159,
     "metadata": {},
     "output_type": "execute_result"
    }
   ],
   "source": [
    "obj.get_balance()"
   ]
  },
  {
   "cell_type": "code",
   "execution_count": 160,
   "metadata": {},
   "outputs": [],
   "source": [
    "obj.set_balance(1000)"
   ]
  },
  {
   "cell_type": "code",
   "execution_count": 161,
   "metadata": {},
   "outputs": [
    {
     "name": "stdout",
     "output_type": "stream",
     "text": [
      "Awais male\n",
      "Ali male\n",
      "ankita female\n"
     ]
    }
   ],
   "source": [
    "# list of objects\n",
    "class Person:\n",
    "\n",
    "  def __init__(self,name,gender):\n",
    "    self.name = name\n",
    "    self.gender = gender\n",
    "\n",
    "p1 = Person('Awais','male')\n",
    "p2 = Person('Ali','male')\n",
    "p3 = Person('ankita','female')\n",
    "\n",
    "L = [p1,p2,p3]\n",
    "\n",
    "for i in L:\n",
    "  print(i.name,i.gender)"
   ]
  },
  {
   "cell_type": "code",
   "execution_count": 162,
   "metadata": {},
   "outputs": [
    {
     "name": "stdout",
     "output_type": "stream",
     "text": [
      "male\n",
      "male\n",
      "female\n"
     ]
    }
   ],
   "source": [
    "# dict of objects\n",
    "# list of objects\n",
    "class Person:\n",
    "\n",
    "  def __init__(self,name,gender):\n",
    "    self.name = name\n",
    "    self.gender = gender\n",
    "\n",
    "p1 = Person('Awais','male')\n",
    "p2 = Person('Zohaib','male')\n",
    "p3 = Person('ankita','female')\n",
    "\n",
    "d = {'p1':p1,'p2':p2,'p3':p3}\n",
    "\n",
    "for i in d:\n",
    "  print(d[i].gender)"
   ]
  },
  {
   "cell_type": "code",
   "execution_count": 163,
   "metadata": {},
   "outputs": [],
   "source": [
    "# Static Variables(Vs Instance variables)\n",
    "\"\"\"\"Points to remember about static\n",
    "Static attributes are created at class level.\n",
    "Static attributes are accessed using ClassName.\n",
    "Static attributes are object independent. We can access them without creating instance (object) of the class in which they are defined.\n",
    "The value stored in static attribute is shared between all instances(objects) of the class in which the static attribute is defined.\n",
    "\n",
    "[ ]\n",
    "\"\"\"\n",
    "class Atm:\n",
    "\n",
    "  __counter = 1\n",
    "\n",
    "  # constructor(special function)->superpower -> \n",
    "  def __init__(self):\n",
    "    print(id(self))\n",
    "    self.pin = ''\n",
    "    self.__balance = 0\n",
    "    self.cid = Atm.__counter\n",
    "    Atm.__counter = Atm.__counter + 1\n",
    "    #self.menu()\n",
    "\n",
    "  # utility functions\n",
    "  @staticmethod\n",
    "  def get_counter():\n",
    "    return Atm.__counter\n",
    "\n",
    "\n",
    "  def get_balance(self):\n",
    "    return self.__balance\n",
    "\n",
    "  def set_balance(self,new_value):\n",
    "    if type(new_value) == int:\n",
    "      self.__balance = new_value\n",
    "    else:\n",
    "      print('beta bahot maarenge')\n",
    "\n",
    "  def __menu(self):\n",
    "    user_input = input(\"\"\"\n",
    "    Hi how can I help you?\n",
    "    1. Press 1 to create pin\n",
    "    2. Press 2 to change pin\n",
    "    3. Press 3 to check balance\n",
    "    4. Press 4 to withdraw\n",
    "    5. Anything else to exit\n",
    "    \"\"\")\n",
    "\n",
    "    if user_input == '1':\n",
    "      self.create_pin()\n",
    "    elif user_input == '2':\n",
    "      self.change_pin()\n",
    "    elif user_input == '3':\n",
    "      self.check_balance()\n",
    "    elif user_input == '4':\n",
    "      self.withdraw()\n",
    "    else:\n",
    "      exit()\n",
    "\n",
    "  def create_pin(self):\n",
    "    user_pin = input('enter your pin')\n",
    "    self.pin = user_pin\n",
    "\n",
    "    user_balance = int(input('enter balance'))\n",
    "    self.__balance = user_balance\n",
    "\n",
    "    print('pin created successfully')\n",
    "\n",
    "  def change_pin(self):\n",
    "    old_pin = input('enter old pin')\n",
    "\n",
    "    if old_pin == self.pin:\n",
    "      # let him change the pin\n",
    "      new_pin = input('enter new pin')\n",
    "      self.pin = new_pin\n",
    "      print('pin change successful')\n",
    "    else:\n",
    "      print('nai karne de sakta re baba')\n",
    "\n",
    "  def check_balance(self):\n",
    "    user_pin = input('enter your pin')\n",
    "    if user_pin == self.pin:\n",
    "      print('your balance is ',self.__balance)\n",
    "    else:\n",
    "      print('chal nikal yahan se')\n",
    "\n",
    "  def withdraw(self):\n",
    "    user_pin = input('enter the pin')\n",
    "    if user_pin == self.pin:\n",
    "      # allow to withdraw\n",
    "      amount = int(input('enter the amount'))\n",
    "      if amount <= self.__balance:\n",
    "        self.__balance = self.__balance - amount\n",
    "        print('withdrawl successful.balance is',self.__balance)\n",
    "      else:\n",
    "        print('abe garib')\n",
    "    else:\n",
    "      print('sale chor')"
   ]
  },
  {
   "cell_type": "code",
   "execution_count": 164,
   "metadata": {},
   "outputs": [
    {
     "name": "stdout",
     "output_type": "stream",
     "text": [
      "Simba drinks water from the well in the circus\n",
      "Water source of lions: well in the circus\n"
     ]
    }
   ],
   "source": [
    "class Lion:\n",
    "  __water_source=\"well in the circus\"\n",
    "\n",
    "  def __init__(self,name, gender):\n",
    "      self.__name=name\n",
    "      self.__gender=gender\n",
    "\n",
    "  def drinks_water(self):\n",
    "      print(self.__name,\n",
    "      \"drinks water from the\",Lion.__water_source)\n",
    "\n",
    "  @staticmethod\n",
    "  def get_water_source():\n",
    "      return Lion.__water_source\n",
    "\n",
    "simba=Lion(\"Simba\",\"Male\")\n",
    "simba.drinks_water()\n",
    "print( \"Water source of lions:\",Lion.get_water_source())"
   ]
  },
  {
   "cell_type": "markdown",
   "metadata": {},
   "source": [
    "Aggregation(Has-A relationship)"
   ]
  },
  {
   "cell_type": "code",
   "execution_count": 165,
   "metadata": {},
   "outputs": [
    {
     "data": {
      "text/plain": [
       "'Class Relationships\\nAggregation\\nInheritance'"
      ]
     },
     "execution_count": 165,
     "metadata": {},
     "output_type": "execute_result"
    }
   ],
   "source": [
    "\"\"\"Class Relationships\n",
    "Aggregation\n",
    "Inheritance\"\"\""
   ]
  },
  {
   "cell_type": "code",
   "execution_count": 166,
   "metadata": {},
   "outputs": [
    {
     "name": "stdout",
     "output_type": "stream",
     "text": [
      "gurgaon 122011 haryana\n",
      "mumbai 111111 maharastra\n"
     ]
    }
   ],
   "source": [
    "# example\n",
    "class Customer:\n",
    "\n",
    "  def __init__(self,name,gender,address):\n",
    "    self.name = name\n",
    "    self.gender = gender\n",
    "    self.address = address\n",
    "\n",
    "  def print_address(self):\n",
    "    print(self.address._Address__city,self.address.pin,self.address.state)\n",
    "\n",
    "  def edit_profile(self,new_name,new_city,new_pin,new_state):\n",
    "    self.name = new_name\n",
    "    self.address.edit_address(new_city,new_pin,new_state)\n",
    "\n",
    "class Address:\n",
    "\n",
    "  def __init__(self,city,pin,state):\n",
    "      self.__city = city\n",
    "      self.pin = pin\n",
    "      self.state = state\n",
    "\n",
    "  def get_city(self):\n",
    "    return self.__city\n",
    "\n",
    "  def edit_address(self,new_city,new_pin,new_state):\n",
    "    self.__city = new_city\n",
    "    self.pin = new_pin\n",
    "    self.state = new_state\n",
    "\n",
    "add1 = Address('gurgaon',122011,'haryana')\n",
    "cust = Customer('nitish','male',add1)\n",
    "\n",
    "cust.print_address()\n",
    "\n",
    "cust.edit_profile('ankit','mumbai',111111,'maharastra')\n",
    "cust.print_address()\n",
    "# method example\n",
    "# what about private attribute"
   ]
  },
  {
   "cell_type": "markdown",
   "metadata": {},
   "source": [
    "# Inheritance"
   ]
  },
  {
   "cell_type": "code",
   "execution_count": 168,
   "metadata": {},
   "outputs": [
    {
     "name": "stdout",
     "output_type": "stream",
     "text": [
      "Awais\n",
      "login\n",
      "enroll into the course\n"
     ]
    }
   ],
   "source": [
    "\n",
    "\"\"\"nheritance in summary\n",
    "A class can inherit from another class.\n",
    "\n",
    "Inheritance improves code reuse\n",
    "\n",
    "Constructor, attributes, methods get inherited to the child class\n",
    "\n",
    "The parent has no access to the child class\n",
    "\n",
    "Private properties of parent are not accessible directly in child class\n",
    "\n",
    "Child class can override the attributes or methods. This is called method overriding\n",
    "\n",
    "super() is an inbuilt function which is used to invoke the parent class methods and constructor\"\"\"\n",
    "\n",
    "\n",
    "#Example\n",
    "\n",
    "# parent\n",
    "class User:\n",
    "\n",
    "  def __init__(self):\n",
    "    self.name = 'Awais'\n",
    "    self.gender = 'male'\n",
    "\n",
    "  def login(self):\n",
    "    print('login')\n",
    "\n",
    "# child\n",
    "class Student(User):\n",
    "\n",
    "  def __init__(self):\n",
    "    self.rollno = 100\n",
    "\n",
    "  def enroll(self):\n",
    "    print('enroll into the course')\n",
    "    # creating an object of the child class\n",
    "  \n",
    "\n",
    "u = User()\n",
    "print(u.name)\n",
    "s = Student()\n",
    "s.login()\n",
    "s.enroll()"
   ]
  },
  {
   "cell_type": "code",
   "execution_count": 169,
   "metadata": {},
   "outputs": [
    {
     "name": "stdout",
     "output_type": "stream",
     "text": [
      "Inside phone constructor\n",
      "Buying a phone\n"
     ]
    },
    {
     "data": {
      "text/plain": [
       "'Apple'"
      ]
     },
     "execution_count": 169,
     "metadata": {},
     "output_type": "execute_result"
    }
   ],
   "source": [
    "# constructor example\n",
    "\n",
    "class Phone:\n",
    "    def __init__(self, price, brand, camera):\n",
    "        print (\"Inside phone constructor\")\n",
    "        self.price = price\n",
    "        self.brand = brand\n",
    "        self.camera = camera\n",
    "\n",
    "    def buy(self):\n",
    "        print (\"Buying a phone\")\n",
    "\n",
    "class SmartPhone(Phone):\n",
    "    pass\n",
    "\n",
    "s=SmartPhone(20000, \"Apple\", 13)\n",
    "s.buy()\n",
    "s.price\n",
    "s.brand\n"
   ]
  },
  {
   "cell_type": "code",
   "execution_count": 170,
   "metadata": {},
   "outputs": [
    {
     "data": {
      "text/plain": [
       "13"
      ]
     },
     "execution_count": 170,
     "metadata": {},
     "output_type": "execute_result"
    }
   ],
   "source": [
    "s.camera"
   ]
  },
  {
   "cell_type": "code",
   "execution_count": 171,
   "metadata": {},
   "outputs": [
    {
     "name": "stdout",
     "output_type": "stream",
     "text": [
      "Inside phone constructor\n",
      "20000\n"
     ]
    }
   ],
   "source": [
    "\n",
    "# child can't access private members of the class\n",
    "\n",
    "class Phone:\n",
    "    def __init__(self, price, brand, camera):\n",
    "        print (\"Inside phone constructor\")\n",
    "        self.__price = price\n",
    "        self.brand = brand\n",
    "        self.camera = camera\n",
    "\n",
    "    #getter\n",
    "    def show(self):\n",
    "        print (self.__price)\n",
    "\n",
    "class SmartPhone(Phone):\n",
    "    def check(self):\n",
    "        print(self.__price)\n",
    "\n",
    "s=SmartPhone(20000, \"Apple\", 13)\n",
    "s.show()\n"
   ]
  },
  {
   "cell_type": "code",
   "execution_count": 172,
   "metadata": {},
   "outputs": [
    {
     "name": "stdout",
     "output_type": "stream",
     "text": [
      "100\n",
      "This is in child class\n"
     ]
    }
   ],
   "source": [
    "class Parent:\n",
    "\n",
    "    def __init__(self,num):\n",
    "        self.__num=num\n",
    "\n",
    "    def get_num(self):\n",
    "        return self.__num\n",
    "\n",
    "class Child(Parent):\n",
    "\n",
    "    def show(self):\n",
    "        print(\"This is in child class\")\n",
    "        \n",
    "son=Child(100)\n",
    "print(son.get_num())\n",
    "son.show()"
   ]
  },
  {
   "cell_type": "markdown",
   "metadata": {},
   "source": [
    "# Method Overriding"
   ]
  },
  {
   "cell_type": "code",
   "execution_count": 173,
   "metadata": {},
   "outputs": [
    {
     "name": "stdout",
     "output_type": "stream",
     "text": [
      "Inside phone constructor\n",
      "Buying a smartphone\n"
     ]
    }
   ],
   "source": [
    "# Method Overriding\n",
    "class Phone:\n",
    "    def __init__(self, price, brand, camera):\n",
    "        print (\"Inside phone constructor\")\n",
    "        self.__price = price\n",
    "        self.brand = brand\n",
    "        self.camera = camera\n",
    "\n",
    "    def buy(self):\n",
    "        print (\"Buying a phone\")\n",
    "\n",
    "class SmartPhone(Phone):\n",
    "    def buy(self):\n",
    "        print (\"Buying a smartphone\")\n",
    "\n",
    "s=SmartPhone(20000, \"Apple\", 13)\n",
    "\n",
    "s.buy()"
   ]
  },
  {
   "cell_type": "markdown",
   "metadata": {},
   "source": [
    "# Super Keyword"
   ]
  },
  {
   "cell_type": "code",
   "execution_count": 174,
   "metadata": {},
   "outputs": [
    {
     "name": "stdout",
     "output_type": "stream",
     "text": [
      "Inside phone constructor\n",
      "Buying a smartphone\n",
      "Buying a phone\n"
     ]
    }
   ],
   "source": [
    "class Phone:\n",
    "    def __init__(self, price, brand, camera):\n",
    "        print (\"Inside phone constructor\")\n",
    "        self.__price = price\n",
    "        self.brand = brand\n",
    "        self.camera = camera\n",
    "\n",
    "    def buy(self):\n",
    "        print (\"Buying a phone\")\n",
    "\n",
    "class SmartPhone(Phone):\n",
    "    def buy(self):\n",
    "        print (\"Buying a smartphone\")\n",
    "        # syntax to call parent ka buy method\n",
    "        super().buy()\n",
    "\n",
    "s=SmartPhone(20000, \"Apple\", 13)\n",
    "\n",
    "s.buy()"
   ]
  },
  {
   "cell_type": "code",
   "execution_count": 175,
   "metadata": {},
   "outputs": [
    {
     "name": "stdout",
     "output_type": "stream",
     "text": [
      "Inside phone constructor\n"
     ]
    },
    {
     "data": {
      "text/plain": [
       "<bound method SmartPhone.buy of <__main__.SmartPhone object at 0x000001F89FA17E00>>"
      ]
     },
     "execution_count": 175,
     "metadata": {},
     "output_type": "execute_result"
    }
   ],
   "source": [
    "# using super outside the class give error\n",
    "class Phone:\n",
    "    def __init__(self, price, brand, camera):\n",
    "        print (\"Inside phone constructor\")\n",
    "        self.__price = price\n",
    "        self.brand = brand\n",
    "        self.camera = camera\n",
    "\n",
    "    def buy(self):\n",
    "        print (\"Buying a phone\")\n",
    "\n",
    "class SmartPhone(Phone):\n",
    "    def buy(self):\n",
    "        print (\"Buying a smartphone\")\n",
    "        # syntax to call parent ka buy method\n",
    "        super().buy()\n",
    "\n",
    "s=SmartPhone(20000, \"Apple\", 13)\n",
    "\n",
    "s.buy"
   ]
  },
  {
   "cell_type": "code",
   "execution_count": 176,
   "metadata": {},
   "outputs": [
    {
     "name": "stdout",
     "output_type": "stream",
     "text": [
      "Inside smartphone constructor\n",
      "Inside phone constructor\n",
      "Inside smartphone constructor\n",
      "Android\n",
      "Samsung\n"
     ]
    }
   ],
   "source": [
    "# super -> constuctor\n",
    "class Phone:\n",
    "    def __init__(self, price, brand, camera):\n",
    "        print (\"Inside phone constructor\")\n",
    "        self.__price = price\n",
    "        self.brand = brand\n",
    "        self.camera = camera\n",
    "\n",
    "class SmartPhone(Phone):\n",
    "    def __init__(self, price, brand, camera, os, ram):\n",
    "        print('Inside smartphone constructor')\n",
    "        super().__init__(price, brand, camera)\n",
    "        self.os = os\n",
    "        self.ram = ram\n",
    "        print (\"Inside smartphone constructor\")\n",
    "\n",
    "s=SmartPhone(20000, \"Samsung\", 12, \"Android\", 2)\n",
    "\n",
    "print(s.os)\n",
    "print(s.brand)"
   ]
  },
  {
   "cell_type": "code",
   "execution_count": 177,
   "metadata": {},
   "outputs": [
    {
     "name": "stdout",
     "output_type": "stream",
     "text": [
      "Child: 10\n"
     ]
    }
   ],
   "source": [
    "class Parent:\n",
    "    def __init__(self):\n",
    "        self.__num=100\n",
    "\n",
    "    def show(self):\n",
    "        print(\"Parent:\",self.__num)\n",
    "\n",
    "class Child(Parent):\n",
    "    def __init__(self):\n",
    "        super().__init__()\n",
    "        self.__var=10\n",
    "\n",
    "    def show(self):\n",
    "        print(\"Child:\",self.__var)\n",
    "\n",
    "obj=Child()\n",
    "obj.show()"
   ]
  },
  {
   "cell_type": "markdown",
   "metadata": {},
   "source": [
    "# Types of Inheritance\n"
   ]
  },
  {
   "cell_type": "code",
   "execution_count": 178,
   "metadata": {},
   "outputs": [
    {
     "name": "stdout",
     "output_type": "stream",
     "text": [
      "Inside phone constructor\n",
      "Buying a phone\n"
     ]
    }
   ],
   "source": [
    "\"\"\"Types of Inheritance\n",
    "Single Inheritance\n",
    "Multilevel Inheritance\n",
    "Hierarchical Inheritance\n",
    "Multiple Inheritance(Diamond Problem)\n",
    "Hybrid Inheritance\"\"\"\n",
    "# single inheritance\n",
    "class Phone:\n",
    "    def __init__(self, price, brand, camera):\n",
    "        print (\"Inside phone constructor\")\n",
    "        self.__price = price\n",
    "        self.brand = brand\n",
    "        self.camera = camera\n",
    "\n",
    "    def buy(self):\n",
    "        print (\"Buying a phone\")\n",
    "\n",
    "class SmartPhone(Phone):\n",
    "    pass\n",
    "\n",
    "SmartPhone(1000,\"Apple\",\"13px\").buy()"
   ]
  },
  {
   "cell_type": "code",
   "execution_count": 179,
   "metadata": {},
   "outputs": [
    {
     "name": "stdout",
     "output_type": "stream",
     "text": [
      "Inside phone constructor\n",
      "Buying a phone\n",
      "Product customer review\n"
     ]
    }
   ],
   "source": [
    "# multilevel\n",
    "class Product:\n",
    "    def review(self):\n",
    "        print (\"Product customer review\")\n",
    "\n",
    "class Phone(Product):\n",
    "    def __init__(self, price, brand, camera):\n",
    "        print (\"Inside phone constructor\")\n",
    "        self.__price = price\n",
    "        self.brand = brand\n",
    "        self.camera = camera\n",
    "\n",
    "    def buy(self):\n",
    "        print (\"Buying a phone\")\n",
    "\n",
    "class SmartPhone(Phone):\n",
    "    pass\n",
    "\n",
    "s=SmartPhone(20000, \"Apple\", 12)\n",
    "\n",
    "s.buy()\n",
    "s.review()"
   ]
  },
  {
   "cell_type": "code",
   "execution_count": 180,
   "metadata": {},
   "outputs": [
    {
     "name": "stdout",
     "output_type": "stream",
     "text": [
      "Inside phone constructor\n",
      "Buying a phone\n",
      "Inside phone constructor\n",
      "Buying a phone\n"
     ]
    }
   ],
   "source": [
    "# Hierarchical\n",
    "class Phone:\n",
    "    def __init__(self, price, brand, camera):\n",
    "        print (\"Inside phone constructor\")\n",
    "        self.__price = price\n",
    "        self.brand = brand\n",
    "        self.camera = camera\n",
    "\n",
    "    def buy(self):\n",
    "        print (\"Buying a phone\")\n",
    "\n",
    "class SmartPhone(Phone):\n",
    "    pass\n",
    "\n",
    "class FeaturePhone(Phone):\n",
    "    pass\n",
    "\n",
    "SmartPhone(1000,\"Apple\",\"13px\").buy()\n",
    "FeaturePhone(10,\"Lava\",\"1px\").buy()"
   ]
  },
  {
   "cell_type": "code",
   "execution_count": 181,
   "metadata": {},
   "outputs": [
    {
     "name": "stdout",
     "output_type": "stream",
     "text": [
      "Inside phone constructor\n",
      "Buying a phone\n",
      "Customer review\n"
     ]
    }
   ],
   "source": [
    "# Multiple\n",
    "class Phone:\n",
    "    def __init__(self, price, brand, camera):\n",
    "        print (\"Inside phone constructor\")\n",
    "        self.__price = price\n",
    "        self.brand = brand\n",
    "        self.camera = camera\n",
    "\n",
    "    def buy(self):\n",
    "        print (\"Buying a phone\")\n",
    "\n",
    "class Product:\n",
    "    def review(self):\n",
    "        print (\"Customer review\")\n",
    "\n",
    "class SmartPhone(Phone, Product):\n",
    "    pass\n",
    "\n",
    "s=SmartPhone(20000, \"Apple\", 12)\n",
    "\n",
    "s.buy()\n",
    "s.review()\n"
   ]
  },
  {
   "cell_type": "code",
   "execution_count": 182,
   "metadata": {},
   "outputs": [
    {
     "name": "stdout",
     "output_type": "stream",
     "text": [
      "Inside phone constructor\n",
      "Buying a phone\n"
     ]
    }
   ],
   "source": [
    "# the diamond problem\n",
    "# https://stackoverflow.com/questions/56361048/what-is-the-diamond-problem-in-python-and-why-its-not-appear-in-python2\n",
    "class Phone:\n",
    "    def __init__(self, price, brand, camera):\n",
    "        print (\"Inside phone constructor\")\n",
    "        self.__price = price\n",
    "        self.brand = brand\n",
    "        self.camera = camera\n",
    "\n",
    "    def buy(self):\n",
    "        print (\"Buying a phone\")\n",
    "\n",
    "class Product:\n",
    "    def buy(self):\n",
    "        print (\"Product buy method\")\n",
    "\n",
    "# Method resolution order\n",
    "class SmartPhone(Phone,Product):\n",
    "    pass\n",
    "\n",
    "s=SmartPhone(20000, \"Apple\", 12)\n",
    "\n",
    "s.buy()"
   ]
  },
  {
   "cell_type": "code",
   "execution_count": 183,
   "metadata": {},
   "outputs": [
    {
     "name": "stdout",
     "output_type": "stream",
     "text": [
      "70\n"
     ]
    }
   ],
   "source": [
    "class A:\n",
    "\n",
    "    def m1(self):\n",
    "        return 20\n",
    "\n",
    "class B(A):\n",
    "\n",
    "    def m1(self):\n",
    "        return 30\n",
    "\n",
    "    def m2(self):\n",
    "        return 40\n",
    "\n",
    "class C(B):\n",
    "  \n",
    "    def m2(self):\n",
    "        return 20\n",
    "obj1=A()\n",
    "obj2=B()\n",
    "obj3=C()\n",
    "print(obj1.m1() + obj3.m1()+ obj3.m2())"
   ]
  },
  {
   "cell_type": "markdown",
   "metadata": {},
   "source": [
    "# Polymorphism\n",
    "i. Method Overriding\n",
    "ii. Method Overloading\n",
    "iii. Operator Overloading"
   ]
  },
  {
   "cell_type": "code",
   "execution_count": 184,
   "metadata": {},
   "outputs": [
    {
     "name": "stdout",
     "output_type": "stream",
     "text": [
      "12.56\n",
      "12\n"
     ]
    }
   ],
   "source": [
    "class Shape:\n",
    "\n",
    "  def area(self,a,b=0):\n",
    "    if b == 0:\n",
    "      return 3.14*a*a\n",
    "    else:\n",
    "      return a*b\n",
    "\n",
    "s = Shape()\n",
    "\n",
    "print(s.area(2))\n",
    "print(s.area(3,4))"
   ]
  },
  {
   "cell_type": "code",
   "execution_count": 185,
   "metadata": {},
   "outputs": [
    {
     "data": {
      "text/plain": [
       "'helloworld'"
      ]
     },
     "execution_count": 185,
     "metadata": {},
     "output_type": "execute_result"
    }
   ],
   "source": [
    "'hello' + 'world'"
   ]
  },
  {
   "cell_type": "code",
   "execution_count": 186,
   "metadata": {},
   "outputs": [
    {
     "data": {
      "text/plain": [
       "9"
      ]
     },
     "execution_count": 186,
     "metadata": {},
     "output_type": "execute_result"
    }
   ],
   "source": [
    "4 + 5"
   ]
  },
  {
   "cell_type": "code",
   "execution_count": 187,
   "metadata": {},
   "outputs": [
    {
     "data": {
      "text/plain": [
       "[1, 2, 3, 4, 5]"
      ]
     },
     "execution_count": 187,
     "metadata": {},
     "output_type": "execute_result"
    }
   ],
   "source": [
    "[1,2,3] + [4,5]"
   ]
  },
  {
   "cell_type": "markdown",
   "metadata": {},
   "source": [
    "# Abstraction"
   ]
  },
  {
   "cell_type": "code",
   "execution_count": 188,
   "metadata": {},
   "outputs": [],
   "source": [
    "from abc import ABC,abstractmethod\n",
    "class BankApp(ABC):\n",
    "\n",
    "  def database(self):\n",
    "    print('connected to database')\n",
    "\n",
    "  @abstractmethod\n",
    "  def security(self):\n",
    "    pass\n",
    "\n",
    "  @abstractmethod\n",
    "  def display(self):\n",
    "    pass"
   ]
  },
  {
   "cell_type": "code",
   "execution_count": 189,
   "metadata": {},
   "outputs": [],
   "source": [
    "class MobileApp(BankApp):\n",
    "\n",
    "  def mobile_login(self):\n",
    "    print('login into mobile')\n",
    "\n",
    "  def security(self):\n",
    "    print('mobile security')\n",
    "\n",
    "  def display(self):\n",
    "    print('display')"
   ]
  },
  {
   "cell_type": "code",
   "execution_count": 190,
   "metadata": {},
   "outputs": [],
   "source": [
    "mob = MobileApp()"
   ]
  },
  {
   "cell_type": "code",
   "execution_count": 191,
   "metadata": {},
   "outputs": [
    {
     "name": "stdout",
     "output_type": "stream",
     "text": [
      "mobile security\n"
     ]
    }
   ],
   "source": [
    "mob.security()"
   ]
  },
  {
   "cell_type": "markdown",
   "metadata": {},
   "source": [
    "# Mini projects using function and oops "
   ]
  },
  {
   "cell_type": "markdown",
   "metadata": {},
   "source": [
    "# Full Menue of Restaurant \n"
   ]
  },
  {
   "cell_type": "code",
   "execution_count": 43,
   "metadata": {},
   "outputs": [
    {
     "name": "stdout",
     "output_type": "stream",
     "text": [
      "Welcome to Python Restaurant\n",
      "pizza: 60 Rs\n",
      "Pasta: 40 Rs\n",
      "Burger: 60 Rs\n",
      "salad: 70 Rs\n",
      "coffee: 80 Rs\n",
      "Your item pizza has been added to your order\n",
      "The total amount to pay is 60Rs\n"
     ]
    }
   ],
   "source": [
    "# Define the menue of Restaurant \n",
    "menu = {\n",
    "    'pizza': 60,\n",
    "    'Pasta': 40,\n",
    "    'Burger': 60,\n",
    "    'salad': 70,\n",
    "    'coffee': 80,\n",
    "}\n",
    "\n",
    "print(\"Welcome to Python Restaurant\")\n",
    "print(\"pizza: 60 Rs\\nPasta: 40 Rs\\nBurger: 60 Rs\\nsalad: 70 Rs\\ncoffee: 80 Rs\")\n",
    "\n",
    "order_total = 0\n",
    "\n",
    "while True:\n",
    "    item = input(\"Enter the item you want to order: \")\n",
    "    if item in menu:\n",
    "        order_total += menu[item]\n",
    "        print(f\"Your item {item} has been added to your order\")\n",
    "    else:\n",
    "        print(\"Sorry, we don't have that item on the menu\")\n",
    "\n",
    "    another_order = input(\"Do you want to add another item? (yes/no): \")\n",
    "    if another_order.lower() != 'yes':\n",
    "        break\n",
    "\n",
    "print(f\"The total amount to pay is {order_total}Rs\")"
   ]
  },
  {
   "cell_type": "code",
   "execution_count": 192,
   "metadata": {},
   "outputs": [
    {
     "name": "stdout",
     "output_type": "stream",
     "text": [
      "The area of the circle is: 13684.77759903714\n",
      "The perimeter of the circle is: 414.6902302738527\n"
     ]
    }
   ],
   "source": [
    "import math\n",
    "\n",
    "class Circle:\n",
    "    def __init__(self, radius):\n",
    "        self.radius = radius\n",
    "\n",
    "    def calculate_area(self):\n",
    "        \"\"\"Calculate and return the area of the circle.\"\"\"\n",
    "        return math.pi * (self.radius ** 2)\n",
    "\n",
    "    def calculate_perimeter(self):\n",
    "        \"\"\"Calculate and return the perimeter (circumference) of the circle.\"\"\"\n",
    "        return 2 * math.pi * self.radius\n",
    "\n",
    "# Create an instance of the Circle class with a specific radius\n",
    "# for user input \n",
    "radius = float(input(\"Enter the radius of the circle: \"))\n",
    "circle = Circle(radius)\n",
    "print(f\"The area of the circle is: {circle.calculate_area()}\")\n",
    "print(f\"The perimeter of the circle is: {circle.calculate_perimeter()}\")"
   ]
  },
  {
   "cell_type": "code",
   "execution_count": 194,
   "metadata": {},
   "outputs": [
    {
     "name": "stdout",
     "output_type": "stream",
     "text": [
      "Fawad\n",
      "Sharjah\n",
      "Awais\n",
      "Multlan\n"
     ]
    }
   ],
   "source": [
    "class Instructor:\n",
    "    pass\n",
    "instructor_1=Instructor()\n",
    "instructor_1.name=\"Fawad\"\n",
    "instructor_1.address= \"Sharjah\"\n",
    "print(instructor_1.name)\n",
    "print(instructor_1.address)\n",
    "\n",
    "instructor_2 = Instructor()\n",
    "instructor_2.name ='Awais'\n",
    "instructor_2.address = 'Multlan'\n",
    "print(instructor_2.name)\n",
    "print(instructor_2.address)\n"
   ]
  },
  {
   "cell_type": "code",
   "execution_count": 195,
   "metadata": {},
   "outputs": [
    {
     "data": {
      "text/plain": [
       "40.9"
      ]
     },
     "execution_count": 195,
     "metadata": {},
     "output_type": "execute_result"
    }
   ],
   "source": [
    "class Tree:\n",
    "    def __init__(self,height):\n",
    "        self.__height= height \n",
    "    \n",
    "    def get_height(self):\n",
    "        return self.__height\n",
    "    \n",
    "    def set_height(self,new_height):\n",
    "        if not isinstance(new_height,int):\n",
    "            raise TypeError(\"Tree must be an integer\")\n",
    "        if 0 < new_height <= 40:\n",
    "            self.__height = new_height\n",
    "        else:\n",
    "            raise ValueError(\"Invalid height for a pine tree\")\n",
    "    \n",
    "\n",
    "pine = Tree(40.9)\n",
    "pine.get_height()"
   ]
  },
  {
   "cell_type": "code",
   "execution_count": 196,
   "metadata": {},
   "outputs": [
    {
     "name": "stdout",
     "output_type": "stream",
     "text": [
      "Plays cricket\n",
      "I can teach\n",
      "can do research also with coding\n",
      "2\n",
      "1\n"
     ]
    }
   ],
   "source": [
    "class Human: # parent class \n",
    "    def __init__(self): # constructor  -> super poweer\n",
    "        self.num_eyes = 2  # instance variables\n",
    "        self.num_nose = 1\n",
    "        \n",
    "    def eat(self):      # methods and self is obj \n",
    "        print(\"I can eat\")\n",
    "        \n",
    "    def work(self):\n",
    "        print(\"I can teach\")\n",
    "        \n",
    "class Male(Human): # base class\n",
    "    \n",
    "    def __init__(self,name):\n",
    "        super().__init__() # super keyword to access the parent clas \n",
    "        self.name = name\n",
    "        \n",
    "    def cricket(self): \n",
    "        print(\"Plays cricket\")\n",
    "        \n",
    "    def work(self):\n",
    "        super().work() # to access the parent class \n",
    "        print(\"can do research also with coding\") \n",
    "        \n",
    "male_1=Male(\"Abraham\")  # Male_1 is a ovject \n",
    "male_1.cricket()\n",
    "male_1.work()\n",
    "print(male_1.num_eyes)\n",
    "print(male_1.num_nose)"
   ]
  },
  {
   "cell_type": "code",
   "execution_count": 198,
   "metadata": {},
   "outputs": [
    {
     "name": "stdout",
     "output_type": "stream",
     "text": [
      "No holiday on this date.\n",
      "Password must be at least 8 characters long.\n"
     ]
    }
   ],
   "source": [
    "def check_holiday(month, day):\n",
    "    holidays = {\n",
    "        (2, 5): \"Pakistan Day\",\n",
    "        (3, 23): \"Kashmir Day\",\n",
    "        (5, 1): \"Labour Day\",\n",
    "        (8, 14): \"Independence Day\",\n",
    "        (11, 9): \"Allama Iqbal Day\",\n",
    "        (12, 25): \"Quaid-e-Azam Day/Christmas\"\n",
    "    }\n",
    "    return holidays.get((month, day), \"No holiday on this date.\")\n",
    "\n",
    "def is_valid_password(password):\n",
    "    if len(password) < 8:\n",
    "        return \"Password must be at least 8 characters long.\"\n",
    "    if not any(c.islower() for c in password):\n",
    "        return \"Password must contain at least one lowercase letter.\"\n",
    "    return \"Password is valid.\"\n",
    "\n",
    "# Main program\n",
    "if __name__ == \"__main__\":\n",
    "    # Read month and day\n",
    "    month = int(input(\"Enter month (1-12): \"))\n",
    "    day = int(input(\"Enter day (1-31): \"))\n",
    "    \n",
    "    # Check for holiday\n",
    "    holiday_message = check_holiday(month, day)\n",
    "    print(holiday_message)\n",
    "\n",
    "    # Read password\n",
    "    password = input(\"Enter a password: \")\n",
    "    password_message = is_valid_password(password)\n",
    "    print(password_message)"
   ]
  },
  {
   "cell_type": "code",
   "execution_count": 200,
   "metadata": {},
   "outputs": [
    {
     "name": "stdout",
     "output_type": "stream",
     "text": [
      "The total cost of the meal including tip is: $133.0\n"
     ]
    }
   ],
   "source": [
    "def calculate_total_cost(meal_cost, tip_percentage):\n",
    "    return meal_cost + (meal_cost * tip_percentage / 100)\n",
    "\n",
    "if __name__ == \"__main__\":\n",
    "    meal_cost = float(input(\"Enter the cost of the meal: \"))\n",
    "    tip_percentage = float(input(\"Enter the tip percentage (e.g., 15 for 15%): \"))\n",
    "    \n",
    "    total_cost = calculate_total_cost(meal_cost, tip_percentage)\n",
    "    print(f\"The total cost of the meal including tip is: ${total_cost}\")"
   ]
  },
  {
   "cell_type": "code",
   "execution_count": 201,
   "metadata": {},
   "outputs": [
    {
     "name": "stdout",
     "output_type": "stream",
     "text": [
      "The shape with 4 sides is: Square\n"
     ]
    }
   ],
   "source": [
    "def determine_shape(sides):\n",
    "    shapes = {\n",
    "        3: \"Triangle\",\n",
    "        4: \"Square\",\n",
    "        5: \"Pentagon\",\n",
    "        6: \"Hexagon\",\n",
    "        7: \"Heptagon\",\n",
    "        8: \"Octagon\",\n",
    "        9: \"Nonagon\",\n",
    "        10: \"Decagon\"\n",
    "    }\n",
    "    return shapes.get(sides, \"Invalid number of sides\")\n",
    "\n",
    "if __name__ == \"__main__\":\n",
    "    sides = int(input(\"Enter the number of sides: \"))\n",
    "    shape = determine_shape(sides)\n",
    "    print(f\"The shape with {sides} sides is: {shape}\")"
   ]
  },
  {
   "cell_type": "code",
   "execution_count": 202,
   "metadata": {},
   "outputs": [
    {
     "name": "stdout",
     "output_type": "stream",
     "text": [
      "The student has been assigned to: F Class\n"
     ]
    }
   ],
   "source": [
    "def assign_class(score):\n",
    "    if score >= 90:\n",
    "        return \"A Class\"\n",
    "    elif score >= 80:\n",
    "        return \"B Class\"\n",
    "    elif score >= 70:\n",
    "        return \"C Class\"\n",
    "    elif score >= 60:\n",
    "        return \"D Class\"\n",
    "    else:\n",
    "        return \"F Class\"\n",
    "\n",
    "if __name__ == \"__main__\":\n",
    "    score = float(input(\"Enter the student's score: \"))\n",
    "    class_assigned = assign_class(score)\n",
    "    print(f\"The student has been assigned to: {class_assigned}\")"
   ]
  },
  {
   "cell_type": "code",
   "execution_count": 203,
   "metadata": {},
   "outputs": [
    {
     "name": "stdout",
     "output_type": "stream",
     "text": [
      "Employee Name: Awais\n",
      "Position: HR\n",
      "Salary: $2000.0\n"
     ]
    }
   ],
   "source": [
    "class Employee:\n",
    "    def __init__(self, name, position, salary):\n",
    "        self.name = name\n",
    "        self.position = position\n",
    "        self.salary = salary\n",
    "        \n",
    "    def display_info(self):\n",
    "        print(f\"Employee Name: {self.name}\")\n",
    "        print(f\"Position: {self.position}\")\n",
    "        print(f\"Salary: ${self.salary}\")\n",
    "\n",
    "if __name__ == \"__main__\":\n",
    "    employee_name = input(\"Enter the employee's name: \")\n",
    "    employee_position = input(\"Enter the employee's position: \")\n",
    "    employee_salary = float(input(\"Enter the employee's salary: \"))\n",
    "    \n",
    "    employee = Employee(employee_name, employee_position, employee_salary)\n",
    "    employee.display_info()"
   ]
  },
  {
   "cell_type": "markdown",
   "metadata": {},
   "source": [
    "# Advanced Projects"
   ]
  },
  {
   "cell_type": "markdown",
   "metadata": {},
   "source": [
    "# Hospital Management System"
   ]
  },
  {
   "cell_type": "code",
   "execution_count": 205,
   "metadata": {},
   "outputs": [
    {
     "name": "stdout",
     "output_type": "stream",
     "text": [
      "\n",
      "--- Hospital Management System ---\n",
      "1. Add Patient\n",
      "2. Add Doctor\n",
      "3. Schedule Appointment\n",
      "4. Add Inventory Item\n",
      "5. Display Patients\n",
      "6. Display Doctors\n",
      "7. Display Appointments\n",
      "8. Display Inventory\n",
      "9. Exit\n",
      "Patient added successfully.\n",
      "\n",
      "--- Hospital Management System ---\n",
      "1. Add Patient\n",
      "2. Add Doctor\n",
      "3. Schedule Appointment\n",
      "4. Add Inventory Item\n",
      "5. Display Patients\n",
      "6. Display Doctors\n",
      "7. Display Appointments\n",
      "8. Display Inventory\n",
      "9. Exit\n",
      "Doctor added successfully.\n",
      "\n",
      "--- Hospital Management System ---\n",
      "1. Add Patient\n",
      "2. Add Doctor\n",
      "3. Schedule Appointment\n",
      "4. Add Inventory Item\n",
      "5. Display Patients\n",
      "6. Display Doctors\n",
      "7. Display Appointments\n",
      "8. Display Inventory\n",
      "9. Exit\n",
      "Appointment scheduled successfully.\n",
      "\n",
      "--- Hospital Management System ---\n",
      "1. Add Patient\n",
      "2. Add Doctor\n",
      "3. Schedule Appointment\n",
      "4. Add Inventory Item\n",
      "5. Display Patients\n",
      "6. Display Doctors\n",
      "7. Display Appointments\n",
      "8. Display Inventory\n",
      "9. Exit\n",
      "\n",
      "Inventory:\n",
      "\n",
      "--- Hospital Management System ---\n",
      "1. Add Patient\n",
      "2. Add Doctor\n",
      "3. Schedule Appointment\n",
      "4. Add Inventory Item\n",
      "5. Display Patients\n",
      "6. Display Doctors\n",
      "7. Display Appointments\n",
      "8. Display Inventory\n",
      "9. Exit\n",
      "Exiting the system. Goodbye!\n"
     ]
    }
   ],
   "source": [
    "class Patient:\n",
    "    def __init__(self, patient_id, name, age, contact):\n",
    "        self.patient_id = patient_id\n",
    "        self.name = name\n",
    "        self.age = age\n",
    "        self.contact = contact\n",
    "\n",
    "    def __str__(self):\n",
    "        return f\"Patient[ID: {self.patient_id}, Name: {self.name}, Age: {self.age}, Contact: {self.contact}]\"\n",
    "\n",
    "\n",
    "class Doctor:\n",
    "    def __init__(self, doctor_id, name, specialty, contact):\n",
    "        self.doctor_id = doctor_id\n",
    "        self.name = name\n",
    "        self.specialty = specialty\n",
    "        self.contact = contact\n",
    "\n",
    "    def __str__(self):\n",
    "        return f\"Doctor[ID: {self.doctor_id}, Name: {self.name}, Specialty: {self.specialty}, Contact: {self.contact}]\"\n",
    "\n",
    "\n",
    "class Appointment:\n",
    "    def __init__(self, appointment_id, patient, doctor, date, time):\n",
    "        self.appointment_id = appointment_id\n",
    "        self.patient = patient\n",
    "        self.doctor = doctor\n",
    "        self.date = date\n",
    "        self.time = time\n",
    "\n",
    "    def __str__(self):\n",
    "        return f\"Appointment[ID: {self.appointment_id}, Patient: {self.patient.name}, Doctor: {self.doctor.name}, Date: {self.date}, Time: {self.time}]\"\n",
    "\n",
    "\n",
    "class InventoryItem:\n",
    "    def __init__(self, item_id, name, quantity):\n",
    "        self.item_id = item_id\n",
    "        self.name = name\n",
    "        self.quantity = quantity\n",
    "\n",
    "    def __str__(self):\n",
    "        return f\"InventoryItem[ID: {self.item_id}, Name: {self.name}, Quantity: {self.quantity}]\"\n",
    "\n",
    "\n",
    "class HospitalManagementSystem:\n",
    "    def __init__(self):\n",
    "        self.patients = {}\n",
    "        self.doctors = {}\n",
    "        self.appointments = {}\n",
    "        self.inventory = {}\n",
    "\n",
    "    def add_patient(self, patient_id, name, age, contact):\n",
    "        if patient_id in self.patients:\n",
    "            print(\"Patient already exists.\")\n",
    "        else:\n",
    "            self.patients[patient_id] = Patient(patient_id, name, age, contact)\n",
    "            print(\"Patient added successfully.\")\n",
    "\n",
    "    def add_doctor(self, doctor_id, name, specialty, contact):\n",
    "        if doctor_id in self.doctors:\n",
    "            print(\"Doctor already exists.\")\n",
    "        else:\n",
    "            self.doctors[doctor_id] = Doctor(doctor_id, name, specialty, contact)\n",
    "            print(\"Doctor added successfully.\")\n",
    "\n",
    "    def schedule_appointment(self, appointment_id, patient_id, doctor_id, date, time):\n",
    "        if appointment_id in self.appointments:\n",
    "            print(\"Appointment already exists.\")\n",
    "        elif patient_id not in self.patients:\n",
    "            print(\"Patient not found.\")\n",
    "        elif doctor_id not in self.doctors:\n",
    "            print(\"Doctor not found.\")\n",
    "        else:\n",
    "            patient = self.patients[patient_id]\n",
    "            doctor = self.doctors[doctor_id]\n",
    "            self.appointments[appointment_id] = Appointment(appointment_id, patient, doctor, date, time)\n",
    "            print(\"Appointment scheduled successfully.\")\n",
    "\n",
    "    def add_inventory_item(self, item_id, name, quantity):\n",
    "        if item_id in self.inventory:\n",
    "            self.inventory[item_id].quantity += quantity\n",
    "            print(\"Inventory updated successfully.\")\n",
    "        else:\n",
    "            self.inventory[item_id] = InventoryItem(item_id, name, quantity)\n",
    "            print(\"Inventory item added successfully.\")\n",
    "\n",
    "    def display_patients(self):\n",
    "        for patient in self.patients.values():\n",
    "            print(patient)\n",
    "\n",
    "    def display_doctors(self):\n",
    "        for doctor in self.doctors.values():\n",
    "            print(doctor)\n",
    "\n",
    "    def display_appointments(self):\n",
    "        for appointment in self.appointments.values():\n",
    "            print(appointment)\n",
    "\n",
    "    def display_inventory(self):\n",
    "        for item in self.inventory.values():\n",
    "            print(item)\n",
    "\n",
    "\n",
    "# Example Usage\n",
    "if __name__ == \"__main__\":\n",
    "    hms = HospitalManagementSystem()\n",
    "    while True:\n",
    "        print(\"\\n--- Hospital Management System ---\")\n",
    "        print(\"1. Add Patient\")\n",
    "        print(\"2. Add Doctor\")\n",
    "        print(\"3. Schedule Appointment\")\n",
    "        print(\"4. Add Inventory Item\")\n",
    "        print(\"5. Display Patients\")\n",
    "        print(\"6. Display Doctors\")\n",
    "        print(\"7. Display Appointments\")\n",
    "        print(\"8. Display Inventory\")\n",
    "        print(\"9. Exit\")\n",
    "        choice = input(\"Enter your choice: \").strip()\n",
    "\n",
    "        if choice == '1':\n",
    "            patient_id = int(input(\"Enter Patient ID: \"))\n",
    "            name = input(\"Enter Patient Name: \").strip()\n",
    "            age = int(input(\"Enter Patient Age: \"))\n",
    "            contact = input(\"Enter Patient Contact: \").strip()\n",
    "            hms.add_patient(patient_id, name, age, contact)\n",
    "        elif choice == '2':\n",
    "            doctor_id = int(input(\"Enter Doctor ID: \"))\n",
    "            name = input(\"Enter Doctor Name: \").strip()\n",
    "            specialty = input(\"Enter Doctor Specialty: \").strip()\n",
    "            contact = input(\"Enter Doctor Contact: \").strip()\n",
    "            hms.add_doctor(doctor_id, name, specialty, contact)\n",
    "        elif choice == '3':\n",
    "            appointment_id = int(input(\"Enter Appointment ID: \"))\n",
    "            patient_id = int(input(\"Enter Patient ID: \"))\n",
    "            doctor_id = int(input(\"Enter Doctor ID: \"))\n",
    "            date = input(\"Enter Appointment Date (YYYY-MM-DD): \").strip()\n",
    "            time = input(\"Enter Appointment Time (HH:MM AM/PM): \").strip()\n",
    "            hms.schedule_appointment(appointment_id, patient_id, doctor_id, date, time)\n",
    "        elif choice == '4':\n",
    "            item_id = int(input(\"Enter Inventory Item ID: \"))\n",
    "            name = input(\"Enter Item Name: \").strip()\n",
    "            quantity = int(input(\"Enter Quantity: \"))\n",
    "            hms.add_inventory_item(item_id, name, quantity)\n",
    "        elif choice == '5':\n",
    "            print(\"\\nPatients:\")\n",
    "            hms.display_patients()\n",
    "        elif choice == '6':\n",
    "            print(\"\\nDoctors:\")\n",
    "            hms.display_doctors()\n",
    "        elif choice == '7':\n",
    "            print(\"\\nAppointments:\")\n",
    "            hms.display_appointments()\n",
    "        elif choice == '8':\n",
    "            print(\"\\nInventory:\")\n",
    "            hms.display_inventory()\n",
    "        elif choice == '9':\n",
    "            print(\"Exiting the system. Goodbye!\")\n",
    "            break\n",
    "        else:\n",
    "            print(\"Invalid choice. Please try again.\")\n"
   ]
  },
  {
   "cell_type": "markdown",
   "metadata": {},
   "source": [
    "# Student Management System project\n"
   ]
  },
  {
   "cell_type": "code",
   "execution_count": 204,
   "metadata": {},
   "outputs": [
    {
     "name": "stdout",
     "output_type": "stream",
     "text": [
      "Roll Number: 111, Name: Awais, Grades: 4\n",
      "Updated grades for Awais: 5\n"
     ]
    }
   ],
   "source": [
    "# Student Management System\n",
    "\"\"\"A system that manages student information, including name, roll number, grades, and class assignments. The system should allow adding, updating, and viewing student details.\"\"\"\n",
    "class Student:\n",
    "    def __init__(self, roll_number, name, grades):\n",
    "        self.roll_number = roll_number\n",
    "        self.name = name\n",
    "        self.grades = grades\n",
    "\n",
    "    def display_info(self):\n",
    "        return f\"Roll Number: {self.roll_number}, Name: {self.name}, Grades: {self.grades}\"\n",
    "\n",
    "    def update_grades(self, new_grades):\n",
    "        self.grades = new_grades\n",
    "        print(f\"Updated grades for {self.name}: {self.grades}\")\n",
    "\n",
    "def manage_students():\n",
    "    students = []\n",
    "    while True:\n",
    "        choice = input(\"Choose an option: (1) Add Student (2) View Students (3) Update Grades (4) Exit: \")\n",
    "        if choice == '1':\n",
    "            roll_number = input(\"Enter roll number: \")\n",
    "            name = input(\"Enter name: \")\n",
    "            grades = input(\"Enter grades: \")\n",
    "            student = Student(roll_number, name, grades)\n",
    "            students.append(student)\n",
    "        elif choice == '2':\n",
    "            for student in students:\n",
    "                print(student.display_info())\n",
    "        elif choice == '3':\n",
    "            roll_number = input(\"Enter roll number to update grades: \")\n",
    "            for student in students:\n",
    "                if student.roll_number == roll_number:\n",
    "                    new_grades = input(f\"Enter new grades for {student.name}: \")\n",
    "                    student.update_grades(new_grades)\n",
    "        elif choice == '4':\n",
    "            break\n",
    "        else:\n",
    "            print(\"Invalid option. Please try again.\")\n",
    "\n",
    "# Test the Student Management System\n",
    "if __name__ == \"__main__\":\n",
    "    manage_students()\n",
    "\n"
   ]
  },
  {
   "cell_type": "markdown",
   "metadata": {},
   "source": [
    "#  Library Management System\n"
   ]
  },
  {
   "cell_type": "code",
   "execution_count": 206,
   "metadata": {},
   "outputs": [
    {
     "name": "stdout",
     "output_type": "stream",
     "text": [
      "Harry Potter by J.K. Rowling (Available)\n",
      "To Kill a Mockingbird by Harper Lee (Available)\n",
      "1984 by George Orwell (Available)\n",
      "Harry Potter by J.K. Rowling (Available)\n",
      "To Kill a Mockingbird by Harper Lee (Available)\n",
      "1984 by George Orwell (Available)\n",
      "Book 1984 issued.\n",
      "Book 1984 returned.\n"
     ]
    }
   ],
   "source": [
    "\"\"\" Library Management System\n",
    "This system helps in managing a library by keeping track of books, issuing them, and allowing users to return books.\"\"\"\n",
    "class Book:\n",
    "    def __init__(self, title, author, book_id):\n",
    "        self.title = title\n",
    "        self.author = author\n",
    "        self.book_id = book_id\n",
    "        self.is_issued = False # using Abstraction method \n",
    "\n",
    "    def issue_book(self):\n",
    "        if not self.is_issued:\n",
    "            self.is_issued = True\n",
    "            print(f\"Book {self.title} issued.\")\n",
    "        else:\n",
    "            print(f\"Book {self.title} is already issued.\")\n",
    "\n",
    "    def return_book(self):\n",
    "        if self.is_issued:\n",
    "            self.is_issued = False\n",
    "            print(f\"Book {self.title} returned.\")\n",
    "        else:\n",
    "            print(f\"Book {self.title} was not issued.\")\n",
    "\n",
    "def manage_library():\n",
    "    books = []\n",
    "    books.append(Book(\"Harry Potter\", \"J.K. Rowling\", 1))\n",
    "    books.append(Book(\"To Kill a Mockingbird\", \"Harper Lee\", 2))\n",
    "    books.append(Book(\"1984\", \"George Orwell\", 3))\n",
    "\n",
    "    while True:\n",
    "        choice = input(\"Choose an option: (1) View Books (2) Issue Book (3) Return Book (4) Exit: \")\n",
    "        if choice == '1':\n",
    "            for book in books:\n",
    "                status = \"Issued\" if book.is_issued else \"Available\"\n",
    "                print(f\"{book.title} by {book.author} ({status})\")\n",
    "        elif choice == '2':\n",
    "            book_id = int(input(\"Enter book ID to issue: \"))\n",
    "            for book in books:\n",
    "                if book.book_id == book_id:\n",
    "                    book.issue_book()\n",
    "                    break\n",
    "            else:\n",
    "                print(\"Book not found.\")\n",
    "        elif choice == '3':\n",
    "            book_id = int(input(\"Enter book ID to return: \"))\n",
    "            for book in books:\n",
    "                if book.book_id == book_id:\n",
    "                    book.return_book()\n",
    "                    break\n",
    "            else:\n",
    "                print(\"Book not found.\")\n",
    "        elif choice == '4':\n",
    "            break\n",
    "        else:\n",
    "            print(\"Invalid option. Please try again.\")\n",
    "\n",
    "# Test the Library Management System\n",
    "if __name__ == \"__main__\":\n",
    "    manage_library()\n"
   ]
  },
  {
   "cell_type": "markdown",
   "metadata": {},
   "source": [
    "#  Simple Calculator"
   ]
  },
  {
   "cell_type": "code",
   "execution_count": 208,
   "metadata": {},
   "outputs": [
    {
     "name": "stdout",
     "output_type": "stream",
     "text": [
      "Simple Calculator:\n",
      "1. Add\n",
      "2. Subtract\n",
      "3. Multiply\n",
      "4. Divide\n",
      "The result of addition is: 55.0\n"
     ]
    }
   ],
   "source": [
    "# Define the Calculator class\n",
    "class Calculator:\n",
    "    def __init__(self):\n",
    "        pass\n",
    "\n",
    "    # Method for addition\n",
    "    def add(self, num1, num2):\n",
    "        return num1 + num2\n",
    "\n",
    "    # Method for subtraction\n",
    "    def subtract(self, num1, num2):\n",
    "        return num1 - num2\n",
    "\n",
    "    # Method for multiplication\n",
    "    def multiply(self, num1, num2):\n",
    "        return num1 * num2\n",
    "\n",
    "    # Method for division\n",
    "    def divide(self, num1, num2):\n",
    "        if num2 == 0:\n",
    "            return \"Error: Division by zero\"\n",
    "        else:\n",
    "            return num1 / num2\n",
    "\n",
    "\n",
    "# Main code to use the Calculator class\n",
    "def main():\n",
    "    calc = Calculator()\n",
    "\n",
    "    # Get user input\n",
    "    print(\"Simple Calculator:\")\n",
    "    print(\"1. Add\")\n",
    "    print(\"2. Subtract\")\n",
    "    print(\"3. Multiply\")\n",
    "    print(\"4. Divide\")\n",
    "\n",
    "\n",
    "\n",
    "    # Choose operation\n",
    "    choice = int(input(\"Enter the operation number (1/2/3/4): \"))\n",
    "\n",
    "    num1 = float(input(\"Enter first number: \"))\n",
    "    num2 = float(input(\"Enter second number: \"))\n",
    "\n",
    "    # Perform the chosen operation\n",
    "    if choice == 1:\n",
    "        result = calc.add(num1, num2)\n",
    "        print(f\"The result of addition is: {result}\")\n",
    "    elif choice == 2:\n",
    "        result = calc.subtract(num1, num2)\n",
    "        print(f\"The result of subtraction is: {result}\")\n",
    "    elif choice == 3:\n",
    "        result = calc.multiply(num1, num2)\n",
    "        print(f\"The result of multiplication is: {result}\")\n",
    "    elif choice == 4:\n",
    "        result = calc.divide(num1, num2)\n",
    "        print(f\"The result of division is: {result}\")\n",
    "    else:\n",
    "        print(\"Invalid choice\")\n",
    "\n",
    "# Run the program\n",
    "if __name__ == \"__main__\":\n",
    "    main()\n"
   ]
  },
  {
   "cell_type": "markdown",
   "metadata": {},
   "source": [
    "#  Simple Bank Account System\n"
   ]
  },
  {
   "cell_type": "code",
   "execution_count": 210,
   "metadata": {},
   "outputs": [
    {
     "name": "stdout",
     "output_type": "stream",
     "text": [
      "Deposited 10000.0. New balance: 10000.0\n",
      "Withdrew 2000.0. New balance: 8000.0\n",
      "Current balance: 8000.0\n"
     ]
    }
   ],
   "source": [
    "class BankAccount:\n",
    "    def __init__(self, holder_name, balance=0):\n",
    "        self.holder_name = holder_name\n",
    "        self.balance = balance\n",
    "\n",
    "    def deposit(self, amount):\n",
    "        self.balance += amount\n",
    "        print(f\"Deposited {amount}. New balance: {self.balance}\")\n",
    "\n",
    "    def withdraw(self, amount):\n",
    "        if amount <= self.balance:\n",
    "            self.balance -= amount\n",
    "            print(f\"Withdrew {amount}. New balance: {self.balance}\")\n",
    "        else:\n",
    "            print(\"Insufficient funds.\")\n",
    "\n",
    "    def check_balance(self):\n",
    "        print(f\"Current balance: {self.balance}\")\n",
    "\n",
    "def bank_system():\n",
    "    name = input(\"Enter your name: \")\n",
    "    account = BankAccount(name)\n",
    "    while True:\n",
    "        choice = input(\"Choose an option: (1) Deposit (2) Withdraw (3) Check Balance (4) Exit: \")\n",
    "        if choice == '1':\n",
    "            amount = float(input(\"Enter amount to deposit: \"))\n",
    "            account.deposit(amount)\n",
    "        elif choice == '2':\n",
    "            amount = float(input(\"Enter amount to withdraw: \"))\n",
    "            account.withdraw(amount)\n",
    "        elif choice == '3':\n",
    "            account.check_balance()\n",
    "        elif choice == '4':\n",
    "            break\n",
    "        else:\n",
    "            print(\"Invalid option. Please try again.\")\n",
    "\n",
    "# Test the Simple Bank Account System\n",
    "if __name__ == \"__main__\":\n",
    "    bank_system()\n"
   ]
  },
  {
   "cell_type": "markdown",
   "metadata": {},
   "source": [
    "#  Currency Converter"
   ]
  },
  {
   "cell_type": "code",
   "execution_count": 211,
   "metadata": {},
   "outputs": [
    {
     "name": "stdout",
     "output_type": "stream",
     "text": [
      "2000.0 USD = 149860.0 INR\n"
     ]
    }
   ],
   "source": [
    "def convert_currency(amount, from_currency, to_currency):\n",
    "    rates = {\n",
    "        'USD': {'EUR': 0.85, 'INR': 74.93, 'GBP': 0.74},\n",
    "        'EUR': {'USD': 1.18, 'INR': 88.04, 'GBP': 0.87},\n",
    "        'INR': {'USD': 0.013, 'EUR': 0.011, 'GBP': 0.010},\n",
    "        'GBP': {'USD': 1.35, 'EUR': 1.15, 'INR': 100.55}\n",
    "    }\n",
    "    if from_currency == to_currency:\n",
    "        return amount\n",
    "    try:\n",
    "        return amount * rates[from_currency][to_currency]\n",
    "    except KeyError:\n",
    "        return \"Conversion rate not available.\"\n",
    "\n",
    "def currency_converter():\n",
    "    amount = float(input(\"Enter amount: \"))\n",
    "    from_currency = input(\"Enter the currency to convert from (USD, EUR, INR, GBP): \").upper()\n",
    "    to_currency = input(\"Enter the currency to convert to (USD, EUR, INR, GBP): \").upper()\n",
    "    converted_amount = convert_currency(amount, from_currency, to_currency)\n",
    "    print(f\"{amount} {from_currency} = {converted_amount} {to_currency}\")\n",
    "\n",
    "# Test the Currency Converter\n",
    "if __name__ == \"__main__\":\n",
    "    currency_converter()\n"
   ]
  },
  {
   "cell_type": "markdown",
   "metadata": {},
   "source": [
    "# 10.Email Slicer"
   ]
  },
  {
   "cell_type": "code",
   "execution_count": 213,
   "metadata": {},
   "outputs": [
    {
     "name": "stdout",
     "output_type": "stream",
     "text": [
      "\n",
      "Email Client Menu:\n",
      "1. Send an email\n",
      "2. View sent emails\n",
      "3. Exit\n",
      "Email sent successfully!\n",
      "\n",
      "Email Client Menu:\n",
      "1. Send an email\n",
      "2. View sent emails\n",
      "3. Exit\n",
      "Exiting the application.\n"
     ]
    }
   ],
   "source": [
    "class Email:\n",
    "    def __init__(self, sender, recipient, subject, body):\n",
    "        self.sender = sender\n",
    "        self.recipient = recipient\n",
    "        self.subject = subject\n",
    "        self.body = body\n",
    "\n",
    "    def __str__(self):\n",
    "        return f\"From: {self.sender}\\nTo: {self.recipient}\\nSubject: {self.subject}\\nBody: {self.body}\\n\"\n",
    "\n",
    "class EmailClient:\n",
    "    def __init__(self):\n",
    "        self.emails = []\n",
    "\n",
    "    def send_email(self, email):\n",
    "        self.emails.append(email)\n",
    "        print(\"Email sent successfully!\")\n",
    "\n",
    "    def get_emails(self):\n",
    "        if not self.emails:\n",
    "            print(\"No emails found.\")\n",
    "        else:\n",
    "            for idx, email in enumerate(self.emails, 1):\n",
    "                print(f\"Email {idx}:\\n{email}\")\n",
    "\n",
    "\n",
    "def email_client_app():\n",
    "    client = EmailClient()\n",
    "\n",
    "    while True:\n",
    "        print(\"\\nEmail Client Menu:\")\n",
    "        print(\"1. Send an email\")\n",
    "        print(\"2. View sent emails\")\n",
    "        print(\"3. Exit\")\n",
    "\n",
    "        choice = input(\"Enter your choice: \")\n",
    "\n",
    "        if choice == \"1\":\n",
    "            sender = input(\"Enter sender's email: \")\n",
    "            recipient = input(\"Enter recipient's email: \")\n",
    "            subject = input(\"Enter email subject: \")\n",
    "            body = input(\"Enter email body: \")\n",
    "\n",
    "            email = Email(sender, recipient, subject, body)\n",
    "            client.send_email(email)\n",
    "\n",
    "        elif choice == \"2\":\n",
    "            client.get_emails()\n",
    "\n",
    "        elif choice == \"3\":\n",
    "            print(\"Exiting the application.\")\n",
    "            break\n",
    "\n",
    "        else:\n",
    "            print(\"Invalid choice. Please try again.\")\n",
    "\n",
    "# Run the application\n",
    "if __name__ == \"__main__\":\n",
    "    email_client_app()\n"
   ]
  },
  {
   "cell_type": "code",
   "execution_count": 214,
   "metadata": {},
   "outputs": [
    {
     "name": "stdout",
     "output_type": "stream",
     "text": [
      "Requirement already satisfied: emoji in c:\\users\\hp\\appdata\\local\\programs\\python\\python312\\lib\\site-packages (2.14.0)\n",
      "Note: you may need to restart the kernel to use updated packages.\n"
     ]
    },
    {
     "name": "stderr",
     "output_type": "stream",
     "text": [
      "\n",
      "[notice] A new release of pip is available: 24.0 -> 25.2\n",
      "[notice] To update, run: python.exe -m pip install --upgrade pip\n"
     ]
    }
   ],
   "source": [
    "pip install emoji\n"
   ]
  },
  {
   "cell_type": "code",
   "execution_count": 215,
   "metadata": {},
   "outputs": [
    {
     "name": "stdout",
     "output_type": "stream",
     "text": [
      "Python is 😀\n"
     ]
    }
   ],
   "source": [
    "import emoji\n",
    "print(emoji.emojize('Python is :grinning_face:'))"
   ]
  },
  {
   "cell_type": "markdown",
   "metadata": {},
   "source": [
    "# File Handeling "
   ]
  },
  {
   "cell_type": "code",
   "execution_count": 216,
   "metadata": {},
   "outputs": [],
   "source": [
    "\"\"\"Types of data used for I/O:\n",
    "Text - '12345' as a sequence of unicode chars\n",
    "Binary - 12345 as a sequence of bytes of its binary equivalent\n",
    "Hence there are 2 file types to deal with\n",
    "Text files - All program files are text files\n",
    "Binary Files - Images,music,video,exe files\"\"\"\n",
    "#How File I/O is done in most programming languages\n",
    "#Open a file\n",
    "#Read/Write data\n",
    "#Close the file\n",
    "#Writing to a file\n",
    "# case 1 - if the file is not present\n",
    "f = open('sample.txt','w')\n",
    "f.write('Hello world')\n",
    "f.close()"
   ]
  },
  {
   "cell_type": "code",
   "execution_count": 217,
   "metadata": {},
   "outputs": [],
   "source": [
    "# write multiline strings\n",
    "f = open('sample1.txt','w')\n",
    "f.write('hello world')\n",
    "f.write('\\nhow are you?')\n",
    "f.close()"
   ]
  },
  {
   "cell_type": "code",
   "execution_count": 13,
   "metadata": {},
   "outputs": [],
   "source": [
    "# case 2 - if the file is already present\n",
    "f = open('sample.txt','w')\n",
    "f.write('Awais Manzoor')\n",
    "f.close()"
   ]
  },
  {
   "cell_type": "code",
   "execution_count": 14,
   "metadata": {},
   "outputs": [
    {
     "name": "stdout",
     "output_type": "stream",
     "text": [
      "Awais Manzoor\n"
     ]
    }
   ],
   "source": [
    "# reading from files\n",
    "# -> using read()\n",
    "f = open(\"sample.txt\", \"r\")  \n",
    "s = f.read()\n",
    "print(s)\n",
    "f.close()"
   ]
  },
  {
   "cell_type": "code",
   "execution_count": 15,
   "metadata": {},
   "outputs": [
    {
     "name": "stdout",
     "output_type": "stream",
     "text": [
      "Awais Manz\n"
     ]
    }
   ],
   "source": [
    "# reading upto n chars\n",
    "f = open(\"sample.txt\", \"r\")  \n",
    "s = f.read(10)\n",
    "print(s)\n",
    "f.close()"
   ]
  },
  {
   "cell_type": "code",
   "execution_count": 16,
   "metadata": {},
   "outputs": [
    {
     "name": "stdout",
     "output_type": "stream",
     "text": [
      "Awais Manzoor"
     ]
    }
   ],
   "source": [
    "# readline() -> to read line by line\n",
    "f = open(\"sample.txt\", \"r\")  \n",
    "print(f.readline(),end='')\n",
    "print(f.readline(),end='')\n",
    "f.close()"
   ]
  },
  {
   "cell_type": "code",
   "execution_count": 17,
   "metadata": {},
   "outputs": [
    {
     "name": "stdout",
     "output_type": "stream",
     "text": [
      "Awais Manzoor"
     ]
    }
   ],
   "source": [
    "# reading entire using readline\n",
    "f = open(\"sample.txt\", \"r\")  \n",
    "\n",
    "while True:\n",
    "\n",
    "  data = f.readline()\n",
    "\n",
    "  if data == '':\n",
    "    break\n",
    "  else:\n",
    "    print(data,end='')\n",
    "\n",
    "f.close()"
   ]
  },
  {
   "cell_type": "code",
   "execution_count": 20,
   "metadata": {},
   "outputs": [],
   "source": [
    "\"\"\"Using Context Manager (With)\n",
    "It's a good idea to close a file after usage as it will free up the resources\n",
    "If we dont close it, garbage collector would close it\n",
    "with keyword closes the file as soon as the usage is over\"\"\"\n",
    "# with\n",
    "with open('sample.txt','w') as f:\n",
    "  f.write('Awais')\n",
    "  "
   ]
  },
  {
   "cell_type": "code",
   "execution_count": 22,
   "metadata": {},
   "outputs": [
    {
     "name": "stdout",
     "output_type": "stream",
     "text": [
      "Awais\n"
     ]
    }
   ],
   "source": [
    "# try f.read() now\n",
    "with open('sample.txt','r') as f:\n",
    "  print(f.readline())"
   ]
  },
  {
   "cell_type": "code",
   "execution_count": 23,
   "metadata": {},
   "outputs": [
    {
     "name": "stdout",
     "output_type": "stream",
     "text": [
      "Awais\n",
      "\n",
      "\n",
      "\n"
     ]
    }
   ],
   "source": [
    "# moving within a file -> 10 char then 10 char\n",
    "with open('sample.txt','r') as f:\n",
    "  print(f.read(10))\n",
    "  print(f.read(10))\n",
    "  print(f.read(10))\n",
    "  print(f.read(10))"
   ]
  },
  {
   "cell_type": "code",
   "execution_count": 24,
   "metadata": {},
   "outputs": [],
   "source": [
    "# benefit? -> to load a big file in memory\n",
    "big_L = ['hello world ' for i in range(1000)]\n",
    "\n",
    "with open('big.txt','w') as f:\n",
    "  f.writelines(big_L)"
   ]
  },
  {
   "cell_type": "code",
   "execution_count": 25,
   "metadata": {},
   "outputs": [
    {
     "name": "stdout",
     "output_type": "stream",
     "text": [
      "d hello wo***o world he***d hello wo***o world he***d hello wo***o world he***d hello wo***o world he***d hello wo***o world he***d hello wo***o world he***d hello wo***o world he***d hello wo***o world he***d hello wo***o world he***d hello wo***o world he***d hello wo***o world he***d hello wo***o world he***d hello wo***o world he***d hello wo***o world he***d hello wo***o world he***d hello wo***o world he***d hello wo***o world he***d hello wo***o world he***d hello wo***o world he***d hello wo***o world he***d hello wo***o world he***d hello wo***o world he***d hello wo***o world he***d hello wo***o world he***d hello wo***o world he***d hello wo***o world he***d hello wo***o world he***d hello wo***o world he***d hello wo***o world he***d hello wo***o world he***d hello wo***o world he***d hello wo***o world he***d hello wo***o world he***d hello wo***o world he***d hello wo***o world he***d hello wo***o world he***d hello wo***o world he***d hello wo***o world he***d hello wo***o world he***d hello wo***o world he***d hello wo***o world he***d hello wo***o world he***d hello wo***o world he***d hello wo***o world he***d hello wo***o world he***d hello wo***o world he***d hello wo***o world he***d hello wo***o world he***d hello wo***o world he***d hello wo***o world he***d hello wo***o world he***d hello wo***o world he***d hello wo***o world he***d hello wo***o world he***d hello wo***o world he***d hello wo***o world he***d hello wo***o world he***d hello wo***o world he***d hello wo***o world he***d hello wo***o world he***d hello wo***o world he***d hello wo***o world he***d hello wo***o world he***d hello wo***o world he***d hello wo***o world he***d hello wo***o world he***d hello wo***o world he***d hello wo***o world he***d hello wo***o world he***d hello wo***o world he***d hello wo***o world he***d hello wo***o world he***d hello wo***o world he***d hello wo***o world he***d hello wo***o world he***d hello wo***o world he***d hello wo***o world he***d hello wo***o world he***d hello wo***o world he***d hello wo***o world he***d hello wo***o world he***d hello wo***o world he***d hello wo***o world he***d hello wo***o world he***d hello wo***o world he***d hello wo***o world he***d hello wo***o world he***d hello wo***o world he***d hello wo***o world he***d hello wo***o world he***d hello wo***o world he***d hello wo***o world he***d hello wo***o world he***d hello wo***o world he***d hello wo***o world he***d hello wo***o world he***d hello wo***o world he***d hello wo***o world he***d hello wo***o world he***d hello wo***o world he***d hello wo***o world he***d hello wo***o world he***d hello wo***o world he***d hello wo***o world he***d hello wo***o world he***d hello wo***o world he***d hello wo***o world he***d hello wo***o world he***d hello wo***o world he***d hello wo***o world he***d hello wo***o world he***d hello wo***o world he***d hello wo***o world he***d hello wo***o world he***d hello wo***o world he***d hello wo***o world he***d hello wo***o world he***d hello wo***o world he***d hello wo***o world he***d hello wo***o world he***d hello wo***o world he***d hello wo***o world he***d hello wo***o world he***d hello wo***o world he***d hello wo***o world he***d hello wo***o world he***d hello wo***o world he***d hello wo***o world he***d hello wo***o world he***d hello wo***o world he***d hello wo***o world he***d hello wo***o world he***d hello wo***o world he***d hello wo***o world he***d hello wo***o world he***d hello wo***o world he***d hello wo***o world he***d hello wo***o world he***d hello wo***o world he***d hello wo***o world he***d hello wo***o world he***d hello wo***o world he***d hello wo***o world he***d hello wo***o world he***d hello wo***o world he***d hello wo***o world he***d hello wo***o world he***d hello wo***o world he***d hello wo***o world he***d hello wo***o world he***d hello wo***o world he***d hello wo***o world he***d hello wo***o world he***d hello wo***o world he***d hello wo***o world he***d hello wo***o world he***d hello wo***o world he***d hello wo***o world he***d hello wo***o world he***d hello wo***o world he***d hello wo***o world he***d hello wo***o world he***d hello wo***o world he***d hello wo***o world he***d hello wo***o world he***d hello wo***o world he***d hello wo***o world he***d hello wo***o world he***d hello wo***o world he***d hello wo***o world he***d hello wo***o world he***d hello wo***o world he***d hello wo***o world he***d hello wo***o world he***d hello wo***o world he***d hello wo***o world he***d hello wo***o world he***d hello wo***o world he***d hello wo***o world he***d hello wo***o world he***d hello wo***o world he***d hello wo***o world he***d hello wo***o world he***d hello wo***o world he***d hello wo***o world he***d hello wo***o world he***d hello wo***o world he***d hello wo***o world he***d hello wo***o world he***d hello wo***o world he***d hello wo***o world he***d hello wo***o world he***d hello wo***o world he***d hello wo***o world he***d hello wo***o world he***d hello wo***o world he***d hello wo***o world he***d hello wo***o world he***d hello wo***o world he***d hello wo***o world he***"
     ]
    }
   ],
   "source": [
    "with open('big.txt','r') as f:\n",
    "\n",
    "  chunk_size = 10\n",
    "\n",
    "  while len(f.read(chunk_size)) > 0:\n",
    "    print(f.read(chunk_size),end='***')\n",
    "    f.read(chunk_size)"
   ]
  },
  {
   "cell_type": "code",
   "execution_count": 26,
   "metadata": {},
   "outputs": [
    {
     "name": "stdout",
     "output_type": "stream",
     "text": [
      "\n",
      "15\n",
      "\n",
      "15\n"
     ]
    }
   ],
   "source": [
    "# seek and tell function\n",
    "with open('sample.txt','r') as f:\n",
    "  f.seek(15)\n",
    "  print(f.read(10))\n",
    "  print(f.tell())\n",
    "  \n",
    "  print(f.read(10))\n",
    "  print(f.tell())"
   ]
  },
  {
   "cell_type": "code",
   "execution_count": 27,
   "metadata": {},
   "outputs": [],
   "source": [
    "# seek during write\n",
    "with open('sample.txt','w') as f:\n",
    "  f.write('Hello')\n",
    "  f.seek(0)\n",
    "  f.write('Xa')"
   ]
  },
  {
   "cell_type": "code",
   "execution_count": 29,
   "metadata": {},
   "outputs": [],
   "source": [
    "with open('sample.txt','w') as f:\n",
    "  f.write('5')"
   ]
  },
  {
   "cell_type": "markdown",
   "metadata": {},
   "source": [
    "# json Serialization and Deserialization"
   ]
  },
  {
   "cell_type": "code",
   "execution_count": 30,
   "metadata": {},
   "outputs": [],
   "source": [
    "#Serialization - process of converting python data types to JSON format\n",
    "#Deserialization - process of converting JSON to python data types\n",
    "# serialization using json module\n",
    "# list\n",
    "import json\n",
    "\n",
    "L = [1,2,3,4]\n",
    "\n",
    "with open('demo.json','w') as f:\n",
    "  json.dump(L,f)"
   ]
  },
  {
   "cell_type": "code",
   "execution_count": 31,
   "metadata": {},
   "outputs": [],
   "source": [
    "# dict\n",
    "d = {\n",
    "    'name':'nitish',\n",
    "     'age':33,\n",
    "     'gender':'male'\n",
    "}\n",
    "\n",
    "with open('demo.json','w') as f:\n",
    "  json.dump(d,f,indent=4)"
   ]
  },
  {
   "cell_type": "code",
   "execution_count": 32,
   "metadata": {},
   "outputs": [
    {
     "name": "stdout",
     "output_type": "stream",
     "text": [
      "{'name': 'nitish', 'age': 33, 'gender': 'male'}\n",
      "<class 'dict'>\n"
     ]
    }
   ],
   "source": [
    "# deserialization\n",
    "import json\n",
    "\n",
    "with open('demo.json','r') as f:\n",
    "  d = json.load(f)\n",
    "  print(d)\n",
    "  print(type(d))"
   ]
  },
  {
   "cell_type": "code",
   "execution_count": 33,
   "metadata": {},
   "outputs": [],
   "source": [
    "class Person:\n",
    "\n",
    "  def __init__(self,fname,lname,age,gender):\n",
    "    self.fname = fname\n",
    "    self.lname = lname\n",
    "    self.age = age\n",
    "    self.gender = gender\n",
    "\n",
    "# format to printed in\n",
    "# -> Nitish Singh age -> 33 gender -> male\n",
    "person = Person('Nitish','Singh',33,'male')"
   ]
  },
  {
   "cell_type": "code",
   "execution_count": 34,
   "metadata": {},
   "outputs": [],
   "source": [
    "# As a string\n",
    "import json\n",
    "\n",
    "def show_object(person):\n",
    "  if isinstance(person,Person):\n",
    "    return \"{} {} age -> {} gender -> {}\".format(person.fname,person.lname,person.age,person.gender)\n",
    "\n",
    "with open('demo.json','w') as f:\n",
    "  json.dump(person,f,default=show_object)"
   ]
  },
  {
   "cell_type": "code",
   "execution_count": 35,
   "metadata": {},
   "outputs": [],
   "source": [
    "# As a dict\n",
    "import json\n",
    "\n",
    "def show_object(person):\n",
    "  if isinstance(person,Person):\n",
    "    return {'name':person.fname + ' ' + person.lname,'age':person.age,'gender':person.gender}\n",
    "\n",
    "with open('demo.json','w') as f:\n",
    "  json.dump(person,f,default=show_object,indent=4)"
   ]
  },
  {
   "cell_type": "code",
   "execution_count": 36,
   "metadata": {},
   "outputs": [
    {
     "name": "stdout",
     "output_type": "stream",
     "text": [
      "{'name': 'Nitish Singh', 'age': 33, 'gender': 'male'}\n",
      "<class 'dict'>\n"
     ]
    }
   ],
   "source": [
    "# deserializing\n",
    "import json\n",
    "\n",
    "with open('demo.json','r') as f:\n",
    "  d = json.load(f)\n",
    "  print(d)\n",
    "  print(type(d))"
   ]
  },
  {
   "cell_type": "markdown",
   "metadata": {},
   "source": [
    "# Pickling"
   ]
  },
  {
   "cell_type": "code",
   "execution_count": 37,
   "metadata": {},
   "outputs": [],
   "source": [
    "#Pickling` is the process whereby a Python object hierarchy is converted into a byte stream, and `unpickling` is the inverse operation, whereby a byte stream (from a binary file or bytes-like object) is converted back into an object hierarchy.\n",
    "class Person:\n",
    "\n",
    "  def __init__(self,name,age):\n",
    "    self.name = name\n",
    "    self.age = age\n",
    "\n",
    "  def display_info(self):\n",
    "    print('Hi my name is',self.name,'and I am ',self.age,'years old')"
   ]
  },
  {
   "cell_type": "code",
   "execution_count": 39,
   "metadata": {},
   "outputs": [],
   "source": [
    "p = Person('Awais',33)"
   ]
  },
  {
   "cell_type": "code",
   "execution_count": 40,
   "metadata": {},
   "outputs": [],
   "source": [
    "# pickle dump\n",
    "import pickle\n",
    "with open('person.pkl','wb') as f:\n",
    "  pickle.dump(p,f)"
   ]
  },
  {
   "cell_type": "code",
   "execution_count": 41,
   "metadata": {},
   "outputs": [
    {
     "name": "stdout",
     "output_type": "stream",
     "text": [
      "Hi my name is Awais and I am  33 years old\n"
     ]
    }
   ],
   "source": [
    "# pickle load\n",
    "import pickle\n",
    "with open('person.pkl','rb') as f:\n",
    "  p = pickle.load(f)\n",
    "\n",
    "p.display_info()"
   ]
  },
  {
   "cell_type": "code",
   "execution_count": 42,
   "metadata": {},
   "outputs": [],
   "source": [
    "#Pickle Vs Json\n",
    "#Pickle lets the user to store data in binary format. \n",
    "# JSON lets the user store data in a human-readable text format."
   ]
  },
  {
   "cell_type": "markdown",
   "metadata": {},
   "source": [
    "# Awais Manzoor\n",
    "## Data Analyst"
   ]
  },
  {
   "cell_type": "markdown",
   "metadata": {},
   "source": []
  }
 ],
 "metadata": {
  "kernelspec": {
   "display_name": "Python 3",
   "language": "python",
   "name": "python3"
  },
  "language_info": {
   "codemirror_mode": {
    "name": "ipython",
    "version": 3
   },
   "file_extension": ".py",
   "mimetype": "text/x-python",
   "name": "python",
   "nbconvert_exporter": "python",
   "pygments_lexer": "ipython3",
   "version": "3.12.2"
  }
 },
 "nbformat": 4,
 "nbformat_minor": 2
}
